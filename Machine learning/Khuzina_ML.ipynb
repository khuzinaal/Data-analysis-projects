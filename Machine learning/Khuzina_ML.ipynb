{
 "cells": [
  {
   "cell_type": "markdown",
   "metadata": {},
   "source": [
    "# Описание проекта\n",
    "Цель этого проекта - анализ оттока клиентов фитнес-клуба и разработка рекомендаций по их удержанию. Факт оттока в фитнес-клубе определяется как отсутствие походов в течение последнего месяца\n",
    "\n",
    "В рамках проекта мы попробуем спрогнозировать вероятность оттока с помощью модели логистической регрессии и алгоритма случайного леса, составим типичные портреты клиентов с помощью кластерного анализа, проанализируем основные признаки, наиболее сильно влияющие на отток клиентов."
   ]
  },
  {
   "cell_type": "markdown",
   "metadata": {},
   "source": [
    "## Загрузка библиотек и базы данных, предобработка данных\n",
    "\n",
    "В этом разделе мы загрузим библиотеки для работы, базу данных с клиентами и их действиями, а затем проведем обзор данных"
   ]
  },
  {
   "cell_type": "markdown",
   "metadata": {},
   "source": [
    "### Загрузка данных и обзор\n",
    "Загрузка библиотек для работы"
   ]
  },
  {
   "cell_type": "code",
   "execution_count": 1,
   "metadata": {},
   "outputs": [],
   "source": [
    "import pandas as pd\n",
    "import matplotlib.pyplot as plt\n",
    "import seaborn as sns\n",
    "import numpy as np\n",
    "from sklearn.preprocessing import StandardScaler\n",
    "from sklearn.linear_model import LogisticRegression\n",
    "from sklearn.ensemble import RandomForestClassifier\n",
    "from sklearn.model_selection import train_test_split\n",
    "from sklearn.metrics import accuracy_score, precision_score, recall_score, f1_score, roc_auc_score\n",
    "from scipy.cluster.hierarchy import dendrogram, linkage\n",
    "from sklearn.cluster import KMeans\n",
    "import itertools"
   ]
  },
  {
   "cell_type": "markdown",
   "metadata": {},
   "source": [
    "Загрузка датафрейма и просмотр первых 10 строчек"
   ]
  },
  {
   "cell_type": "code",
   "execution_count": 2,
   "metadata": {},
   "outputs": [
    {
     "data": {
      "text/html": [
       "<div>\n",
       "<style scoped>\n",
       "    .dataframe tbody tr th:only-of-type {\n",
       "        vertical-align: middle;\n",
       "    }\n",
       "\n",
       "    .dataframe tbody tr th {\n",
       "        vertical-align: top;\n",
       "    }\n",
       "\n",
       "    .dataframe thead th {\n",
       "        text-align: right;\n",
       "    }\n",
       "</style>\n",
       "<table border=\"1\" class=\"dataframe\">\n",
       "  <thead>\n",
       "    <tr style=\"text-align: right;\">\n",
       "      <th></th>\n",
       "      <th>gender</th>\n",
       "      <th>Near_Location</th>\n",
       "      <th>Partner</th>\n",
       "      <th>Promo_friends</th>\n",
       "      <th>Phone</th>\n",
       "      <th>Contract_period</th>\n",
       "      <th>Group_visits</th>\n",
       "      <th>Age</th>\n",
       "      <th>Avg_additional_charges_total</th>\n",
       "      <th>Month_to_end_contract</th>\n",
       "      <th>Lifetime</th>\n",
       "      <th>Avg_class_frequency_total</th>\n",
       "      <th>Avg_class_frequency_current_month</th>\n",
       "      <th>Churn</th>\n",
       "    </tr>\n",
       "  </thead>\n",
       "  <tbody>\n",
       "    <tr>\n",
       "      <th>0</th>\n",
       "      <td>1</td>\n",
       "      <td>1</td>\n",
       "      <td>1</td>\n",
       "      <td>1</td>\n",
       "      <td>0</td>\n",
       "      <td>6</td>\n",
       "      <td>1</td>\n",
       "      <td>29</td>\n",
       "      <td>14.227470</td>\n",
       "      <td>5.0</td>\n",
       "      <td>3</td>\n",
       "      <td>0.020398</td>\n",
       "      <td>0.000000</td>\n",
       "      <td>0</td>\n",
       "    </tr>\n",
       "    <tr>\n",
       "      <th>1</th>\n",
       "      <td>0</td>\n",
       "      <td>1</td>\n",
       "      <td>0</td>\n",
       "      <td>0</td>\n",
       "      <td>1</td>\n",
       "      <td>12</td>\n",
       "      <td>1</td>\n",
       "      <td>31</td>\n",
       "      <td>113.202938</td>\n",
       "      <td>12.0</td>\n",
       "      <td>7</td>\n",
       "      <td>1.922936</td>\n",
       "      <td>1.910244</td>\n",
       "      <td>0</td>\n",
       "    </tr>\n",
       "    <tr>\n",
       "      <th>2</th>\n",
       "      <td>0</td>\n",
       "      <td>1</td>\n",
       "      <td>1</td>\n",
       "      <td>0</td>\n",
       "      <td>1</td>\n",
       "      <td>1</td>\n",
       "      <td>0</td>\n",
       "      <td>28</td>\n",
       "      <td>129.448479</td>\n",
       "      <td>1.0</td>\n",
       "      <td>2</td>\n",
       "      <td>1.859098</td>\n",
       "      <td>1.736502</td>\n",
       "      <td>0</td>\n",
       "    </tr>\n",
       "    <tr>\n",
       "      <th>3</th>\n",
       "      <td>0</td>\n",
       "      <td>1</td>\n",
       "      <td>1</td>\n",
       "      <td>1</td>\n",
       "      <td>1</td>\n",
       "      <td>12</td>\n",
       "      <td>1</td>\n",
       "      <td>33</td>\n",
       "      <td>62.669863</td>\n",
       "      <td>12.0</td>\n",
       "      <td>2</td>\n",
       "      <td>3.205633</td>\n",
       "      <td>3.357215</td>\n",
       "      <td>0</td>\n",
       "    </tr>\n",
       "    <tr>\n",
       "      <th>4</th>\n",
       "      <td>1</td>\n",
       "      <td>1</td>\n",
       "      <td>1</td>\n",
       "      <td>1</td>\n",
       "      <td>1</td>\n",
       "      <td>1</td>\n",
       "      <td>0</td>\n",
       "      <td>26</td>\n",
       "      <td>198.362265</td>\n",
       "      <td>1.0</td>\n",
       "      <td>3</td>\n",
       "      <td>1.113884</td>\n",
       "      <td>1.120078</td>\n",
       "      <td>0</td>\n",
       "    </tr>\n",
       "    <tr>\n",
       "      <th>5</th>\n",
       "      <td>1</td>\n",
       "      <td>1</td>\n",
       "      <td>0</td>\n",
       "      <td>0</td>\n",
       "      <td>1</td>\n",
       "      <td>1</td>\n",
       "      <td>1</td>\n",
       "      <td>34</td>\n",
       "      <td>450.743960</td>\n",
       "      <td>1.0</td>\n",
       "      <td>3</td>\n",
       "      <td>2.623477</td>\n",
       "      <td>2.637007</td>\n",
       "      <td>0</td>\n",
       "    </tr>\n",
       "    <tr>\n",
       "      <th>6</th>\n",
       "      <td>1</td>\n",
       "      <td>1</td>\n",
       "      <td>1</td>\n",
       "      <td>1</td>\n",
       "      <td>0</td>\n",
       "      <td>6</td>\n",
       "      <td>1</td>\n",
       "      <td>32</td>\n",
       "      <td>94.266389</td>\n",
       "      <td>6.0</td>\n",
       "      <td>2</td>\n",
       "      <td>1.138941</td>\n",
       "      <td>1.277242</td>\n",
       "      <td>0</td>\n",
       "    </tr>\n",
       "    <tr>\n",
       "      <th>7</th>\n",
       "      <td>0</td>\n",
       "      <td>1</td>\n",
       "      <td>0</td>\n",
       "      <td>0</td>\n",
       "      <td>1</td>\n",
       "      <td>1</td>\n",
       "      <td>0</td>\n",
       "      <td>30</td>\n",
       "      <td>217.786641</td>\n",
       "      <td>1.0</td>\n",
       "      <td>0</td>\n",
       "      <td>1.213502</td>\n",
       "      <td>1.049387</td>\n",
       "      <td>1</td>\n",
       "    </tr>\n",
       "    <tr>\n",
       "      <th>8</th>\n",
       "      <td>1</td>\n",
       "      <td>1</td>\n",
       "      <td>1</td>\n",
       "      <td>1</td>\n",
       "      <td>1</td>\n",
       "      <td>1</td>\n",
       "      <td>1</td>\n",
       "      <td>23</td>\n",
       "      <td>45.409909</td>\n",
       "      <td>1.0</td>\n",
       "      <td>1</td>\n",
       "      <td>1.106239</td>\n",
       "      <td>1.059333</td>\n",
       "      <td>0</td>\n",
       "    </tr>\n",
       "    <tr>\n",
       "      <th>9</th>\n",
       "      <td>0</td>\n",
       "      <td>1</td>\n",
       "      <td>0</td>\n",
       "      <td>0</td>\n",
       "      <td>1</td>\n",
       "      <td>1</td>\n",
       "      <td>0</td>\n",
       "      <td>31</td>\n",
       "      <td>65.310836</td>\n",
       "      <td>1.0</td>\n",
       "      <td>11</td>\n",
       "      <td>1.810852</td>\n",
       "      <td>1.951368</td>\n",
       "      <td>0</td>\n",
       "    </tr>\n",
       "  </tbody>\n",
       "</table>\n",
       "</div>"
      ],
      "text/plain": [
       "   gender  Near_Location  Partner  Promo_friends  Phone  Contract_period  \\\n",
       "0       1              1        1              1      0                6   \n",
       "1       0              1        0              0      1               12   \n",
       "2       0              1        1              0      1                1   \n",
       "3       0              1        1              1      1               12   \n",
       "4       1              1        1              1      1                1   \n",
       "5       1              1        0              0      1                1   \n",
       "6       1              1        1              1      0                6   \n",
       "7       0              1        0              0      1                1   \n",
       "8       1              1        1              1      1                1   \n",
       "9       0              1        0              0      1                1   \n",
       "\n",
       "   Group_visits  Age  Avg_additional_charges_total  Month_to_end_contract  \\\n",
       "0             1   29                     14.227470                    5.0   \n",
       "1             1   31                    113.202938                   12.0   \n",
       "2             0   28                    129.448479                    1.0   \n",
       "3             1   33                     62.669863                   12.0   \n",
       "4             0   26                    198.362265                    1.0   \n",
       "5             1   34                    450.743960                    1.0   \n",
       "6             1   32                     94.266389                    6.0   \n",
       "7             0   30                    217.786641                    1.0   \n",
       "8             1   23                     45.409909                    1.0   \n",
       "9             0   31                     65.310836                    1.0   \n",
       "\n",
       "   Lifetime  Avg_class_frequency_total  Avg_class_frequency_current_month  \\\n",
       "0         3                   0.020398                           0.000000   \n",
       "1         7                   1.922936                           1.910244   \n",
       "2         2                   1.859098                           1.736502   \n",
       "3         2                   3.205633                           3.357215   \n",
       "4         3                   1.113884                           1.120078   \n",
       "5         3                   2.623477                           2.637007   \n",
       "6         2                   1.138941                           1.277242   \n",
       "7         0                   1.213502                           1.049387   \n",
       "8         1                   1.106239                           1.059333   \n",
       "9        11                   1.810852                           1.951368   \n",
       "\n",
       "   Churn  \n",
       "0      0  \n",
       "1      0  \n",
       "2      0  \n",
       "3      0  \n",
       "4      0  \n",
       "5      0  \n",
       "6      0  \n",
       "7      1  \n",
       "8      0  \n",
       "9      0  "
      ]
     },
     "execution_count": 2,
     "metadata": {},
     "output_type": "execute_result"
    }
   ],
   "source": [
    "df = pd.read_csv('gym_churn.csv')\n",
    "df.head(10)"
   ]
  },
  {
   "cell_type": "markdown",
   "metadata": {},
   "source": [
    "Просмотр основной информации о базе данных."
   ]
  },
  {
   "cell_type": "code",
   "execution_count": 3,
   "metadata": {},
   "outputs": [
    {
     "name": "stdout",
     "output_type": "stream",
     "text": [
      "<class 'pandas.core.frame.DataFrame'>\n",
      "RangeIndex: 4000 entries, 0 to 3999\n",
      "Data columns (total 14 columns):\n",
      " #   Column                             Non-Null Count  Dtype  \n",
      "---  ------                             --------------  -----  \n",
      " 0   gender                             4000 non-null   int64  \n",
      " 1   Near_Location                      4000 non-null   int64  \n",
      " 2   Partner                            4000 non-null   int64  \n",
      " 3   Promo_friends                      4000 non-null   int64  \n",
      " 4   Phone                              4000 non-null   int64  \n",
      " 5   Contract_period                    4000 non-null   int64  \n",
      " 6   Group_visits                       4000 non-null   int64  \n",
      " 7   Age                                4000 non-null   int64  \n",
      " 8   Avg_additional_charges_total       4000 non-null   float64\n",
      " 9   Month_to_end_contract              4000 non-null   float64\n",
      " 10  Lifetime                           4000 non-null   int64  \n",
      " 11  Avg_class_frequency_total          4000 non-null   float64\n",
      " 12  Avg_class_frequency_current_month  4000 non-null   float64\n",
      " 13  Churn                              4000 non-null   int64  \n",
      "dtypes: float64(4), int64(10)\n",
      "memory usage: 437.6 KB\n"
     ]
    }
   ],
   "source": [
    "df.info()"
   ]
  },
  {
   "cell_type": "markdown",
   "metadata": {},
   "source": [
    "Согласно документации и данным, датафрейм содержит следующие переменные:\n",
    "\n",
    "- Данные клиента за предыдущий до проверки факта оттока месяц:\n",
    "  - `gender` — пол (1 - женщины, 0 - мужчины);\n",
    "  - `Near_Location` — проживание или работа в районе, где находится фитнес-центр;\n",
    "  - `Partner` — сотрудник компании-партнёра клуба (сотрудничество с компаниями, чьи сотрудники могут получать скидки на абонемент — в таком случае фитнес-центр хранит информацию о работодателе клиента);\n",
    "  - `Promo_friends` — факт первоначальной записи в рамках акции «приведи друга» (использовал промо-код от знакомого при оплате первого абонемента);\n",
    "  - `Phone` — наличие контактного телефона;\n",
    "  - `Age` — возраст;\n",
    "  - `Lifetime` — время с момента первого обращения в фитнес-центр (в месяцах).\n",
    "- Информация на основе журнала посещений, покупок и информация о текущем статусе абонемента клиента:\n",
    "  - `Contract_period` — длительность текущего действующего абонемента (месяц, 6 месяцев, год);\n",
    "  - `Month_to_end_contract` — срок до окончания текущего действующего абонемента (в месяцах);\n",
    "  - `Group_visits` — факт посещения групповых занятий;\n",
    "  - `Avg_class_frequency_total` — средняя частота посещений в неделю за все время с начала действия абонемента;\n",
    "  - `Avg_class_frequency_current_month` — средняя частота посещений в неделю за предыдущий месяц;\n",
    "  - `Avg_additional_charges_total` — суммарная выручка от других услуг фитнес-центра: кафе, спорттовары, косметический и массажный салон.\n",
    "- `Churn` — факт оттока в текущем месяце.\n",
    "\n",
    "Можно увидеть, что в данных нет пропущенных значений. Стоит отдельно проверить данные на наличие дубликатов, унифицировать написание названий переменных (до строчных букв), изменить тип переменной `Month_to_end_contract` на `int`, так как, как мы видим по первым 10 строчкам, все значения в этой переменной целочисленные."
   ]
  },
  {
   "cell_type": "markdown",
   "metadata": {},
   "source": [
    "### Изменение названий переменных"
   ]
  },
  {
   "cell_type": "markdown",
   "metadata": {},
   "source": [
    "Меняем написание названий переменных, затем выводим их на экран"
   ]
  },
  {
   "cell_type": "code",
   "execution_count": 4,
   "metadata": {},
   "outputs": [
    {
     "data": {
      "text/plain": [
       "Index(['gender', 'near_location', 'partner', 'promo_friends', 'phone',\n",
       "       'contract_period', 'group_visits', 'age',\n",
       "       'avg_additional_charges_total', 'month_to_end_contract', 'lifetime',\n",
       "       'avg_class_frequency_total', 'avg_class_frequency_current_month',\n",
       "       'churn'],\n",
       "      dtype='object')"
      ]
     },
     "execution_count": 4,
     "metadata": {},
     "output_type": "execute_result"
    }
   ],
   "source": [
    "df.columns = df.columns.str.lower()\n",
    "df.columns"
   ]
  },
  {
   "cell_type": "markdown",
   "metadata": {},
   "source": [
    "### Проверка дубликатов\n",
    "\n",
    "Проверяем, есть ли в данных дубликаты. Их не оказывается"
   ]
  },
  {
   "cell_type": "code",
   "execution_count": 5,
   "metadata": {},
   "outputs": [
    {
     "data": {
      "text/plain": [
       "0"
      ]
     },
     "execution_count": 5,
     "metadata": {},
     "output_type": "execute_result"
    }
   ],
   "source": [
    "df.duplicated().sum()"
   ]
  },
  {
   "cell_type": "markdown",
   "metadata": {},
   "source": [
    "### Изменение типов переменных\n",
    "Перед тем, как изменить тип переменной, просматриваем все значения в переменной `month_to_end_contract`, они все действительно оказываются целочисленными. После этого меняем тип переменной и выводим все типы переменных."
   ]
  },
  {
   "cell_type": "code",
   "execution_count": 6,
   "metadata": {},
   "outputs": [
    {
     "name": "stdout",
     "output_type": "stream",
     "text": [
      "1.0     2207\n",
      "6.0      645\n",
      "12.0     524\n",
      "11.0     181\n",
      "5.0      130\n",
      "10.0      82\n",
      "9.0       73\n",
      "4.0       58\n",
      "8.0       38\n",
      "7.0       25\n",
      "3.0       23\n",
      "2.0       14\n",
      "Name: month_to_end_contract, dtype: int64\n"
     ]
    },
    {
     "data": {
      "text/plain": [
       "gender                                 int64\n",
       "near_location                          int64\n",
       "partner                                int64\n",
       "promo_friends                          int64\n",
       "phone                                  int64\n",
       "contract_period                        int64\n",
       "group_visits                           int64\n",
       "age                                    int64\n",
       "avg_additional_charges_total         float64\n",
       "month_to_end_contract                  int32\n",
       "lifetime                               int64\n",
       "avg_class_frequency_total            float64\n",
       "avg_class_frequency_current_month    float64\n",
       "churn                                  int64\n",
       "dtype: object"
      ]
     },
     "execution_count": 6,
     "metadata": {},
     "output_type": "execute_result"
    }
   ],
   "source": [
    "print(df['month_to_end_contract'].value_counts())\n",
    "df['month_to_end_contract'] = df['month_to_end_contract'].astype('int')\n",
    "df.dtypes"
   ]
  },
  {
   "cell_type": "markdown",
   "metadata": {},
   "source": [
    "### Вывод по разделу\n",
    "В этом разделе мы загрузили библиотеки и базу данных, провели обзор данных, после которого изменили написание названий переменных и изменили тип переменной `month_to_end_contract` на целочисленный."
   ]
  },
  {
   "cell_type": "markdown",
   "metadata": {},
   "source": [
    "## Исследовательский анализ данных\n",
    "\n",
    "В этом разделе мы проведем исследовательский анализ данных:\n",
    "* Выведем описательную статистику по переменным\n",
    "* Сравним средние значения в признаках между двумя группами (тех, кто ушел в отток, и тех, кто остался)\n",
    "* Построим столбчатые диаграмммы и распределения признаков тех, кто ушел в отток, и тех, кто остался\n",
    "* Построим матриццу корреляций и отобразим ее"
   ]
  },
  {
   "cell_type": "markdown",
   "metadata": {},
   "source": [
    "### Описательная статистика по переменным\n",
    "\n",
    "Выведем описательную статистику по переменным. Можем сделать следующие выводы:\n",
    "- В базе данных примерно поровну женщин и мужчин (доля женщин равна ~51%, мужчин ~49%)\n",
    "- Около 85% клиентов проживают или работают в районе, где находится фитнес центр\n",
    "- Чуть меньше половины клиентов (49%) являются сотрудниками компании-партнера клуба\n",
    "- Чуть менее трети клиентов (31%) пришли к клуб в рамках акции \"приведи друга\"\n",
    "- Большинство клиентов (90%) оставили контактный номер телефона\n",
    "- Средняя длительность текущего действующего абонемента 4.7 месяцев, а значит большинство клиентов выбирают абонементы длительностью 1 и 6 месяцев\n",
    "- Менее половины клиентов (41%) посещают групповые занятия\n",
    "- Средний возраст клиентов - 29 лет\n",
    "- Суммарная выручка от других услуг фитнес-центра в среднем равна 146 рублей\n",
    "- В среднем клиентам осталось около 4 месяцев до окончания абонементов\n",
    "- Средняя частота посещений в неделю за все время с начала действия абонемента - чуть меньше 2 раз в неделю (1.88)\n",
    "- Средняя частота посещений в неделю за предыдущий месяц - чуть меньше 2 раз (1.77)\n",
    "- В отток уходит примерно каждый четвертый клиент (27%)."
   ]
  },
  {
   "cell_type": "code",
   "execution_count": 7,
   "metadata": {},
   "outputs": [
    {
     "data": {
      "text/html": [
       "<div>\n",
       "<style scoped>\n",
       "    .dataframe tbody tr th:only-of-type {\n",
       "        vertical-align: middle;\n",
       "    }\n",
       "\n",
       "    .dataframe tbody tr th {\n",
       "        vertical-align: top;\n",
       "    }\n",
       "\n",
       "    .dataframe thead th {\n",
       "        text-align: right;\n",
       "    }\n",
       "</style>\n",
       "<table border=\"1\" class=\"dataframe\">\n",
       "  <thead>\n",
       "    <tr style=\"text-align: right;\">\n",
       "      <th></th>\n",
       "      <th>count</th>\n",
       "      <th>mean</th>\n",
       "      <th>std</th>\n",
       "      <th>min</th>\n",
       "      <th>25%</th>\n",
       "      <th>50%</th>\n",
       "      <th>75%</th>\n",
       "      <th>max</th>\n",
       "    </tr>\n",
       "  </thead>\n",
       "  <tbody>\n",
       "    <tr>\n",
       "      <th>gender</th>\n",
       "      <td>4000.0</td>\n",
       "      <td>0.510250</td>\n",
       "      <td>0.499957</td>\n",
       "      <td>0.000000</td>\n",
       "      <td>0.000000</td>\n",
       "      <td>1.000000</td>\n",
       "      <td>1.000000</td>\n",
       "      <td>1.000000</td>\n",
       "    </tr>\n",
       "    <tr>\n",
       "      <th>near_location</th>\n",
       "      <td>4000.0</td>\n",
       "      <td>0.845250</td>\n",
       "      <td>0.361711</td>\n",
       "      <td>0.000000</td>\n",
       "      <td>1.000000</td>\n",
       "      <td>1.000000</td>\n",
       "      <td>1.000000</td>\n",
       "      <td>1.000000</td>\n",
       "    </tr>\n",
       "    <tr>\n",
       "      <th>partner</th>\n",
       "      <td>4000.0</td>\n",
       "      <td>0.486750</td>\n",
       "      <td>0.499887</td>\n",
       "      <td>0.000000</td>\n",
       "      <td>0.000000</td>\n",
       "      <td>0.000000</td>\n",
       "      <td>1.000000</td>\n",
       "      <td>1.000000</td>\n",
       "    </tr>\n",
       "    <tr>\n",
       "      <th>promo_friends</th>\n",
       "      <td>4000.0</td>\n",
       "      <td>0.308500</td>\n",
       "      <td>0.461932</td>\n",
       "      <td>0.000000</td>\n",
       "      <td>0.000000</td>\n",
       "      <td>0.000000</td>\n",
       "      <td>1.000000</td>\n",
       "      <td>1.000000</td>\n",
       "    </tr>\n",
       "    <tr>\n",
       "      <th>phone</th>\n",
       "      <td>4000.0</td>\n",
       "      <td>0.903500</td>\n",
       "      <td>0.295313</td>\n",
       "      <td>0.000000</td>\n",
       "      <td>1.000000</td>\n",
       "      <td>1.000000</td>\n",
       "      <td>1.000000</td>\n",
       "      <td>1.000000</td>\n",
       "    </tr>\n",
       "    <tr>\n",
       "      <th>contract_period</th>\n",
       "      <td>4000.0</td>\n",
       "      <td>4.681250</td>\n",
       "      <td>4.549706</td>\n",
       "      <td>1.000000</td>\n",
       "      <td>1.000000</td>\n",
       "      <td>1.000000</td>\n",
       "      <td>6.000000</td>\n",
       "      <td>12.000000</td>\n",
       "    </tr>\n",
       "    <tr>\n",
       "      <th>group_visits</th>\n",
       "      <td>4000.0</td>\n",
       "      <td>0.412250</td>\n",
       "      <td>0.492301</td>\n",
       "      <td>0.000000</td>\n",
       "      <td>0.000000</td>\n",
       "      <td>0.000000</td>\n",
       "      <td>1.000000</td>\n",
       "      <td>1.000000</td>\n",
       "    </tr>\n",
       "    <tr>\n",
       "      <th>age</th>\n",
       "      <td>4000.0</td>\n",
       "      <td>29.184250</td>\n",
       "      <td>3.258367</td>\n",
       "      <td>18.000000</td>\n",
       "      <td>27.000000</td>\n",
       "      <td>29.000000</td>\n",
       "      <td>31.000000</td>\n",
       "      <td>41.000000</td>\n",
       "    </tr>\n",
       "    <tr>\n",
       "      <th>avg_additional_charges_total</th>\n",
       "      <td>4000.0</td>\n",
       "      <td>146.943728</td>\n",
       "      <td>96.355602</td>\n",
       "      <td>0.148205</td>\n",
       "      <td>68.868830</td>\n",
       "      <td>136.220159</td>\n",
       "      <td>210.949625</td>\n",
       "      <td>552.590740</td>\n",
       "    </tr>\n",
       "    <tr>\n",
       "      <th>month_to_end_contract</th>\n",
       "      <td>4000.0</td>\n",
       "      <td>4.322750</td>\n",
       "      <td>4.191297</td>\n",
       "      <td>1.000000</td>\n",
       "      <td>1.000000</td>\n",
       "      <td>1.000000</td>\n",
       "      <td>6.000000</td>\n",
       "      <td>12.000000</td>\n",
       "    </tr>\n",
       "    <tr>\n",
       "      <th>lifetime</th>\n",
       "      <td>4000.0</td>\n",
       "      <td>3.724750</td>\n",
       "      <td>3.749267</td>\n",
       "      <td>0.000000</td>\n",
       "      <td>1.000000</td>\n",
       "      <td>3.000000</td>\n",
       "      <td>5.000000</td>\n",
       "      <td>31.000000</td>\n",
       "    </tr>\n",
       "    <tr>\n",
       "      <th>avg_class_frequency_total</th>\n",
       "      <td>4000.0</td>\n",
       "      <td>1.879020</td>\n",
       "      <td>0.972245</td>\n",
       "      <td>0.000000</td>\n",
       "      <td>1.180875</td>\n",
       "      <td>1.832768</td>\n",
       "      <td>2.536078</td>\n",
       "      <td>6.023668</td>\n",
       "    </tr>\n",
       "    <tr>\n",
       "      <th>avg_class_frequency_current_month</th>\n",
       "      <td>4000.0</td>\n",
       "      <td>1.767052</td>\n",
       "      <td>1.052906</td>\n",
       "      <td>0.000000</td>\n",
       "      <td>0.963003</td>\n",
       "      <td>1.719574</td>\n",
       "      <td>2.510336</td>\n",
       "      <td>6.146783</td>\n",
       "    </tr>\n",
       "    <tr>\n",
       "      <th>churn</th>\n",
       "      <td>4000.0</td>\n",
       "      <td>0.265250</td>\n",
       "      <td>0.441521</td>\n",
       "      <td>0.000000</td>\n",
       "      <td>0.000000</td>\n",
       "      <td>0.000000</td>\n",
       "      <td>1.000000</td>\n",
       "      <td>1.000000</td>\n",
       "    </tr>\n",
       "  </tbody>\n",
       "</table>\n",
       "</div>"
      ],
      "text/plain": [
       "                                    count        mean        std        min  \\\n",
       "gender                             4000.0    0.510250   0.499957   0.000000   \n",
       "near_location                      4000.0    0.845250   0.361711   0.000000   \n",
       "partner                            4000.0    0.486750   0.499887   0.000000   \n",
       "promo_friends                      4000.0    0.308500   0.461932   0.000000   \n",
       "phone                              4000.0    0.903500   0.295313   0.000000   \n",
       "contract_period                    4000.0    4.681250   4.549706   1.000000   \n",
       "group_visits                       4000.0    0.412250   0.492301   0.000000   \n",
       "age                                4000.0   29.184250   3.258367  18.000000   \n",
       "avg_additional_charges_total       4000.0  146.943728  96.355602   0.148205   \n",
       "month_to_end_contract              4000.0    4.322750   4.191297   1.000000   \n",
       "lifetime                           4000.0    3.724750   3.749267   0.000000   \n",
       "avg_class_frequency_total          4000.0    1.879020   0.972245   0.000000   \n",
       "avg_class_frequency_current_month  4000.0    1.767052   1.052906   0.000000   \n",
       "churn                              4000.0    0.265250   0.441521   0.000000   \n",
       "\n",
       "                                         25%         50%         75%  \\\n",
       "gender                              0.000000    1.000000    1.000000   \n",
       "near_location                       1.000000    1.000000    1.000000   \n",
       "partner                             0.000000    0.000000    1.000000   \n",
       "promo_friends                       0.000000    0.000000    1.000000   \n",
       "phone                               1.000000    1.000000    1.000000   \n",
       "contract_period                     1.000000    1.000000    6.000000   \n",
       "group_visits                        0.000000    0.000000    1.000000   \n",
       "age                                27.000000   29.000000   31.000000   \n",
       "avg_additional_charges_total       68.868830  136.220159  210.949625   \n",
       "month_to_end_contract               1.000000    1.000000    6.000000   \n",
       "lifetime                            1.000000    3.000000    5.000000   \n",
       "avg_class_frequency_total           1.180875    1.832768    2.536078   \n",
       "avg_class_frequency_current_month   0.963003    1.719574    2.510336   \n",
       "churn                               0.000000    0.000000    1.000000   \n",
       "\n",
       "                                          max  \n",
       "gender                               1.000000  \n",
       "near_location                        1.000000  \n",
       "partner                              1.000000  \n",
       "promo_friends                        1.000000  \n",
       "phone                                1.000000  \n",
       "contract_period                     12.000000  \n",
       "group_visits                         1.000000  \n",
       "age                                 41.000000  \n",
       "avg_additional_charges_total       552.590740  \n",
       "month_to_end_contract               12.000000  \n",
       "lifetime                            31.000000  \n",
       "avg_class_frequency_total            6.023668  \n",
       "avg_class_frequency_current_month    6.146783  \n",
       "churn                                1.000000  "
      ]
     },
     "execution_count": 7,
     "metadata": {},
     "output_type": "execute_result"
    }
   ],
   "source": [
    "df.describe().T"
   ]
  },
  {
   "cell_type": "markdown",
   "metadata": {},
   "source": [
    "### Средние значения по признакам среди ушедших и оставшихся клиентов\n",
    "\n",
    "Выведем средние значения по признакам среди ушедших и оставшихся клиентов. Можно предварительно утверждать, что уходящие в отток клиенты имеют более низкие оценки почти по всем признакам: они моложе, посещают фитнес-клуб в неделю реже в целом и за последний месяц, имеют меньшую длительность абонементов, реже посещают групповые занятия, реже живут или работают в районе расположения фитнес-клуба, реже являются сотрудниками компаний-партнеров, реже обращаются в клуб в рамках программы \"приведи друга\".\n",
    "\n",
    "Различий в поле и доле оставленных контактных телефонов нет."
   ]
  },
  {
   "cell_type": "code",
   "execution_count": 8,
   "metadata": {},
   "outputs": [
    {
     "data": {
      "text/html": [
       "<div>\n",
       "<style scoped>\n",
       "    .dataframe tbody tr th:only-of-type {\n",
       "        vertical-align: middle;\n",
       "    }\n",
       "\n",
       "    .dataframe tbody tr th {\n",
       "        vertical-align: top;\n",
       "    }\n",
       "\n",
       "    .dataframe thead th {\n",
       "        text-align: right;\n",
       "    }\n",
       "</style>\n",
       "<table border=\"1\" class=\"dataframe\">\n",
       "  <thead>\n",
       "    <tr style=\"text-align: right;\">\n",
       "      <th>churn</th>\n",
       "      <th>0</th>\n",
       "      <th>1</th>\n",
       "    </tr>\n",
       "  </thead>\n",
       "  <tbody>\n",
       "    <tr>\n",
       "      <th>age</th>\n",
       "      <td>29.976523</td>\n",
       "      <td>26.989632</td>\n",
       "    </tr>\n",
       "    <tr>\n",
       "      <th>avg_additional_charges_total</th>\n",
       "      <td>158.445715</td>\n",
       "      <td>115.082899</td>\n",
       "    </tr>\n",
       "    <tr>\n",
       "      <th>avg_class_frequency_current_month</th>\n",
       "      <td>2.027882</td>\n",
       "      <td>1.044546</td>\n",
       "    </tr>\n",
       "    <tr>\n",
       "      <th>avg_class_frequency_total</th>\n",
       "      <td>2.024876</td>\n",
       "      <td>1.474995</td>\n",
       "    </tr>\n",
       "    <tr>\n",
       "      <th>contract_period</th>\n",
       "      <td>5.747193</td>\n",
       "      <td>1.728558</td>\n",
       "    </tr>\n",
       "    <tr>\n",
       "      <th>gender</th>\n",
       "      <td>0.510037</td>\n",
       "      <td>0.510839</td>\n",
       "    </tr>\n",
       "    <tr>\n",
       "      <th>group_visits</th>\n",
       "      <td>0.464103</td>\n",
       "      <td>0.268615</td>\n",
       "    </tr>\n",
       "    <tr>\n",
       "      <th>lifetime</th>\n",
       "      <td>4.711807</td>\n",
       "      <td>0.990575</td>\n",
       "    </tr>\n",
       "    <tr>\n",
       "      <th>month_to_end_contract</th>\n",
       "      <td>5.283089</td>\n",
       "      <td>1.662582</td>\n",
       "    </tr>\n",
       "    <tr>\n",
       "      <th>near_location</th>\n",
       "      <td>0.873086</td>\n",
       "      <td>0.768143</td>\n",
       "    </tr>\n",
       "    <tr>\n",
       "      <th>partner</th>\n",
       "      <td>0.534195</td>\n",
       "      <td>0.355325</td>\n",
       "    </tr>\n",
       "    <tr>\n",
       "      <th>phone</th>\n",
       "      <td>0.903709</td>\n",
       "      <td>0.902922</td>\n",
       "    </tr>\n",
       "    <tr>\n",
       "      <th>promo_friends</th>\n",
       "      <td>0.353522</td>\n",
       "      <td>0.183789</td>\n",
       "    </tr>\n",
       "  </tbody>\n",
       "</table>\n",
       "</div>"
      ],
      "text/plain": [
       "churn                                       0           1\n",
       "age                                 29.976523   26.989632\n",
       "avg_additional_charges_total       158.445715  115.082899\n",
       "avg_class_frequency_current_month    2.027882    1.044546\n",
       "avg_class_frequency_total            2.024876    1.474995\n",
       "contract_period                      5.747193    1.728558\n",
       "gender                               0.510037    0.510839\n",
       "group_visits                         0.464103    0.268615\n",
       "lifetime                             4.711807    0.990575\n",
       "month_to_end_contract                5.283089    1.662582\n",
       "near_location                        0.873086    0.768143\n",
       "partner                              0.534195    0.355325\n",
       "phone                                0.903709    0.902922\n",
       "promo_friends                        0.353522    0.183789"
      ]
     },
     "execution_count": 8,
     "metadata": {},
     "output_type": "execute_result"
    }
   ],
   "source": [
    "df.pivot_table(index='churn', values=['gender', 'near_location', 'partner',\n",
    "                                      'promo_friends', 'phone','contract_period', 'group_visits',\n",
    "                                      'age','avg_additional_charges_total',\n",
    "                                      'month_to_end_contract', 'lifetime',\n",
    "                                      'avg_class_frequency_total', 'avg_class_frequency_current_month']).T"
   ]
  },
  {
   "cell_type": "markdown",
   "metadata": {},
   "source": [
    "### Столбчатые диаграммы и распределения признаков среди ушедших и оставшихся клиентов"
   ]
  },
  {
   "cell_type": "markdown",
   "metadata": {},
   "source": [
    "Выведем гистограммы с распределением непрерывных переменных среди ушедших в отток и оставшихся клиентов. Как мы видим, ушедщих в отток клиентов в целом меньше, и их распределения концентрируются вокруг более низких значений, чем распределения оставшихся клиентов: они моложе, меньше посещают занятия, меньше пользуются другими услугами фитнес-клуба."
   ]
  },
  {
   "cell_type": "code",
   "execution_count": 9,
   "metadata": {},
   "outputs": [
    {
     "data": {
      "image/png": "[encoded data removed]",
      "text/plain": [
       "<Figure size 1440x1080 with 5 Axes>"
      ]
     },
     "metadata": {
      "needs_background": "light"
     },
     "output_type": "display_data"
    }
   ],
   "source": [
    "numbers_to_plot = range(1,6)\n",
    "variables_to_plot = ['age', 'avg_additional_charges_total', 'avg_class_frequency_current_month',\n",
    "                     'avg_class_frequency_total', 'month_to_end_contract']\n",
    "\n",
    "plt.figure(figsize=(20, 15))\n",
    "\n",
    "for i, variable in zip(numbers_to_plot, variables_to_plot):\n",
    "    df.groupby('churn')[variable].plot(kind='hist', alpha=0.5, bins=20, ax=plt.subplot(2,3,i))\n",
    "    plt.title(variable)\n",
    "    plt.xlabel(\"Значения\")\n",
    "    plt.ylabel('Частота')\n",
    "    plt.legend()"
   ]
  },
  {
   "cell_type": "markdown",
   "metadata": {},
   "source": [
    "Выведем столбчатые диаграммы с распределением дискретных признаков среди ушедших в отток клиентов и оставшихся. Можно предварительно сделать следующие выводы насчет ушедших в отток клиентов:\n",
    "- чаще выбирают абонементы длительностью 1 месяц\n",
    "- реже ходят на групповые занятия\n",
    "- являются новыми клиентами (чаще прошло мало времени с момента первого обращения в клуб)\n",
    "- достаточно часто живут или работают в районе расположения фитнес-клуба\n",
    "- чуть больше тех, кто не является сотрудником компании-партнера\n",
    "- большая часть оставляет контактный телефон\n",
    "- реже пользуются программой \"приведи друга\"\n",
    "- примерно равные доли гендерных групп"
   ]
  },
  {
   "cell_type": "code",
   "execution_count": 10,
   "metadata": {},
   "outputs": [
    {
     "data": {
      "image/png": "[encoded data removed]",
      "text/plain": [
       "<Figure size 1440x1800 with 8 Axes>"
      ]
     },
     "metadata": {
      "needs_background": "light"
     },
     "output_type": "display_data"
    }
   ],
   "source": [
    "plt.figure(figsize=(20, 25))\n",
    "def barplot_clusters(variable, churn, place):\n",
    "    cross_tab_prop = pd.crosstab(index=df[churn],\n",
    "                                 columns=df[variable],\n",
    "                                 normalize=\"index\")\n",
    "    cross_tab_prop.plot(kind='bar',\n",
    "                        stacked=True,\n",
    "                        alpha=0.5, ax=plt.subplot(4,2,place))\n",
    "    plt.legend(loc=\"upper left\", ncol=2)\n",
    "    plt.title(variable)\n",
    "    plt.xlabel('Значения')\n",
    "    plt.ylabel('Доля')\n",
    "\n",
    "barplot_clusters('gender', 'churn', 1)\n",
    "barplot_clusters('group_visits', 'churn', 2)\n",
    "barplot_clusters('contract_period', 'churn', 3)\n",
    "barplot_clusters('lifetime', 'churn', 4)\n",
    "barplot_clusters('near_location', 'churn', 5)\n",
    "barplot_clusters('partner', 'churn', 6)\n",
    "barplot_clusters('phone', 'churn', 7)\n",
    "barplot_clusters('promo_friends', 'churn', 8)"
   ]
  },
  {
   "cell_type": "markdown",
   "metadata": {},
   "source": [
    "### Матрица корреляций"
   ]
  },
  {
   "cell_type": "markdown",
   "metadata": {},
   "source": [
    "Построим корреляционную матрицу и визуализируем ее. Как мы видим, максимальное значение коэффициента корреляции по модулю - 0.4 (умеренная корреляция), а значит у нас нет необходимости удалять из моделей независимые переменные из-за мультиколлинеарности.\n",
    "\n",
    "Что касается связей с зависимой переменной `churn`, то наиболее тесные отрицательные связи можно обнаружить с переменными `contact_period` (длительность текущего действующего абонемента), `age` (возраст), `lifetime` (время с момента первого обращения в фитнес-центр в месяцах), `avg_class_frequency_current_month` (средняя частота посещений в неделю за предыдущий месяц).\n",
    "\n",
    "Вероятно, в регрессионный моделях именно эти переменные будут иметь наибольшие коэффицициенты."
   ]
  },
  {
   "cell_type": "code",
   "execution_count": 11,
   "metadata": {},
   "outputs": [
    {
     "data": {
      "image/png": "[encoded data removed]",
      "text/plain": [
       "<Figure size 720x504 with 2 Axes>"
      ]
     },
     "metadata": {
      "needs_background": "light"
     },
     "output_type": "display_data"
    }
   ],
   "source": [
    "corr = df.corr()\n",
    "mask = np.triu(np.ones_like(corr, dtype=bool))\n",
    "f, ax = plt.subplots(figsize=(10, 7))\n",
    "cmap = sns.diverging_palette(230, 20, as_cmap=True)\n",
    "sns.heatmap(corr, mask=mask, cmap=cmap, vmax=.3, center=0,\n",
    "            square=True, linewidths=.5, cbar_kws={\"shrink\": .5})\n",
    "plt.title('Корреляционная матрица')\n",
    "plt.show()"
   ]
  },
  {
   "cell_type": "markdown",
   "metadata": {},
   "source": [
    "### Вывод по разделу\n",
    "\n",
    "В этом разделе мы провели исследовательский анализ данных, и можем сделать предварительные выводы:\n",
    "* Ушедшие в отток клиенты в среднем моложе, меньше посещают занятия, меньше пользуются другими услугами фитнес-клуба, имеют абонементы с меньшей длительностью, реже ходят на групповые занятия, чем оставшиеся клиенты\n",
    "* Факт оттока клиентов отрицательно связан с длительностью текущего действующего абонемента, возрастом, временем с момента первого обращения в фитнес-центр, средней частотой посещений в неделю за предыдущий месяц."
   ]
  },
  {
   "cell_type": "markdown",
   "metadata": {},
   "source": [
    "## Модель прогнозирования оттока клиентов\n",
    "\n",
    "В этом разделе мы построим модель бинарной классификации с помощью 2 алгоритмов (логистическая регрессия и случайный лес) и сравним их качество."
   ]
  },
  {
   "cell_type": "markdown",
   "metadata": {},
   "source": [
    "### Подготовка данных\n",
    "\n",
    "Сначала отделим независимые переменные от зависимой, затем разделим все данные на обучающую и тестовую выборки в соотношении 80% / 20% и стандартизируем оба набора данных"
   ]
  },
  {
   "cell_type": "code",
   "execution_count": 12,
   "metadata": {},
   "outputs": [],
   "source": [
    "# выделение независимых и зависимых переменных\n",
    "X = df.drop(['churn'], axis=1)\n",
    "y = df['churn']\n",
    "\n",
    "# разделение данных на обучающую и тестовую выборки\n",
    "X_train, X_test, y_train, y_test = train_test_split(X, y, test_size=0.2,\n",
    "                                                    random_state=0, stratify=y)\n",
    "\n",
    "# стандартизация данных\n",
    "scaler = StandardScaler()\n",
    "scaler.fit(X_train)\n",
    "\n",
    "X_train_st = scaler.transform(X_train)\n",
    "X_test_st = scaler.transform(X_test)"
   ]
  },
  {
   "cell_type": "markdown",
   "metadata": {},
   "source": [
    "### Обучение моделей и оценка качества"
   ]
  },
  {
   "cell_type": "markdown",
   "metadata": {},
   "source": [
    "Обучим модель логистической регрессии и предскажем ее результаты на тестовых данных, а также выведем метрики качества модели. Доля правильных ответов (accuracy) равна 0.94, точность (precision) равна 0.9, полнота (recall) равна 0.85."
   ]
  },
  {
   "cell_type": "code",
   "execution_count": 13,
   "metadata": {},
   "outputs": [
    {
     "name": "stdout",
     "output_type": "stream",
     "text": [
      " Accuracy: 0.94 \n",
      " Precision: 0.9 \n",
      " Recall: 0.85 \n",
      " F1-score: 0.87 \n",
      " ROC-AUC: 0.98\n"
     ]
    }
   ],
   "source": [
    "log_model = LogisticRegression(solver='liblinear')\n",
    "log_model.fit(X_train_st, y_train)\n",
    "log_predictions = log_model.predict(X_test_st)\n",
    "log_probabilities = log_model.predict_proba(X_test_st)[:,1]\n",
    "\n",
    "\n",
    "def metrics(predictions, probabilities):\n",
    "    print(' Accuracy:', round(accuracy_score(y_test, predictions), 2), '\\n',\n",
    "          'Precision:', round(precision_score(y_test, predictions), 2), '\\n',\n",
    "          'Recall:', round(recall_score(y_test, predictions), 2), '\\n',\n",
    "         'F1-score:', round(f1_score(y_test, predictions), 2), '\\n',\n",
    "         'ROC-AUC:', round(roc_auc_score(y_test, probabilities), 2))\n",
    "\n",
    "metrics(log_predictions, log_probabilities)"
   ]
  },
  {
   "cell_type": "markdown",
   "metadata": {},
   "source": [
    "Также обучим модель случайного леса и предскажем ее результаты на тестовых данных. В этой модели доля правильных ответов (accuracy) равна 0.92, точность (precision) равна 0.84, полнота (recall) равна 0.81."
   ]
  },
  {
   "cell_type": "code",
   "execution_count": 14,
   "metadata": {},
   "outputs": [
    {
     "name": "stdout",
     "output_type": "stream",
     "text": [
      " Accuracy: 0.92 \n",
      " Precision: 0.88 \n",
      " Recall: 0.83 \n",
      " F1-score: 0.85 \n",
      " ROC-AUC: 0.97\n"
     ]
    }
   ],
   "source": [
    "forest_model = RandomForestClassifier(random_state=0)\n",
    "forest_model.fit(X_train_st, y_train)\n",
    "forest_predictions = forest_model.predict(X_test_st)\n",
    "forest_probabilities = forest_model.predict_proba(X_test_st)[:,1]\n",
    "\n",
    "metrics(forest_predictions, forest_probabilities)"
   ]
  },
  {
   "cell_type": "markdown",
   "metadata": {},
   "source": [
    "Обе модели работают достаточно хорошо, однако модель логистической регрессии имеет более высокие оценки по precision и recall, так что стоит остановиться на ней. Выведем коэффициенты для каждой независимой переменной.\n",
    "Оказывается, что наибольшее влияние на факт оттока оказывают средняя частота посещений в неделю за все время с начала действия абонемента, возраст, время с момента первого обращения в фитнес-центр, средняя частота посещений в неделю за предыдущий месяц, причем средняя частота посещений в неделю за все время с начала действия абонемента положительно связана с фактом оттока, а остальные переменные отрицательно. То есть чем старше клиент, чем дольше он ходит в фитнес-клуб и чаще занимается за предыдущий месяц, тем меньше у него шансов уйти в отток в текущем месяце.\n",
    "\n",
    "Интересно, что средняя частота посещений в неделю за все время с начала действия абонемента наоборот увеличивает шансы уйти в отток."
   ]
  },
  {
   "cell_type": "code",
   "execution_count": 15,
   "metadata": {},
   "outputs": [
    {
     "data": {
      "text/html": [
       "<div>\n",
       "<style scoped>\n",
       "    .dataframe tbody tr th:only-of-type {\n",
       "        vertical-align: middle;\n",
       "    }\n",
       "\n",
       "    .dataframe tbody tr th {\n",
       "        vertical-align: top;\n",
       "    }\n",
       "\n",
       "    .dataframe thead th {\n",
       "        text-align: right;\n",
       "    }\n",
       "</style>\n",
       "<table border=\"1\" class=\"dataframe\">\n",
       "  <thead>\n",
       "    <tr style=\"text-align: right;\">\n",
       "      <th></th>\n",
       "      <th>features</th>\n",
       "      <th>coefficients</th>\n",
       "    </tr>\n",
       "  </thead>\n",
       "  <tbody>\n",
       "    <tr>\n",
       "      <th>11</th>\n",
       "      <td>avg_class_frequency_total</td>\n",
       "      <td>3.105587</td>\n",
       "    </tr>\n",
       "    <tr>\n",
       "      <th>0</th>\n",
       "      <td>gender</td>\n",
       "      <td>-0.006316</td>\n",
       "    </tr>\n",
       "    <tr>\n",
       "      <th>4</th>\n",
       "      <td>phone</td>\n",
       "      <td>-0.021564</td>\n",
       "    </tr>\n",
       "    <tr>\n",
       "      <th>1</th>\n",
       "      <td>near_location</td>\n",
       "      <td>-0.052630</td>\n",
       "    </tr>\n",
       "    <tr>\n",
       "      <th>2</th>\n",
       "      <td>partner</td>\n",
       "      <td>-0.068231</td>\n",
       "    </tr>\n",
       "    <tr>\n",
       "      <th>3</th>\n",
       "      <td>promo_friends</td>\n",
       "      <td>-0.139599</td>\n",
       "    </tr>\n",
       "    <tr>\n",
       "      <th>6</th>\n",
       "      <td>group_visits</td>\n",
       "      <td>-0.393328</td>\n",
       "    </tr>\n",
       "    <tr>\n",
       "      <th>8</th>\n",
       "      <td>avg_additional_charges_total</td>\n",
       "      <td>-0.560866</td>\n",
       "    </tr>\n",
       "    <tr>\n",
       "      <th>9</th>\n",
       "      <td>month_to_end_contract</td>\n",
       "      <td>-0.617235</td>\n",
       "    </tr>\n",
       "    <tr>\n",
       "      <th>5</th>\n",
       "      <td>contract_period</td>\n",
       "      <td>-0.687710</td>\n",
       "    </tr>\n",
       "    <tr>\n",
       "      <th>7</th>\n",
       "      <td>age</td>\n",
       "      <td>-1.148928</td>\n",
       "    </tr>\n",
       "    <tr>\n",
       "      <th>10</th>\n",
       "      <td>lifetime</td>\n",
       "      <td>-3.471939</td>\n",
       "    </tr>\n",
       "    <tr>\n",
       "      <th>12</th>\n",
       "      <td>avg_class_frequency_current_month</td>\n",
       "      <td>-4.189012</td>\n",
       "    </tr>\n",
       "  </tbody>\n",
       "</table>\n",
       "</div>"
      ],
      "text/plain": [
       "                             features  coefficients\n",
       "11          avg_class_frequency_total      3.105587\n",
       "0                              gender     -0.006316\n",
       "4                               phone     -0.021564\n",
       "1                       near_location     -0.052630\n",
       "2                             partner     -0.068231\n",
       "3                       promo_friends     -0.139599\n",
       "6                        group_visits     -0.393328\n",
       "8        avg_additional_charges_total     -0.560866\n",
       "9               month_to_end_contract     -0.617235\n",
       "5                     contract_period     -0.687710\n",
       "7                                 age     -1.148928\n",
       "10                           lifetime     -3.471939\n",
       "12  avg_class_frequency_current_month     -4.189012"
      ]
     },
     "execution_count": 15,
     "metadata": {},
     "output_type": "execute_result"
    }
   ],
   "source": [
    "features = X_test.columns\n",
    "coef = log_model.coef_[0]\n",
    "final_coef = pd.DataFrame({'features': features, 'coefficients': coef})\n",
    "final_coef.sort_values(by='coefficients', ascending=False)"
   ]
  },
  {
   "cell_type": "markdown",
   "metadata": {},
   "source": [
    "### Вывод по разделу\n",
    "\n",
    "В этом разделе мы обучили 2 модели и сравнили качество их предсказания. Более точной оказалась модель логистической регрессии, которая показала, что наибольшее влияние на факт оттока оказывают средняя частота посещений в неделю за все время с начала действия абонемента, возраст, время с момента первого обращения в фитнес-центр, средняя частота посещений в неделю за предыдущий месяц."
   ]
  },
  {
   "cell_type": "markdown",
   "metadata": {},
   "source": [
    "## Классификация клиентов\n",
    "\n",
    "В этом разделе мы проведем кластеризацию клиентов фитнес-клуба. Сначала нарисуем дендрограмму для того, чтобы определить число кластеров, а затем проведем кластерный анализ методом k-means."
   ]
  },
  {
   "cell_type": "markdown",
   "metadata": {},
   "source": [
    "### Иерархический кластерный анализ\n",
    "\n",
    "Перед отображением дендрограммы стандартизируем данные, затем строим матрицу расстояний между наблюдениями. Выводим дендрограмму, на которой отображается 4 кластера.\n",
    "\n",
    "Далее методом k-means мы построим 4-кластерную модель."
   ]
  },
  {
   "cell_type": "code",
   "execution_count": 16,
   "metadata": {},
   "outputs": [
    {
     "data": {
      "image/png": "[encoded data removed]",
      "text/plain": [
       "<Figure size 1080x720 with 1 Axes>"
      ]
     },
     "metadata": {
      "needs_background": "light"
     },
     "output_type": "display_data"
    }
   ],
   "source": [
    "sc = StandardScaler()\n",
    "X_sc = sc.fit_transform(X)\n",
    "\n",
    "linked = linkage(X_sc, method = 'ward')\n",
    "\n",
    "plt.figure(figsize=(15, 10))  \n",
    "dendrogram(linked, orientation='top')\n",
    "plt.title('Иерархическая кластеризация клиентов фитнес-клуба')\n",
    "plt.show()"
   ]
  },
  {
   "cell_type": "markdown",
   "metadata": {},
   "source": [
    "### Кластерный анализ k-means с 4 кластерами"
   ]
  },
  {
   "cell_type": "markdown",
   "metadata": {},
   "source": [
    "Построим 4-кластерную модель, как подсказала дендрограмма. Как мы видим, доля оттока ниже всего в 3 и 4 кластерах (9% и 3% соответственно), доля оттока выше всего во 2 кластере (56%).\n",
    "\n",
    "Отличительные черты 2 кластера:\n",
    "* Ниже доля живущих или работающих в районе расположения фитнес-клуба\n",
    "* Длительность абонемента короче\n",
    "* Ниже доля посещения групповых занятий\n",
    "* Ниже суммарные траты на другие услуги фитнес-центра\n",
    "* Меньше времени прошло с момента первого обращения в фитнес-центр (в месяцах).\n",
    "* Меньше раз в неделю посещают фитнес-центр за все время с начала действия абонемента"
   ]
  },
  {
   "cell_type": "code",
   "execution_count": 18,
   "metadata": {},
   "outputs": [
    {
     "data": {
      "text/html": [
       "<div>\n",
       "<style scoped>\n",
       "    .dataframe tbody tr th:only-of-type {\n",
       "        vertical-align: middle;\n",
       "    }\n",
       "\n",
       "    .dataframe tbody tr th {\n",
       "        vertical-align: top;\n",
       "    }\n",
       "\n",
       "    .dataframe thead th {\n",
       "        text-align: right;\n",
       "    }\n",
       "</style>\n",
       "<table border=\"1\" class=\"dataframe\">\n",
       "  <thead>\n",
       "    <tr style=\"text-align: right;\">\n",
       "      <th>cluster_4</th>\n",
       "      <th>0</th>\n",
       "      <th>1</th>\n",
       "      <th>2</th>\n",
       "      <th>3</th>\n",
       "    </tr>\n",
       "  </thead>\n",
       "  <tbody>\n",
       "    <tr>\n",
       "      <th>gender</th>\n",
       "      <td>0.523316</td>\n",
       "      <td>0.486815</td>\n",
       "      <td>0.544939</td>\n",
       "      <td>0.503711</td>\n",
       "    </tr>\n",
       "    <tr>\n",
       "      <th>near_location</th>\n",
       "      <td>0.862694</td>\n",
       "      <td>0.759297</td>\n",
       "      <td>0.861873</td>\n",
       "      <td>0.940631</td>\n",
       "    </tr>\n",
       "    <tr>\n",
       "      <th>partner</th>\n",
       "      <td>0.471503</td>\n",
       "      <td>0.381339</td>\n",
       "      <td>0.343425</td>\n",
       "      <td>0.777365</td>\n",
       "    </tr>\n",
       "    <tr>\n",
       "      <th>promo_friends</th>\n",
       "      <td>0.305699</td>\n",
       "      <td>0.190669</td>\n",
       "      <td>0.205298</td>\n",
       "      <td>0.572356</td>\n",
       "    </tr>\n",
       "    <tr>\n",
       "      <th>phone</th>\n",
       "      <td>0.000000</td>\n",
       "      <td>1.000000</td>\n",
       "      <td>1.000000</td>\n",
       "      <td>1.000000</td>\n",
       "    </tr>\n",
       "    <tr>\n",
       "      <th>contract_period</th>\n",
       "      <td>4.777202</td>\n",
       "      <td>1.899256</td>\n",
       "      <td>2.403027</td>\n",
       "      <td>10.697588</td>\n",
       "    </tr>\n",
       "    <tr>\n",
       "      <th>group_visits</th>\n",
       "      <td>0.427461</td>\n",
       "      <td>0.292765</td>\n",
       "      <td>0.447493</td>\n",
       "      <td>0.536178</td>\n",
       "    </tr>\n",
       "    <tr>\n",
       "      <th>age</th>\n",
       "      <td>29.297927</td>\n",
       "      <td>28.048005</td>\n",
       "      <td>29.989593</td>\n",
       "      <td>29.912801</td>\n",
       "    </tr>\n",
       "    <tr>\n",
       "      <th>avg_additional_charges_total</th>\n",
       "      <td>144.208179</td>\n",
       "      <td>129.704525</td>\n",
       "      <td>157.358764</td>\n",
       "      <td>161.363032</td>\n",
       "    </tr>\n",
       "    <tr>\n",
       "      <th>month_to_end_contract</th>\n",
       "      <td>4.466321</td>\n",
       "      <td>1.805274</td>\n",
       "      <td>2.239357</td>\n",
       "      <td>9.768089</td>\n",
       "    </tr>\n",
       "    <tr>\n",
       "      <th>lifetime</th>\n",
       "      <td>3.940415</td>\n",
       "      <td>2.235294</td>\n",
       "      <td>4.704825</td>\n",
       "      <td>4.730056</td>\n",
       "    </tr>\n",
       "    <tr>\n",
       "      <th>avg_class_frequency_total</th>\n",
       "      <td>1.854211</td>\n",
       "      <td>1.204610</td>\n",
       "      <td>2.724796</td>\n",
       "      <td>1.983884</td>\n",
       "    </tr>\n",
       "    <tr>\n",
       "      <th>avg_class_frequency_current_month</th>\n",
       "      <td>1.723967</td>\n",
       "      <td>0.951590</td>\n",
       "      <td>2.711132</td>\n",
       "      <td>1.975592</td>\n",
       "    </tr>\n",
       "    <tr>\n",
       "      <th>churn</th>\n",
       "      <td>0.266839</td>\n",
       "      <td>0.559838</td>\n",
       "      <td>0.092715</td>\n",
       "      <td>0.029685</td>\n",
       "    </tr>\n",
       "  </tbody>\n",
       "</table>\n",
       "</div>"
      ],
      "text/plain": [
       "cluster_4                                   0           1           2  \\\n",
       "gender                               0.523316    0.486815    0.544939   \n",
       "near_location                        0.862694    0.759297    0.861873   \n",
       "partner                              0.471503    0.381339    0.343425   \n",
       "promo_friends                        0.305699    0.190669    0.205298   \n",
       "phone                                0.000000    1.000000    1.000000   \n",
       "contract_period                      4.777202    1.899256    2.403027   \n",
       "group_visits                         0.427461    0.292765    0.447493   \n",
       "age                                 29.297927   28.048005   29.989593   \n",
       "avg_additional_charges_total       144.208179  129.704525  157.358764   \n",
       "month_to_end_contract                4.466321    1.805274    2.239357   \n",
       "lifetime                             3.940415    2.235294    4.704825   \n",
       "avg_class_frequency_total            1.854211    1.204610    2.724796   \n",
       "avg_class_frequency_current_month    1.723967    0.951590    2.711132   \n",
       "churn                                0.266839    0.559838    0.092715   \n",
       "\n",
       "cluster_4                                   3  \n",
       "gender                               0.503711  \n",
       "near_location                        0.940631  \n",
       "partner                              0.777365  \n",
       "promo_friends                        0.572356  \n",
       "phone                                1.000000  \n",
       "contract_period                     10.697588  \n",
       "group_visits                         0.536178  \n",
       "age                                 29.912801  \n",
       "avg_additional_charges_total       161.363032  \n",
       "month_to_end_contract                9.768089  \n",
       "lifetime                             4.730056  \n",
       "avg_class_frequency_total            1.983884  \n",
       "avg_class_frequency_current_month    1.975592  \n",
       "churn                                0.029685  "
      ]
     },
     "metadata": {},
     "output_type": "display_data"
    },
    {
     "data": {
      "image/png": "[encoded data removed]",
      "text/plain": [
       "<Figure size 720x360 with 1 Axes>"
      ]
     },
     "metadata": {
      "needs_background": "light"
     },
     "output_type": "display_data"
    }
   ],
   "source": [
    "km_4 = KMeans(n_clusters=4, random_state=0)\n",
    "labels_4 = km_4.fit_predict(X_sc)\n",
    "\n",
    "df['cluster_4'] = labels_4\n",
    "display(df.groupby('cluster_4').mean().T)\n",
    "\n",
    "df.groupby('cluster_4').agg({'churn': 'mean'}).plot(kind='bar', alpha=0.5, figsize=(10, 5))\n",
    "plt.title('Доля оттока в кластерах')\n",
    "plt.xlabel('Кластер')\n",
    "plt.ylabel('Доля оттока')\n",
    "plt.show()"
   ]
  },
  {
   "cell_type": "markdown",
   "metadata": {},
   "source": [
    "Выведем распределения признаков для непрерывных величин в разрезе кластеров. Как мы видим клиенты из 2 кластера (индекс 1) реже посещают занятия за последний месяц и с начала приобретения абонемента, им осталось меньше времени до окончания абонемента (возможно, за счет более коротких абонементов)."
   ]
  },
  {
   "cell_type": "code",
   "execution_count": 19,
   "metadata": {},
   "outputs": [
    {
     "data": {
      "image/png": "[encoded data removed]",
      "text/plain": [
       "<Figure size 1440x1440 with 5 Axes>"
      ]
     },
     "metadata": {
      "needs_background": "light"
     },
     "output_type": "display_data"
    }
   ],
   "source": [
    "plt.figure(figsize=(20, 20))\n",
    "for i, variable in zip(numbers_to_plot, variables_to_plot):\n",
    "    df.groupby('cluster_4')[variable].plot(kind='kde', alpha=0.5, ax=plt.subplot(2,3,i))\n",
    "    plt.title(variable)\n",
    "    plt.xlabel(\"Значения\")\n",
    "    plt.ylabel('Частота')\n",
    "    plt.legend()"
   ]
  },
  {
   "cell_type": "markdown",
   "metadata": {},
   "source": [
    "Выведем столбчатые диаграммы с нормированием для дискретных признаков в разрезе кластеров. Как мы видим, клиенты из 2 кластера (индекс 1) меньше посещают групповые занятия, имеют более короткие абонементы, доля новых клиентов выше, доля не живущих / работающих клиентов в районе фитнес-клуба выше."
   ]
  },
  {
   "cell_type": "code",
   "execution_count": 20,
   "metadata": {},
   "outputs": [
    {
     "data": {
      "image/png": "[encoded data removed]",
      "text/plain": [
       "<Figure size 1440x1800 with 8 Axes>"
      ]
     },
     "metadata": {
      "needs_background": "light"
     },
     "output_type": "display_data"
    }
   ],
   "source": [
    "def barplot_clusters(variable, cluster, place):\n",
    "    cross_tab_prop = pd.crosstab(index=df[cluster],\n",
    "                                 columns=df[variable],\n",
    "                                 normalize=\"index\")\n",
    "    cross_tab_prop.plot(kind='bar',\n",
    "                        stacked=True,\n",
    "                        alpha=0.5, ax=plt.subplot(4,2,place))\n",
    "    plt.legend(loc=\"upper left\", ncol=2)\n",
    "    plt.title(variable)\n",
    "    plt.xlabel('Кластер')\n",
    "    plt.ylabel('Доля')\n",
    "\n",
    "\n",
    "plt.figure(figsize=(20, 25))\n",
    "barplot_clusters('gender', 'cluster_4', 1)\n",
    "barplot_clusters('group_visits', 'cluster_4', 2)\n",
    "barplot_clusters('contract_period', 'cluster_4', 3)\n",
    "barplot_clusters('lifetime', 'cluster_4', 4)\n",
    "barplot_clusters('near_location', 'cluster_4', 5)\n",
    "barplot_clusters('partner', 'cluster_4', 6)\n",
    "barplot_clusters('phone', 'cluster_4', 7)\n",
    "barplot_clusters('promo_friends', 'cluster_4', 8)"
   ]
  },
  {
   "cell_type": "markdown",
   "metadata": {},
   "source": [
    "### Вывод по разделу\n",
    "\n",
    "В этом разделе мы провели иерархический кластерный анализ, а затем 2 анализа методом k-means (на 4 и 5 кластеров). 4-кластерная модель легче интерпретируется, так что стоит остановиться на ней.\n",
    "Модель показывает, что в кластерах с высокой долей оттока клиенты реже посещают занятия за последний месяц и с начала приобретения абонемента, им осталось меньше времени до окончания абонемента, меньше посещают групповые занятия, имеют более короткие абонементы, доля новых клиентов выше, доля не живущих / работающих клиентов в районе фитнес-клуба выше."
   ]
  },
  {
   "cell_type": "markdown",
   "metadata": {},
   "source": [
    "## Основные выводы и базовые рекомендации по работе с клиентами"
   ]
  },
  {
   "cell_type": "markdown",
   "metadata": {},
   "source": [
    "В заключение стоит еще раз остановиться на основных выводах и рекомендациях для стратегии взаимодействия с клиентами.\n",
    "\n",
    "Основные выводы:\n",
    "* Модель логистической регрессии показала, что наибольшее влияние на факт оттока оказывают средняя частота посещений в неделю за все время с начала действия абонемента, возраст, время с момента первого обращения в фитнес-центр, средняя частота посещений в неделю за предыдущий месяц\n",
    "* Ушедшие в отток клиенты в среднем моложе, меньше посещают занятия за последний месяц и за все время действия абонемента, меньше пользуются другими услугами фитнес-клуба, имеют абонементы с меньшей длительностью, реже ходят на групповые занятия, \n",
    "* Факт оттока клиентов отрицательно связан с длительностью текущего действующего абонемента, возрастом, временем с момента первого обращения в фитнес-центр, средней частотой посещений в неделю за предыдущий месяц.\n",
    "* Кластерный анализ показал, что клиенты в кластерах с наименьшим оттоком чаще посещают групповые занятия, имеют более длительные абонементы, большая доля живет / работает в районе расположения фитнес-центра, большая доля пользуется программой \"приведи друга\".\n",
    "\n",
    "\n",
    "Таким образом, основные рекомендации для стратегии будут касаться вовлечения клиентов во все разнообразие услуг фитнес-центра: групповые занятия, другие услуги центра (массаж, кафе и т. д.).\n",
    "\n",
    "Также, так как мы выявили, что доля оттока ниже среди старых клиентов, стоит работать над увеличением продолжительности пользования центром. Возможно, стоит поднять минимальную длительность абонемента до 6 месяцев, либо придумать программы лояльности для клиентов, остающихся долго членами клуба."
   ]
  }
 ],
 "metadata": {
  "ExecuteTimeLog": [
   {
    "duration": 1577,
    "start_time": "2022-04-18T13:58:15.629Z"
   },
   {
    "duration": 47,
    "start_time": "2022-04-18T13:59:32.813Z"
   },
   {
    "duration": 17,
    "start_time": "2022-04-18T14:00:49.999Z"
   },
   {
    "duration": 6,
    "start_time": "2022-04-18T14:05:34.583Z"
   },
   {
    "duration": 7,
    "start_time": "2022-04-18T14:09:23.745Z"
   },
   {
    "duration": 109,
    "start_time": "2022-04-18T14:10:33.448Z"
   },
   {
    "duration": 8,
    "start_time": "2022-04-18T14:10:50.297Z"
   },
   {
    "duration": 4,
    "start_time": "2022-04-18T14:10:57.997Z"
   },
   {
    "duration": 9,
    "start_time": "2022-04-18T14:11:56.415Z"
   },
   {
    "duration": 13,
    "start_time": "2022-04-18T14:24:43.108Z"
   },
   {
    "duration": 7,
    "start_time": "2022-04-18T14:31:52.331Z"
   },
   {
    "duration": 11,
    "start_time": "2022-04-18T14:32:21.548Z"
   },
   {
    "duration": 3,
    "start_time": "2022-04-18T14:32:31.641Z"
   },
   {
    "duration": 44,
    "start_time": "2022-04-18T14:32:31.646Z"
   },
   {
    "duration": 10,
    "start_time": "2022-04-18T14:32:31.692Z"
   },
   {
    "duration": 13,
    "start_time": "2022-04-18T14:32:31.704Z"
   },
   {
    "duration": 13,
    "start_time": "2022-04-18T14:32:31.718Z"
   },
   {
    "duration": 8,
    "start_time": "2022-04-18T14:32:38.829Z"
   },
   {
    "duration": 1393,
    "start_time": "2022-04-18T14:34:07.311Z"
   },
   {
    "duration": 36,
    "start_time": "2022-04-18T14:34:08.707Z"
   },
   {
    "duration": 19,
    "start_time": "2022-04-18T14:34:08.746Z"
   },
   {
    "duration": 7,
    "start_time": "2022-04-18T14:34:08.767Z"
   },
   {
    "duration": 46,
    "start_time": "2022-04-18T14:34:08.777Z"
   },
   {
    "duration": 12,
    "start_time": "2022-04-18T14:34:08.825Z"
   },
   {
    "duration": 1453,
    "start_time": "2022-04-19T14:12:57.251Z"
   },
   {
    "duration": 29,
    "start_time": "2022-04-19T14:12:58.706Z"
   },
   {
    "duration": 11,
    "start_time": "2022-04-19T14:12:58.737Z"
   },
   {
    "duration": 4,
    "start_time": "2022-04-19T14:12:58.750Z"
   },
   {
    "duration": 9,
    "start_time": "2022-04-19T14:12:58.757Z"
   },
   {
    "duration": 9,
    "start_time": "2022-04-19T14:12:58.768Z"
   },
   {
    "duration": 46,
    "start_time": "2022-04-19T14:13:28.071Z"
   },
   {
    "duration": 4,
    "start_time": "2022-04-19T14:17:37.442Z"
   },
   {
    "duration": 30,
    "start_time": "2022-04-19T14:18:24.977Z"
   },
   {
    "duration": 25,
    "start_time": "2022-04-19T14:18:47.271Z"
   },
   {
    "duration": 26,
    "start_time": "2022-04-19T14:19:07.732Z"
   },
   {
    "duration": 21,
    "start_time": "2022-04-19T14:19:40.661Z"
   },
   {
    "duration": 55,
    "start_time": "2022-04-19T14:22:02.210Z"
   },
   {
    "duration": 1810,
    "start_time": "2022-04-19T14:25:47.805Z"
   },
   {
    "duration": 5,
    "start_time": "2022-04-19T14:26:00.125Z"
   },
   {
    "duration": 6,
    "start_time": "2022-04-19T14:27:54.543Z"
   },
   {
    "duration": 26,
    "start_time": "2022-04-19T14:29:10.044Z"
   },
   {
    "duration": 21,
    "start_time": "2022-04-19T14:29:25.449Z"
   },
   {
    "duration": 11,
    "start_time": "2022-04-19T14:35:30.074Z"
   },
   {
    "duration": 9,
    "start_time": "2022-04-19T14:37:42.748Z"
   },
   {
    "duration": 151,
    "start_time": "2022-04-19T14:38:00.631Z"
   },
   {
    "duration": 12,
    "start_time": "2022-04-19T14:38:17.400Z"
   },
   {
    "duration": 113,
    "start_time": "2022-04-19T14:38:52.319Z"
   },
   {
    "duration": 124,
    "start_time": "2022-04-19T14:39:56.071Z"
   },
   {
    "duration": 207,
    "start_time": "2022-04-19T14:40:03.884Z"
   },
   {
    "duration": 130,
    "start_time": "2022-04-19T14:40:12.054Z"
   },
   {
    "duration": 121,
    "start_time": "2022-04-19T14:41:14.970Z"
   },
   {
    "duration": 496,
    "start_time": "2022-04-19T14:45:17.765Z"
   },
   {
    "duration": 548,
    "start_time": "2022-04-19T14:45:43.712Z"
   },
   {
    "duration": 580,
    "start_time": "2022-04-19T14:45:52.985Z"
   },
   {
    "duration": 141,
    "start_time": "2022-04-19T14:46:52.212Z"
   },
   {
    "duration": 135,
    "start_time": "2022-04-19T14:47:06.413Z"
   },
   {
    "duration": 478,
    "start_time": "2022-04-19T14:47:11.648Z"
   },
   {
    "duration": 3,
    "start_time": "2022-04-19T14:48:26.721Z"
   },
   {
    "duration": 136,
    "start_time": "2022-04-19T14:48:40.595Z"
   },
   {
    "duration": 3,
    "start_time": "2022-04-19T14:48:47.261Z"
   },
   {
    "duration": 3,
    "start_time": "2022-04-19T14:49:02.272Z"
   },
   {
    "duration": 500,
    "start_time": "2022-04-19T14:50:35.573Z"
   },
   {
    "duration": 643,
    "start_time": "2022-04-19T14:50:47.212Z"
   },
   {
    "duration": 524,
    "start_time": "2022-04-19T14:51:20.784Z"
   },
   {
    "duration": 3,
    "start_time": "2022-04-19T14:52:08.923Z"
   },
   {
    "duration": 4,
    "start_time": "2022-04-19T14:52:12.567Z"
   },
   {
    "duration": 9,
    "start_time": "2022-04-19T14:52:18.275Z"
   },
   {
    "duration": 4,
    "start_time": "2022-04-19T14:52:25.769Z"
   },
   {
    "duration": 520,
    "start_time": "2022-04-19T14:52:42.763Z"
   },
   {
    "duration": 608,
    "start_time": "2022-04-19T14:53:11.208Z"
   },
   {
    "duration": 5,
    "start_time": "2022-04-19T14:54:04.478Z"
   },
   {
    "duration": 855,
    "start_time": "2022-04-19T14:54:47.901Z"
   },
   {
    "duration": 739,
    "start_time": "2022-04-19T14:55:35.058Z"
   },
   {
    "duration": 903,
    "start_time": "2022-04-19T14:56:36.352Z"
   },
   {
    "duration": 931,
    "start_time": "2022-04-19T14:57:13.604Z"
   },
   {
    "duration": 794,
    "start_time": "2022-04-19T14:57:20.412Z"
   },
   {
    "duration": 836,
    "start_time": "2022-04-19T14:57:25.712Z"
   },
   {
    "duration": 940,
    "start_time": "2022-04-19T14:57:47.239Z"
   },
   {
    "duration": 950,
    "start_time": "2022-04-19T14:58:03.191Z"
   },
   {
    "duration": 797,
    "start_time": "2022-04-19T14:58:35.111Z"
   },
   {
    "duration": 222,
    "start_time": "2022-04-19T14:59:27.260Z"
   },
   {
    "duration": 822,
    "start_time": "2022-04-19T14:59:36.973Z"
   },
   {
    "duration": 1020,
    "start_time": "2022-04-19T15:01:59.184Z"
   },
   {
    "duration": 798,
    "start_time": "2022-04-19T15:03:28.430Z"
   },
   {
    "duration": 1518,
    "start_time": "2022-04-19T15:03:48.265Z"
   },
   {
    "duration": 1177,
    "start_time": "2022-04-19T15:03:56.952Z"
   },
   {
    "duration": 943,
    "start_time": "2022-04-19T15:04:06.448Z"
   },
   {
    "duration": 11,
    "start_time": "2022-04-19T15:06:32.063Z"
   },
   {
    "duration": 14,
    "start_time": "2022-04-19T15:06:53.576Z"
   },
   {
    "duration": 143,
    "start_time": "2022-04-19T15:07:21.216Z"
   },
   {
    "duration": 26,
    "start_time": "2022-04-19T15:07:54.299Z"
   },
   {
    "duration": 174,
    "start_time": "2022-04-19T15:08:19.125Z"
   },
   {
    "duration": 262,
    "start_time": "2022-04-19T15:09:05.707Z"
   },
   {
    "duration": 638,
    "start_time": "2022-04-19T15:13:15.302Z"
   },
   {
    "duration": 716,
    "start_time": "2022-04-19T15:13:24.775Z"
   },
   {
    "duration": 1107,
    "start_time": "2022-04-19T15:14:39.803Z"
   },
   {
    "duration": 1078,
    "start_time": "2022-04-19T15:14:55.504Z"
   },
   {
    "duration": 91,
    "start_time": "2022-04-19T15:15:45.620Z"
   },
   {
    "duration": 102,
    "start_time": "2022-04-19T15:16:22.311Z"
   },
   {
    "duration": 86,
    "start_time": "2022-04-19T15:16:43.516Z"
   },
   {
    "duration": 15,
    "start_time": "2022-04-19T15:17:05.222Z"
   },
   {
    "duration": 138,
    "start_time": "2022-04-19T15:17:18.133Z"
   },
   {
    "duration": 141,
    "start_time": "2022-04-19T15:17:28.190Z"
   },
   {
    "duration": 123,
    "start_time": "2022-04-19T15:17:41.020Z"
   },
   {
    "duration": 1240,
    "start_time": "2022-04-19T15:18:03.851Z"
   },
   {
    "duration": 1139,
    "start_time": "2022-04-19T15:18:26.965Z"
   },
   {
    "duration": 91,
    "start_time": "2022-04-19T15:18:47.499Z"
   },
   {
    "duration": 1263,
    "start_time": "2022-04-19T15:18:59.412Z"
   },
   {
    "duration": 1151,
    "start_time": "2022-04-19T15:19:49.218Z"
   },
   {
    "duration": 997,
    "start_time": "2022-04-19T15:19:59.375Z"
   },
   {
    "duration": 1221,
    "start_time": "2022-04-19T15:20:40.245Z"
   },
   {
    "duration": 212,
    "start_time": "2022-04-19T15:27:57.095Z"
   },
   {
    "duration": 138,
    "start_time": "2022-04-19T15:28:11.783Z"
   },
   {
    "duration": 1182,
    "start_time": "2022-04-19T15:29:49.461Z"
   },
   {
    "duration": 1433,
    "start_time": "2022-04-19T15:30:28.558Z"
   },
   {
    "duration": 1250,
    "start_time": "2022-04-19T15:30:58.140Z"
   },
   {
    "duration": 149,
    "start_time": "2022-04-19T15:31:19.260Z"
   },
   {
    "duration": 1393,
    "start_time": "2022-04-19T15:31:28.740Z"
   },
   {
    "duration": 1248,
    "start_time": "2022-04-19T15:32:22.091Z"
   },
   {
    "duration": 999,
    "start_time": "2022-04-19T15:33:16.303Z"
   },
   {
    "duration": 1614,
    "start_time": "2022-04-19T15:34:03.606Z"
   },
   {
    "duration": 1401,
    "start_time": "2022-04-19T15:34:13.666Z"
   },
   {
    "duration": 1369,
    "start_time": "2022-04-19T15:34:25.100Z"
   },
   {
    "duration": 1315,
    "start_time": "2022-04-19T15:34:43.060Z"
   },
   {
    "duration": 22,
    "start_time": "2022-04-19T15:37:15.770Z"
   },
   {
    "duration": 517,
    "start_time": "2022-04-19T15:37:36.123Z"
   },
   {
    "duration": 464,
    "start_time": "2022-04-19T15:41:13.631Z"
   },
   {
    "duration": 14,
    "start_time": "2022-04-19T15:42:53.614Z"
   },
   {
    "duration": 3,
    "start_time": "2022-04-19T15:43:08.159Z"
   },
   {
    "duration": 655,
    "start_time": "2022-04-19T15:43:12.540Z"
   },
   {
    "duration": 944,
    "start_time": "2022-04-19T15:44:07.930Z"
   },
   {
    "duration": 513,
    "start_time": "2022-04-19T15:44:16.697Z"
   },
   {
    "duration": 482,
    "start_time": "2022-04-19T15:44:23.416Z"
   },
   {
    "duration": 458,
    "start_time": "2022-04-19T15:44:46.937Z"
   },
   {
    "duration": 505,
    "start_time": "2022-04-19T15:48:46.872Z"
   },
   {
    "duration": 489,
    "start_time": "2022-04-19T15:48:50.998Z"
   },
   {
    "duration": 523,
    "start_time": "2022-04-19T15:48:57.204Z"
   },
   {
    "duration": 468,
    "start_time": "2022-04-19T15:49:18.728Z"
   },
   {
    "duration": 639,
    "start_time": "2022-04-19T15:49:32.264Z"
   },
   {
    "duration": 444,
    "start_time": "2022-04-19T15:49:49.336Z"
   },
   {
    "duration": 1489,
    "start_time": "2022-04-20T09:12:16.851Z"
   },
   {
    "duration": 26,
    "start_time": "2022-04-20T09:12:18.342Z"
   },
   {
    "duration": 10,
    "start_time": "2022-04-20T09:12:18.370Z"
   },
   {
    "duration": 4,
    "start_time": "2022-04-20T09:12:18.381Z"
   },
   {
    "duration": 11,
    "start_time": "2022-04-20T09:12:18.386Z"
   },
   {
    "duration": 7,
    "start_time": "2022-04-20T09:12:18.398Z"
   },
   {
    "duration": 38,
    "start_time": "2022-04-20T09:12:18.423Z"
   },
   {
    "duration": 5,
    "start_time": "2022-04-20T09:12:18.462Z"
   },
   {
    "duration": 24,
    "start_time": "2022-04-20T09:12:18.469Z"
   },
   {
    "duration": 949,
    "start_time": "2022-04-20T09:12:18.495Z"
   },
   {
    "duration": 1183,
    "start_time": "2022-04-20T09:12:19.445Z"
   },
   {
    "duration": 468,
    "start_time": "2022-04-20T09:12:20.630Z"
   },
   {
    "duration": 102,
    "start_time": "2022-04-20T14:34:08.253Z"
   },
   {
    "duration": 3,
    "start_time": "2022-04-20T14:34:48.598Z"
   },
   {
    "duration": 7,
    "start_time": "2022-04-20T14:34:52.420Z"
   },
   {
    "duration": 7,
    "start_time": "2022-04-20T14:37:48.982Z"
   },
   {
    "duration": 13,
    "start_time": "2022-04-20T14:43:25.612Z"
   },
   {
    "duration": 3,
    "start_time": "2022-04-20T14:43:52.311Z"
   },
   {
    "duration": 10,
    "start_time": "2022-04-20T14:46:48.664Z"
   },
   {
    "duration": 13,
    "start_time": "2022-04-20T14:47:00.763Z"
   },
   {
    "duration": 20,
    "start_time": "2022-04-20T14:47:30.379Z"
   },
   {
    "duration": 3,
    "start_time": "2022-04-20T14:48:20.338Z"
   },
   {
    "duration": 15,
    "start_time": "2022-04-20T14:48:24.901Z"
   },
   {
    "duration": 18,
    "start_time": "2022-04-20T14:50:43.031Z"
   },
   {
    "duration": 9,
    "start_time": "2022-04-20T14:51:43.427Z"
   },
   {
    "duration": 5,
    "start_time": "2022-04-20T14:52:01.370Z"
   },
   {
    "duration": 16,
    "start_time": "2022-04-20T14:58:05.072Z"
   },
   {
    "duration": 10,
    "start_time": "2022-04-20T15:02:55.075Z"
   },
   {
    "duration": 3,
    "start_time": "2022-04-20T15:03:03.183Z"
   },
   {
    "duration": 317,
    "start_time": "2022-04-20T15:03:07.315Z"
   },
   {
    "duration": 5,
    "start_time": "2022-04-20T15:06:31.635Z"
   },
   {
    "duration": 69,
    "start_time": "2022-04-20T15:15:07.767Z"
   },
   {
    "duration": 30,
    "start_time": "2022-04-20T15:15:18.815Z"
   },
   {
    "duration": 16,
    "start_time": "2022-04-20T15:16:14.149Z"
   },
   {
    "duration": 21,
    "start_time": "2022-04-20T15:16:18.262Z"
   },
   {
    "duration": 23,
    "start_time": "2022-04-20T15:16:26.025Z"
   },
   {
    "duration": 7,
    "start_time": "2022-04-20T15:16:45.342Z"
   },
   {
    "duration": 6,
    "start_time": "2022-04-20T15:16:50.445Z"
   },
   {
    "duration": 27,
    "start_time": "2022-04-20T15:17:16.206Z"
   },
   {
    "duration": 95,
    "start_time": "2022-04-20T15:17:23.137Z"
   },
   {
    "duration": 11,
    "start_time": "2022-04-20T15:17:54.419Z"
   },
   {
    "duration": 9,
    "start_time": "2022-04-20T15:19:36.388Z"
   },
   {
    "duration": 9,
    "start_time": "2022-04-20T15:20:13.182Z"
   },
   {
    "duration": 7,
    "start_time": "2022-04-20T15:22:37.608Z"
   },
   {
    "duration": 17,
    "start_time": "2022-04-20T15:22:55.296Z"
   },
   {
    "duration": 15,
    "start_time": "2022-04-20T15:27:51.474Z"
   },
   {
    "duration": 15,
    "start_time": "2022-04-20T15:28:06.484Z"
   },
   {
    "duration": 9,
    "start_time": "2022-04-20T15:28:14.295Z"
   },
   {
    "duration": 4,
    "start_time": "2022-04-20T15:28:20.946Z"
   },
   {
    "duration": 5,
    "start_time": "2022-04-20T15:28:29.922Z"
   },
   {
    "duration": 15,
    "start_time": "2022-04-20T15:28:43.433Z"
   },
   {
    "duration": 4,
    "start_time": "2022-04-20T15:28:59.085Z"
   },
   {
    "duration": 11,
    "start_time": "2022-04-20T15:31:21.973Z"
   },
   {
    "duration": 8,
    "start_time": "2022-04-20T15:31:29.898Z"
   },
   {
    "duration": 9,
    "start_time": "2022-04-20T15:31:55.298Z"
   },
   {
    "duration": 8,
    "start_time": "2022-04-20T15:32:14.898Z"
   },
   {
    "duration": 116,
    "start_time": "2022-04-20T15:32:34.251Z"
   },
   {
    "duration": 8,
    "start_time": "2022-04-20T15:32:36.713Z"
   },
   {
    "duration": 4,
    "start_time": "2022-04-20T15:32:38.616Z"
   },
   {
    "duration": 16,
    "start_time": "2022-04-20T15:33:51.131Z"
   },
   {
    "duration": 4,
    "start_time": "2022-04-20T15:34:03.082Z"
   },
   {
    "duration": 3,
    "start_time": "2022-04-20T15:34:07.370Z"
   },
   {
    "duration": 10,
    "start_time": "2022-04-20T15:34:14.425Z"
   },
   {
    "duration": 4,
    "start_time": "2022-04-20T15:34:23.994Z"
   },
   {
    "duration": 4,
    "start_time": "2022-04-20T15:35:20.508Z"
   },
   {
    "duration": 7,
    "start_time": "2022-04-20T15:35:37.482Z"
   },
   {
    "duration": 4,
    "start_time": "2022-04-20T15:36:21.306Z"
   },
   {
    "duration": 4,
    "start_time": "2022-04-20T15:36:36.809Z"
   },
   {
    "duration": 4,
    "start_time": "2022-04-20T15:37:23.385Z"
   },
   {
    "duration": 7,
    "start_time": "2022-04-20T15:37:29.924Z"
   },
   {
    "duration": 18,
    "start_time": "2022-04-20T15:37:46.930Z"
   },
   {
    "duration": 4,
    "start_time": "2022-04-20T15:38:51.538Z"
   },
   {
    "duration": 9,
    "start_time": "2022-04-20T15:40:03.424Z"
   },
   {
    "duration": 9,
    "start_time": "2022-04-20T15:40:16.337Z"
   },
   {
    "duration": 9,
    "start_time": "2022-04-20T15:41:12.840Z"
   },
   {
    "duration": 3,
    "start_time": "2022-04-20T15:47:48.237Z"
   },
   {
    "duration": 98577,
    "start_time": "2022-04-20T15:49:14.918Z"
   },
   {
    "duration": 104880,
    "start_time": "2022-04-20T15:52:13.275Z"
   },
   {
    "duration": 14,
    "start_time": "2022-04-20T15:57:50.023Z"
   },
   {
    "duration": 341,
    "start_time": "2022-04-20T16:01:20.178Z"
   },
   {
    "duration": 1474,
    "start_time": "2022-04-20T16:03:38.765Z"
   },
   {
    "duration": 4,
    "start_time": "2022-04-20T16:04:22.331Z"
   },
   {
    "duration": 1298,
    "start_time": "2022-04-20T16:05:54.850Z"
   },
   {
    "duration": 1180,
    "start_time": "2022-04-20T16:06:10.775Z"
   },
   {
    "duration": 1218,
    "start_time": "2022-04-20T17:54:34.321Z"
   },
   {
    "duration": 2834,
    "start_time": "2022-04-21T09:52:56.229Z"
   },
   {
    "duration": 180,
    "start_time": "2022-04-21T09:52:59.066Z"
   },
   {
    "duration": 18,
    "start_time": "2022-04-21T09:52:59.248Z"
   },
   {
    "duration": 12,
    "start_time": "2022-04-21T09:52:59.268Z"
   },
   {
    "duration": 27,
    "start_time": "2022-04-21T09:52:59.283Z"
   },
   {
    "duration": 13,
    "start_time": "2022-04-21T09:52:59.313Z"
   },
   {
    "duration": 110,
    "start_time": "2022-04-21T09:52:59.328Z"
   },
   {
    "duration": 37,
    "start_time": "2022-04-21T09:52:59.440Z"
   },
   {
    "duration": 2710,
    "start_time": "2022-04-21T09:52:59.479Z"
   },
   {
    "duration": 2427,
    "start_time": "2022-04-21T09:53:02.192Z"
   },
   {
    "duration": 799,
    "start_time": "2022-04-21T09:53:04.622Z"
   },
   {
    "duration": 19,
    "start_time": "2022-04-21T09:53:05.423Z"
   },
   {
    "duration": 61,
    "start_time": "2022-04-21T09:53:05.445Z"
   },
   {
    "duration": 604,
    "start_time": "2022-04-21T09:53:05.595Z"
   },
   {
    "duration": 18,
    "start_time": "2022-04-21T09:53:06.202Z"
   },
   {
    "duration": 171505,
    "start_time": "2022-04-21T09:53:06.222Z"
   },
   {
    "duration": 1683,
    "start_time": "2022-04-21T09:55:57.729Z"
   },
   {
    "duration": 1609,
    "start_time": "2022-04-21T09:55:59.414Z"
   },
   {
    "duration": 1600,
    "start_time": "2022-04-21T09:57:30.618Z"
   },
   {
    "duration": 1826,
    "start_time": "2022-04-21T09:58:22.989Z"
   },
   {
    "duration": 1334,
    "start_time": "2022-04-21T09:58:27.870Z"
   },
   {
    "duration": 1591,
    "start_time": "2022-04-21T09:59:01.591Z"
   },
   {
    "duration": 1481,
    "start_time": "2022-04-21T09:59:21.147Z"
   },
   {
    "duration": 2134,
    "start_time": "2022-04-21T09:59:43.712Z"
   },
   {
    "duration": 67,
    "start_time": "2022-04-21T09:59:45.849Z"
   },
   {
    "duration": 18,
    "start_time": "2022-04-21T09:59:45.919Z"
   },
   {
    "duration": 9,
    "start_time": "2022-04-21T09:59:45.940Z"
   },
   {
    "duration": 53,
    "start_time": "2022-04-21T09:59:45.954Z"
   },
   {
    "duration": 12,
    "start_time": "2022-04-21T09:59:46.013Z"
   },
   {
    "duration": 96,
    "start_time": "2022-04-21T09:59:46.028Z"
   },
   {
    "duration": 45,
    "start_time": "2022-04-21T09:59:46.127Z"
   },
   {
    "duration": 1857,
    "start_time": "2022-04-21T09:59:46.175Z"
   },
   {
    "duration": 2316,
    "start_time": "2022-04-21T09:59:48.034Z"
   },
   {
    "duration": 767,
    "start_time": "2022-04-21T09:59:50.352Z"
   },
   {
    "duration": 20,
    "start_time": "2022-04-21T09:59:51.122Z"
   },
   {
    "duration": 58,
    "start_time": "2022-04-21T09:59:51.144Z"
   },
   {
    "duration": 550,
    "start_time": "2022-04-21T09:59:51.293Z"
   },
   {
    "duration": 14,
    "start_time": "2022-04-21T09:59:51.846Z"
   },
   {
    "duration": 166625,
    "start_time": "2022-04-21T09:59:51.863Z"
   },
   {
    "duration": 1518,
    "start_time": "2022-04-21T10:02:38.490Z"
   },
   {
    "duration": 1509,
    "start_time": "2022-04-21T10:02:40.011Z"
   },
   {
    "duration": 2321,
    "start_time": "2022-04-21T10:05:13.216Z"
   },
   {
    "duration": 3147,
    "start_time": "2022-04-21T10:05:38.410Z"
   },
   {
    "duration": 416,
    "start_time": "2022-04-21T10:06:05.157Z"
   },
   {
    "duration": 256,
    "start_time": "2022-04-21T10:07:20.027Z"
   },
   {
    "duration": 2317,
    "start_time": "2022-04-21T10:07:32.830Z"
   },
   {
    "duration": 2298,
    "start_time": "2022-04-21T10:07:54.089Z"
   },
   {
    "duration": 2947,
    "start_time": "2022-04-21T10:11:16.124Z"
   },
   {
    "duration": 13,
    "start_time": "2022-04-21T10:20:16.361Z"
   },
   {
    "duration": 41,
    "start_time": "2022-04-21T10:20:20.190Z"
   },
   {
    "duration": 290,
    "start_time": "2022-04-21T10:21:12.589Z"
   },
   {
    "duration": 293,
    "start_time": "2022-04-21T10:21:28.511Z"
   },
   {
    "duration": 308,
    "start_time": "2022-04-21T10:27:02.150Z"
   },
   {
    "duration": 19,
    "start_time": "2022-04-21T10:27:54.227Z"
   },
   {
    "duration": 20,
    "start_time": "2022-04-21T10:28:55.769Z"
   },
   {
    "duration": 9,
    "start_time": "2022-04-21T10:29:45.525Z"
   },
   {
    "duration": 275,
    "start_time": "2022-04-21T10:30:23.269Z"
   },
   {
    "duration": 530,
    "start_time": "2022-04-21T10:30:42.537Z"
   },
   {
    "duration": 263,
    "start_time": "2022-04-21T10:30:54.209Z"
   },
   {
    "duration": 483,
    "start_time": "2022-04-21T10:31:03.886Z"
   },
   {
    "duration": 475,
    "start_time": "2022-04-21T10:32:32.150Z"
   },
   {
    "duration": 2756,
    "start_time": "2022-04-21T10:32:49.123Z"
   },
   {
    "duration": 3134,
    "start_time": "2022-04-21T10:33:55.485Z"
   },
   {
    "duration": 2687,
    "start_time": "2022-04-21T10:34:46.205Z"
   },
   {
    "duration": 2344,
    "start_time": "2022-04-21T10:37:09.227Z"
   },
   {
    "duration": 2057,
    "start_time": "2022-04-21T10:37:26.827Z"
   },
   {
    "duration": 10,
    "start_time": "2022-04-21T10:38:23.552Z"
   },
   {
    "duration": 203,
    "start_time": "2022-04-21T10:38:54.752Z"
   },
   {
    "duration": 209,
    "start_time": "2022-04-21T10:39:02.059Z"
   },
   {
    "duration": 459,
    "start_time": "2022-04-21T10:39:48.078Z"
   },
   {
    "duration": 353,
    "start_time": "2022-04-21T10:39:52.615Z"
   },
   {
    "duration": 275,
    "start_time": "2022-04-21T10:40:44.665Z"
   },
   {
    "duration": 2386,
    "start_time": "2022-04-21T10:42:57.161Z"
   },
   {
    "duration": 2000,
    "start_time": "2022-04-21T10:43:35.854Z"
   },
   {
    "duration": 2440,
    "start_time": "2022-04-21T10:43:50.717Z"
   },
   {
    "duration": 226,
    "start_time": "2022-04-21T10:44:38.068Z"
   },
   {
    "duration": 167925,
    "start_time": "2022-04-21T10:49:09.171Z"
   },
   {
    "duration": 1946,
    "start_time": "2022-04-21T10:53:16.771Z"
   },
   {
    "duration": 2007,
    "start_time": "2022-04-21T10:53:31.424Z"
   },
   {
    "duration": 1458,
    "start_time": "2022-04-21T11:13:39.105Z"
   },
   {
    "duration": 2679,
    "start_time": "2022-04-21T11:49:33.152Z"
   },
   {
    "duration": 53,
    "start_time": "2022-04-21T11:49:35.834Z"
   },
   {
    "duration": 29,
    "start_time": "2022-04-21T11:49:35.889Z"
   },
   {
    "duration": 6,
    "start_time": "2022-04-21T11:49:35.921Z"
   },
   {
    "duration": 13,
    "start_time": "2022-04-21T11:49:35.929Z"
   },
   {
    "duration": 12,
    "start_time": "2022-04-21T11:49:35.944Z"
   },
   {
    "duration": 101,
    "start_time": "2022-04-21T11:49:35.958Z"
   },
   {
    "duration": 57,
    "start_time": "2022-04-21T11:49:36.062Z"
   },
   {
    "duration": 1824,
    "start_time": "2022-04-21T11:49:36.121Z"
   },
   {
    "duration": 2462,
    "start_time": "2022-04-21T11:49:37.949Z"
   },
   {
    "duration": 908,
    "start_time": "2022-04-21T11:49:40.414Z"
   },
   {
    "duration": 18,
    "start_time": "2022-04-21T11:49:41.325Z"
   },
   {
    "duration": 157,
    "start_time": "2022-04-21T11:49:41.345Z"
   },
   {
    "duration": 606,
    "start_time": "2022-04-21T11:49:41.506Z"
   },
   {
    "duration": 13,
    "start_time": "2022-04-21T11:49:42.115Z"
   },
   {
    "duration": 186452,
    "start_time": "2022-04-21T11:49:42.130Z"
   },
   {
    "duration": 2295,
    "start_time": "2022-04-21T11:52:48.584Z"
   },
   {
    "duration": 2360,
    "start_time": "2022-04-21T11:52:50.882Z"
   },
   {
    "duration": 2581,
    "start_time": "2022-04-21T11:52:53.244Z"
   },
   {
    "duration": 1779,
    "start_time": "2022-04-21T11:52:55.829Z"
   },
   {
    "duration": 2315,
    "start_time": "2022-04-21T11:52:57.610Z"
   },
   {
    "duration": 2449,
    "start_time": "2022-04-21T11:52:59.928Z"
   },
   {
    "duration": 1792,
    "start_time": "2022-04-22T07:20:54.927Z"
   },
   {
    "duration": 31,
    "start_time": "2022-04-22T07:20:56.721Z"
   },
   {
    "duration": 11,
    "start_time": "2022-04-22T07:20:56.754Z"
   },
   {
    "duration": 7,
    "start_time": "2022-04-22T07:20:56.766Z"
   },
   {
    "duration": 9,
    "start_time": "2022-04-22T07:20:56.775Z"
   },
   {
    "duration": 8,
    "start_time": "2022-04-22T07:20:56.785Z"
   },
   {
    "duration": 40,
    "start_time": "2022-04-22T07:21:02.390Z"
   },
   {
    "duration": 3,
    "start_time": "2022-04-22T07:31:12.071Z"
   },
   {
    "duration": 34,
    "start_time": "2022-04-22T07:31:12.078Z"
   },
   {
    "duration": 9,
    "start_time": "2022-04-22T07:31:12.114Z"
   },
   {
    "duration": 4,
    "start_time": "2022-04-22T07:31:12.125Z"
   },
   {
    "duration": 10,
    "start_time": "2022-04-22T07:31:12.131Z"
   },
   {
    "duration": 7,
    "start_time": "2022-04-22T07:31:12.142Z"
   },
   {
    "duration": 40,
    "start_time": "2022-04-22T07:31:12.150Z"
   },
   {
    "duration": 20,
    "start_time": "2022-04-22T07:31:12.191Z"
   },
   {
    "duration": 943,
    "start_time": "2022-04-22T07:31:12.213Z"
   },
   {
    "duration": 1050,
    "start_time": "2022-04-22T07:31:13.157Z"
   },
   {
    "duration": 520,
    "start_time": "2022-04-22T07:31:14.208Z"
   },
   {
    "duration": 13,
    "start_time": "2022-04-22T07:31:17.318Z"
   },
   {
    "duration": 18,
    "start_time": "2022-04-22T07:31:21.904Z"
   },
   {
    "duration": 319,
    "start_time": "2022-04-22T07:31:41.594Z"
   },
   {
    "duration": 17,
    "start_time": "2022-04-22T07:31:48.652Z"
   },
   {
    "duration": 13,
    "start_time": "2022-04-22T07:33:04.423Z"
   },
   {
    "duration": 17,
    "start_time": "2022-04-22T07:33:08.277Z"
   },
   {
    "duration": 14,
    "start_time": "2022-04-22T07:33:23.930Z"
   },
   {
    "duration": 18,
    "start_time": "2022-04-22T07:33:27.710Z"
   },
   {
    "duration": 316,
    "start_time": "2022-04-22T07:33:44.455Z"
   },
   {
    "duration": 18,
    "start_time": "2022-04-22T07:35:56.799Z"
   },
   {
    "duration": 315,
    "start_time": "2022-04-22T07:36:12.682Z"
   },
   {
    "duration": 1976,
    "start_time": "2022-04-22T14:42:48.540Z"
   },
   {
    "duration": 166,
    "start_time": "2022-04-22T14:43:48.354Z"
   },
   {
    "duration": 6,
    "start_time": "2022-04-22T14:43:52.118Z"
   },
   {
    "duration": 35,
    "start_time": "2022-04-22T14:43:52.126Z"
   },
   {
    "duration": 12,
    "start_time": "2022-04-22T14:43:52.163Z"
   },
   {
    "duration": 8,
    "start_time": "2022-04-22T14:43:52.176Z"
   },
   {
    "duration": 13,
    "start_time": "2022-04-22T14:43:52.186Z"
   },
   {
    "duration": 35,
    "start_time": "2022-04-22T14:43:52.200Z"
   },
   {
    "duration": 48,
    "start_time": "2022-04-22T14:43:52.237Z"
   },
   {
    "duration": 30,
    "start_time": "2022-04-22T14:43:52.287Z"
   },
   {
    "duration": 1235,
    "start_time": "2022-04-22T14:43:52.319Z"
   },
   {
    "duration": 1384,
    "start_time": "2022-04-22T14:43:53.556Z"
   },
   {
    "duration": 575,
    "start_time": "2022-04-22T14:43:54.942Z"
   },
   {
    "duration": 17,
    "start_time": "2022-04-22T14:43:55.520Z"
   },
   {
    "duration": 83,
    "start_time": "2022-04-22T14:43:55.538Z"
   },
   {
    "duration": 495,
    "start_time": "2022-04-22T14:44:05.893Z"
   },
   {
    "duration": 202,
    "start_time": "2022-04-22T14:46:04.226Z"
   },
   {
    "duration": 112,
    "start_time": "2022-04-22T14:46:12.718Z"
   },
   {
    "duration": 118,
    "start_time": "2022-04-22T14:46:22.684Z"
   },
   {
    "duration": 76,
    "start_time": "2022-04-22T14:48:13.323Z"
   },
   {
    "duration": 446,
    "start_time": "2022-04-22T14:48:16.619Z"
   },
   {
    "duration": 482,
    "start_time": "2022-04-22T14:49:46.981Z"
   },
   {
    "duration": 202,
    "start_time": "2022-04-22T14:50:01.691Z"
   },
   {
    "duration": 181,
    "start_time": "2022-04-22T14:50:11.518Z"
   },
   {
    "duration": 453,
    "start_time": "2022-04-22T14:50:18.376Z"
   },
   {
    "duration": 1769,
    "start_time": "2022-04-22T14:51:38.661Z"
   },
   {
    "duration": 40,
    "start_time": "2022-04-22T14:51:40.432Z"
   },
   {
    "duration": 12,
    "start_time": "2022-04-22T14:51:40.474Z"
   },
   {
    "duration": 5,
    "start_time": "2022-04-22T14:51:40.488Z"
   },
   {
    "duration": 37,
    "start_time": "2022-04-22T14:51:40.499Z"
   },
   {
    "duration": 10,
    "start_time": "2022-04-22T14:51:40.537Z"
   },
   {
    "duration": 42,
    "start_time": "2022-04-22T14:51:40.549Z"
   },
   {
    "duration": 34,
    "start_time": "2022-04-22T14:51:40.592Z"
   },
   {
    "duration": 1260,
    "start_time": "2022-04-22T14:51:40.628Z"
   },
   {
    "duration": 1502,
    "start_time": "2022-04-22T14:51:41.889Z"
   },
   {
    "duration": 525,
    "start_time": "2022-04-22T14:51:43.393Z"
   },
   {
    "duration": 19,
    "start_time": "2022-04-22T14:51:43.923Z"
   },
   {
    "duration": 55,
    "start_time": "2022-04-22T14:51:43.944Z"
   },
   {
    "duration": 532,
    "start_time": "2022-04-22T14:51:44.003Z"
   },
   {
    "duration": 11,
    "start_time": "2022-04-22T14:51:44.537Z"
   },
   {
    "duration": 130335,
    "start_time": "2022-04-22T14:51:44.550Z"
   },
   {
    "duration": 1586,
    "start_time": "2022-04-22T14:53:54.886Z"
   },
   {
    "duration": 1714,
    "start_time": "2022-04-22T14:53:56.475Z"
   },
   {
    "duration": 1888,
    "start_time": "2022-04-22T14:53:58.191Z"
   },
   {
    "duration": 1675,
    "start_time": "2022-04-22T14:54:00.081Z"
   },
   {
    "duration": 1642,
    "start_time": "2022-04-22T14:54:01.758Z"
   },
   {
    "duration": 1978,
    "start_time": "2022-04-22T14:54:03.404Z"
   },
   {
    "duration": 1645,
    "start_time": "2022-04-22T17:04:20.588Z"
   },
   {
    "duration": 38,
    "start_time": "2022-04-22T17:04:22.236Z"
   },
   {
    "duration": 12,
    "start_time": "2022-04-22T17:04:22.275Z"
   },
   {
    "duration": 6,
    "start_time": "2022-04-22T17:04:22.290Z"
   },
   {
    "duration": 9,
    "start_time": "2022-04-22T17:04:22.307Z"
   },
   {
    "duration": 10,
    "start_time": "2022-04-22T17:04:22.318Z"
   },
   {
    "duration": 45,
    "start_time": "2022-04-22T17:04:22.329Z"
   },
   {
    "duration": 54,
    "start_time": "2022-04-22T17:04:22.376Z"
   },
   {
    "duration": 1142,
    "start_time": "2022-04-22T17:04:22.432Z"
   },
   {
    "duration": 1261,
    "start_time": "2022-04-22T17:04:23.576Z"
   },
   {
    "duration": 569,
    "start_time": "2022-04-22T17:04:24.839Z"
   },
   {
    "duration": 16,
    "start_time": "2022-04-22T17:04:25.410Z"
   },
   {
    "duration": 53,
    "start_time": "2022-04-22T17:04:32.561Z"
   }
  ],
  "kernelspec": {
   "display_name": "Python 3",
   "language": "python",
   "name": "python3"
  },
  "language_info": {
   "codemirror_mode": {
    "name": "ipython",
    "version": 3
   },
   "file_extension": ".py",
   "mimetype": "text/x-python",
   "name": "python",
   "nbconvert_exporter": "python",
   "pygments_lexer": "ipython3",
   "version": "3.8.8"
  },
  "toc": {
   "base_numbering": 1,
   "nav_menu": {},
   "number_sections": true,
   "sideBar": true,
   "skip_h1_title": true,
   "title_cell": "Table of Contents",
   "title_sidebar": "Contents",
   "toc_cell": false,
   "toc_position": {
    "height": "calc(100% - 180px)",
    "left": "10px",
    "top": "150px",
    "width": "238.396px"
   },
   "toc_section_display": true,
   "toc_window_display": true
  }
 },
 "nbformat": 4,
 "nbformat_minor": 2
}
