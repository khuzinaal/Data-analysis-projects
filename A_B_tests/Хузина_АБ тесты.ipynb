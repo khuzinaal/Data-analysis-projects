{
 "cells": [
  {
   "cell_type": "markdown",
   "metadata": {},
   "source": [
    "# Описание проекта\n",
    "\n",
    "Этот проект посвящен анализу выручки крупного интернет-магазина. Вместе с отделом маркетинга мы подготовили список гипотез для увеличения выручки.\n",
    "\n",
    "Проект будет состоять из 2 частей:\n",
    "* приоритизация гипотез на основе фреймворков ICE и RICE\n",
    "* запуск A/B-теста и анализ его результатов"
   ]
  },
  {
   "cell_type": "markdown",
   "metadata": {},
   "source": [
    "## Часть 1. Приоритизация гипотез\n",
    "\n",
    "В первой части работы мы применим фреймворки ICE и RICE для приоритизации гипотез.\n",
    "\n",
    "Перед началом работы загрузим необходимые библиотеки и базу данных с гипотезами"
   ]
  },
  {
   "cell_type": "code",
   "execution_count": 1,
   "metadata": {},
   "outputs": [],
   "source": [
    "import pandas as pd\n",
    "from matplotlib import pyplot as plt\n",
    "from scipy import stats as st\n",
    "import datetime as dt\n",
    "import numpy as np\n",
    "import seaborn as sns\n",
    "import warnings\n",
    "warnings.filterwarnings('ignore')"
   ]
  },
  {
   "cell_type": "markdown",
   "metadata": {},
   "source": [
    "Загрузка базы данных с гипотезами и просмотр первых 10 строчек датафрейма"
   ]
  },
  {
   "cell_type": "code",
   "execution_count": 2,
   "metadata": {},
   "outputs": [
    {
     "data": {
      "text/html": [
       "<div>\n",
       "<style scoped>\n",
       "    .dataframe tbody tr th:only-of-type {\n",
       "        vertical-align: middle;\n",
       "    }\n",
       "\n",
       "    .dataframe tbody tr th {\n",
       "        vertical-align: top;\n",
       "    }\n",
       "\n",
       "    .dataframe thead th {\n",
       "        text-align: right;\n",
       "    }\n",
       "</style>\n",
       "<table border=\"1\" class=\"dataframe\">\n",
       "  <thead>\n",
       "    <tr style=\"text-align: right;\">\n",
       "      <th></th>\n",
       "      <th>Hypothesis</th>\n",
       "      <th>Reach</th>\n",
       "      <th>Impact</th>\n",
       "      <th>Confidence</th>\n",
       "      <th>Efforts</th>\n",
       "    </tr>\n",
       "  </thead>\n",
       "  <tbody>\n",
       "    <tr>\n",
       "      <td>0</td>\n",
       "      <td>Добавить два новых канала привлечения трафика,...</td>\n",
       "      <td>3</td>\n",
       "      <td>10</td>\n",
       "      <td>8</td>\n",
       "      <td>6</td>\n",
       "    </tr>\n",
       "    <tr>\n",
       "      <td>1</td>\n",
       "      <td>Запустить собственную службу доставки, что сок...</td>\n",
       "      <td>2</td>\n",
       "      <td>5</td>\n",
       "      <td>4</td>\n",
       "      <td>10</td>\n",
       "    </tr>\n",
       "    <tr>\n",
       "      <td>2</td>\n",
       "      <td>Добавить блоки рекомендаций товаров на сайт ин...</td>\n",
       "      <td>8</td>\n",
       "      <td>3</td>\n",
       "      <td>7</td>\n",
       "      <td>3</td>\n",
       "    </tr>\n",
       "    <tr>\n",
       "      <td>3</td>\n",
       "      <td>Изменить структура категорий, что увеличит кон...</td>\n",
       "      <td>8</td>\n",
       "      <td>3</td>\n",
       "      <td>3</td>\n",
       "      <td>8</td>\n",
       "    </tr>\n",
       "    <tr>\n",
       "      <td>4</td>\n",
       "      <td>Изменить цвет фона главной страницы, чтобы уве...</td>\n",
       "      <td>3</td>\n",
       "      <td>1</td>\n",
       "      <td>1</td>\n",
       "      <td>1</td>\n",
       "    </tr>\n",
       "    <tr>\n",
       "      <td>5</td>\n",
       "      <td>Добавить страницу отзывов клиентов о магазине,...</td>\n",
       "      <td>3</td>\n",
       "      <td>2</td>\n",
       "      <td>2</td>\n",
       "      <td>3</td>\n",
       "    </tr>\n",
       "    <tr>\n",
       "      <td>6</td>\n",
       "      <td>Показать на главной странице баннеры с актуаль...</td>\n",
       "      <td>5</td>\n",
       "      <td>3</td>\n",
       "      <td>8</td>\n",
       "      <td>3</td>\n",
       "    </tr>\n",
       "    <tr>\n",
       "      <td>7</td>\n",
       "      <td>Добавить форму подписки на все основные страни...</td>\n",
       "      <td>10</td>\n",
       "      <td>7</td>\n",
       "      <td>8</td>\n",
       "      <td>5</td>\n",
       "    </tr>\n",
       "    <tr>\n",
       "      <td>8</td>\n",
       "      <td>Запустить акцию, дающую скидку на товар в день...</td>\n",
       "      <td>1</td>\n",
       "      <td>9</td>\n",
       "      <td>9</td>\n",
       "      <td>5</td>\n",
       "    </tr>\n",
       "  </tbody>\n",
       "</table>\n",
       "</div>"
      ],
      "text/plain": [
       "                                          Hypothesis  Reach  Impact  \\\n",
       "0  Добавить два новых канала привлечения трафика,...      3      10   \n",
       "1  Запустить собственную службу доставки, что сок...      2       5   \n",
       "2  Добавить блоки рекомендаций товаров на сайт ин...      8       3   \n",
       "3  Изменить структура категорий, что увеличит кон...      8       3   \n",
       "4  Изменить цвет фона главной страницы, чтобы уве...      3       1   \n",
       "5  Добавить страницу отзывов клиентов о магазине,...      3       2   \n",
       "6  Показать на главной странице баннеры с актуаль...      5       3   \n",
       "7  Добавить форму подписки на все основные страни...     10       7   \n",
       "8  Запустить акцию, дающую скидку на товар в день...      1       9   \n",
       "\n",
       "   Confidence  Efforts  \n",
       "0           8        6  \n",
       "1           4       10  \n",
       "2           7        3  \n",
       "3           3        8  \n",
       "4           1        1  \n",
       "5           2        3  \n",
       "6           8        3  \n",
       "7           8        5  \n",
       "8           9        5  "
      ]
     },
     "execution_count": 2,
     "metadata": {},
     "output_type": "execute_result"
    }
   ],
   "source": [
    "hypotheses = pd.read_csv('hypothesis.csv')\n",
    "hypotheses"
   ]
  },
  {
   "cell_type": "markdown",
   "metadata": {},
   "source": [
    "В базе данных 9 гипотез, которые имеют оценки (по 10-балльной шкале) по следующим показателям:\n",
    "* `Reach` — скольких пользователей затронет изменение\n",
    "* `Impact` — насколько сильно изменение повлияет на пользователей, их опыт и удовлетворение от продукта\n",
    "* `Confidence` — степень уверенности, что это изменение повлияет на пользователей именно так\n",
    "* `Efforts` — сколько стоит протестировать эту гипотезу\n",
    "\n",
    "Подсчитаем балл ICE для каждой гипотезы и выведем гипотезы по убыванию баллов"
   ]
  },
  {
   "cell_type": "code",
   "execution_count": 3,
   "metadata": {},
   "outputs": [
    {
     "data": {
      "text/html": [
       "<div>\n",
       "<style scoped>\n",
       "    .dataframe tbody tr th:only-of-type {\n",
       "        vertical-align: middle;\n",
       "    }\n",
       "\n",
       "    .dataframe tbody tr th {\n",
       "        vertical-align: top;\n",
       "    }\n",
       "\n",
       "    .dataframe thead th {\n",
       "        text-align: right;\n",
       "    }\n",
       "</style>\n",
       "<table border=\"1\" class=\"dataframe\">\n",
       "  <thead>\n",
       "    <tr style=\"text-align: right;\">\n",
       "      <th></th>\n",
       "      <th>Hypothesis</th>\n",
       "      <th>ICE_score</th>\n",
       "    </tr>\n",
       "  </thead>\n",
       "  <tbody>\n",
       "    <tr>\n",
       "      <td>8</td>\n",
       "      <td>Запустить акцию, дающую скидку на товар в день...</td>\n",
       "      <td>16.200000</td>\n",
       "    </tr>\n",
       "    <tr>\n",
       "      <td>0</td>\n",
       "      <td>Добавить два новых канала привлечения трафика,...</td>\n",
       "      <td>13.333333</td>\n",
       "    </tr>\n",
       "    <tr>\n",
       "      <td>7</td>\n",
       "      <td>Добавить форму подписки на все основные страни...</td>\n",
       "      <td>11.200000</td>\n",
       "    </tr>\n",
       "    <tr>\n",
       "      <td>6</td>\n",
       "      <td>Показать на главной странице баннеры с актуаль...</td>\n",
       "      <td>8.000000</td>\n",
       "    </tr>\n",
       "    <tr>\n",
       "      <td>2</td>\n",
       "      <td>Добавить блоки рекомендаций товаров на сайт ин...</td>\n",
       "      <td>7.000000</td>\n",
       "    </tr>\n",
       "    <tr>\n",
       "      <td>1</td>\n",
       "      <td>Запустить собственную службу доставки, что сок...</td>\n",
       "      <td>2.000000</td>\n",
       "    </tr>\n",
       "    <tr>\n",
       "      <td>5</td>\n",
       "      <td>Добавить страницу отзывов клиентов о магазине,...</td>\n",
       "      <td>1.333333</td>\n",
       "    </tr>\n",
       "    <tr>\n",
       "      <td>3</td>\n",
       "      <td>Изменить структура категорий, что увеличит кон...</td>\n",
       "      <td>1.125000</td>\n",
       "    </tr>\n",
       "    <tr>\n",
       "      <td>4</td>\n",
       "      <td>Изменить цвет фона главной страницы, чтобы уве...</td>\n",
       "      <td>1.000000</td>\n",
       "    </tr>\n",
       "  </tbody>\n",
       "</table>\n",
       "</div>"
      ],
      "text/plain": [
       "                                          Hypothesis  ICE_score\n",
       "8  Запустить акцию, дающую скидку на товар в день...  16.200000\n",
       "0  Добавить два новых канала привлечения трафика,...  13.333333\n",
       "7  Добавить форму подписки на все основные страни...  11.200000\n",
       "6  Показать на главной странице баннеры с актуаль...   8.000000\n",
       "2  Добавить блоки рекомендаций товаров на сайт ин...   7.000000\n",
       "1  Запустить собственную службу доставки, что сок...   2.000000\n",
       "5  Добавить страницу отзывов клиентов о магазине,...   1.333333\n",
       "3  Изменить структура категорий, что увеличит кон...   1.125000\n",
       "4  Изменить цвет фона главной страницы, чтобы уве...   1.000000"
      ]
     },
     "metadata": {},
     "output_type": "display_data"
    }
   ],
   "source": [
    "hypotheses['ICE_score'] = (hypotheses['Impact']*hypotheses['Confidence'])/hypotheses['Efforts']\n",
    "display(hypotheses[['Hypothesis', 'ICE_score']].sort_values(by='ICE_score', ascending=False))"
   ]
  },
  {
   "cell_type": "markdown",
   "metadata": {},
   "source": [
    "Как мы видим, наибольшие баллы в рамках фреймворка ICE имеют гипотезы:\n",
    "1. Запустить акцию, дающую скидку на товар в день рождения (индекс 8)\n",
    "2. Добавить два новых канала привлечения трафика, что позволит привлекать на 30% больше пользователей (индекс 0)\n",
    "3. Добавить форму подписки на все основные страницы, чтобы собрать базу клиентов для email-рассылок (индекс 7)\n",
    "\n",
    "Далее подсчитаем баллы гипотез по фрейморку RICE, в котором к существующей формуле прибавится параметр `Reach`. Выведем гипотезы по убыванию баллов"
   ]
  },
  {
   "cell_type": "code",
   "execution_count": 4,
   "metadata": {},
   "outputs": [
    {
     "data": {
      "text/html": [
       "<div>\n",
       "<style scoped>\n",
       "    .dataframe tbody tr th:only-of-type {\n",
       "        vertical-align: middle;\n",
       "    }\n",
       "\n",
       "    .dataframe tbody tr th {\n",
       "        vertical-align: top;\n",
       "    }\n",
       "\n",
       "    .dataframe thead th {\n",
       "        text-align: right;\n",
       "    }\n",
       "</style>\n",
       "<table border=\"1\" class=\"dataframe\">\n",
       "  <thead>\n",
       "    <tr style=\"text-align: right;\">\n",
       "      <th></th>\n",
       "      <th>Hypothesis</th>\n",
       "      <th>RICE_score</th>\n",
       "    </tr>\n",
       "  </thead>\n",
       "  <tbody>\n",
       "    <tr>\n",
       "      <td>7</td>\n",
       "      <td>Добавить форму подписки на все основные страни...</td>\n",
       "      <td>112.0</td>\n",
       "    </tr>\n",
       "    <tr>\n",
       "      <td>2</td>\n",
       "      <td>Добавить блоки рекомендаций товаров на сайт ин...</td>\n",
       "      <td>56.0</td>\n",
       "    </tr>\n",
       "    <tr>\n",
       "      <td>0</td>\n",
       "      <td>Добавить два новых канала привлечения трафика,...</td>\n",
       "      <td>40.0</td>\n",
       "    </tr>\n",
       "    <tr>\n",
       "      <td>6</td>\n",
       "      <td>Показать на главной странице баннеры с актуаль...</td>\n",
       "      <td>40.0</td>\n",
       "    </tr>\n",
       "    <tr>\n",
       "      <td>8</td>\n",
       "      <td>Запустить акцию, дающую скидку на товар в день...</td>\n",
       "      <td>16.2</td>\n",
       "    </tr>\n",
       "    <tr>\n",
       "      <td>3</td>\n",
       "      <td>Изменить структура категорий, что увеличит кон...</td>\n",
       "      <td>9.0</td>\n",
       "    </tr>\n",
       "    <tr>\n",
       "      <td>1</td>\n",
       "      <td>Запустить собственную службу доставки, что сок...</td>\n",
       "      <td>4.0</td>\n",
       "    </tr>\n",
       "    <tr>\n",
       "      <td>5</td>\n",
       "      <td>Добавить страницу отзывов клиентов о магазине,...</td>\n",
       "      <td>4.0</td>\n",
       "    </tr>\n",
       "    <tr>\n",
       "      <td>4</td>\n",
       "      <td>Изменить цвет фона главной страницы, чтобы уве...</td>\n",
       "      <td>3.0</td>\n",
       "    </tr>\n",
       "  </tbody>\n",
       "</table>\n",
       "</div>"
      ],
      "text/plain": [
       "                                          Hypothesis  RICE_score\n",
       "7  Добавить форму подписки на все основные страни...       112.0\n",
       "2  Добавить блоки рекомендаций товаров на сайт ин...        56.0\n",
       "0  Добавить два новых канала привлечения трафика,...        40.0\n",
       "6  Показать на главной странице баннеры с актуаль...        40.0\n",
       "8  Запустить акцию, дающую скидку на товар в день...        16.2\n",
       "3  Изменить структура категорий, что увеличит кон...         9.0\n",
       "1  Запустить собственную службу доставки, что сок...         4.0\n",
       "5  Добавить страницу отзывов клиентов о магазине,...         4.0\n",
       "4  Изменить цвет фона главной страницы, чтобы уве...         3.0"
      ]
     },
     "metadata": {},
     "output_type": "display_data"
    }
   ],
   "source": [
    "hypotheses['RICE_score'] = (hypotheses['Reach']*hypotheses['Impact']*hypotheses['Confidence'])/hypotheses['Efforts']\n",
    "display(hypotheses[['Hypothesis', 'RICE_score']].sort_values(by='RICE_score', ascending=False))"
   ]
  },
  {
   "cell_type": "markdown",
   "metadata": {},
   "source": [
    "Распределение гипотез выглядит немного по-другому. Наибольшие баллы имеют гипотезы:\n",
    "1. Добавить форму подписки на все основные страницы, чтобы собрать базу клиентов для email-рассылок (индекс 7)\n",
    "2. Добавить блоки рекомендаций товаров на сайт интернет магазина, чтобы повысить конверсию и средний чек заказа (индекс 2)\n",
    "3. Добавить два новых канала привлечения трафика, что позволит привлекать на 30% больше пользователей (индекс 0)"
   ]
  },
  {
   "cell_type": "markdown",
   "metadata": {},
   "source": [
    "Гипотезы с индексами 0 и 7 остаются в топ-3 гипотез после подсчета баллов по обоим фреймворкам. Вероятно, стоит начинать с них. Гипотеза с индексом 8, которая была первой во фреймворке ICE, во фреймворке RICE не попала в топ-3. Вероятно, эта гипотеза затронет мало пользователей, несмотря на высокие баллы по `Impact`, `Confidence` и относительно низкие затраты."
   ]
  },
  {
   "cell_type": "markdown",
   "metadata": {},
   "source": [
    "### Вывод по разделу\n",
    "\n",
    "В этом разделе мы применили фрейморки ICE и RICE к приоритизации гипотез. По итогам сравнения можно сделать вывод, что в первую очередь стоит тестировать эти гипотезы:\n",
    "* Добавить форму подписки на все основные страницы, чтобы собрать базу клиентов для email-рассылок\n",
    "* Добавить два новых канала привлечения трафика, что позволит привлекать на 30% больше пользователей\n",
    "\n",
    "так как они входят в топ-3 гипотез в обоих фреймворках."
   ]
  },
  {
   "cell_type": "markdown",
   "metadata": {},
   "source": [
    "## Часть 2. Анализ A/B теста\n",
    "\n",
    "В этом разделе мы проанализируем результаты A/B теста.\n",
    "Анализ будет состоять из следующих пунктов:\n",
    "* Построение графиков кумулятивной выручки по группам, кумулятивного среднего чека по группам, относительного изменения кумулятивного среднего чека группы B к группе A, кумулятивной конверсии по группам, относительного изменения кумулятивной конверсии группы B к группе A, количества заказов по пользователям, стомостей заказов\n",
    "* Определение аномальных пользователей по 95 и 99 перцентилям в количестве заказов на пользователя, стоимости заказов\n",
    "* Подсчет статистической значимости различий в конверсии между группами по «сырым» данным, различий в среднем чеке заказа между группами по «сырым» данным, различий в конверсии между группами по «очищенным» данным, различий в среднем чеке заказа между группами по «очищенным» данным. Сделайте выводы и предположения.\n",
    "* Принятие решения о продолжении или приостановке теста"
   ]
  },
  {
   "cell_type": "markdown",
   "metadata": {},
   "source": [
    "### Загрузка баз данных и предобработка данных\n",
    "\n",
    "В этом разделе мы загрузим необходимые данные и произведем их предобработку"
   ]
  },
  {
   "cell_type": "markdown",
   "metadata": {},
   "source": [
    "#### Загрузка и обзор данных\n",
    "Загрузка датафреймов и просмотр первых 10 строчек"
   ]
  },
  {
   "cell_type": "code",
   "execution_count": 6,
   "metadata": {},
   "outputs": [
    {
     "data": {
      "text/html": [
       "<div>\n",
       "<style scoped>\n",
       "    .dataframe tbody tr th:only-of-type {\n",
       "        vertical-align: middle;\n",
       "    }\n",
       "\n",
       "    .dataframe tbody tr th {\n",
       "        vertical-align: top;\n",
       "    }\n",
       "\n",
       "    .dataframe thead th {\n",
       "        text-align: right;\n",
       "    }\n",
       "</style>\n",
       "<table border=\"1\" class=\"dataframe\">\n",
       "  <thead>\n",
       "    <tr style=\"text-align: right;\">\n",
       "      <th></th>\n",
       "      <th>transactionId</th>\n",
       "      <th>visitorId</th>\n",
       "      <th>date</th>\n",
       "      <th>revenue</th>\n",
       "      <th>group</th>\n",
       "    </tr>\n",
       "  </thead>\n",
       "  <tbody>\n",
       "    <tr>\n",
       "      <td>0</td>\n",
       "      <td>3667963787</td>\n",
       "      <td>3312258926</td>\n",
       "      <td>2019-08-15</td>\n",
       "      <td>1650</td>\n",
       "      <td>B</td>\n",
       "    </tr>\n",
       "    <tr>\n",
       "      <td>1</td>\n",
       "      <td>2804400009</td>\n",
       "      <td>3642806036</td>\n",
       "      <td>2019-08-15</td>\n",
       "      <td>730</td>\n",
       "      <td>B</td>\n",
       "    </tr>\n",
       "    <tr>\n",
       "      <td>2</td>\n",
       "      <td>2961555356</td>\n",
       "      <td>4069496402</td>\n",
       "      <td>2019-08-15</td>\n",
       "      <td>400</td>\n",
       "      <td>A</td>\n",
       "    </tr>\n",
       "    <tr>\n",
       "      <td>3</td>\n",
       "      <td>3797467345</td>\n",
       "      <td>1196621759</td>\n",
       "      <td>2019-08-15</td>\n",
       "      <td>9759</td>\n",
       "      <td>B</td>\n",
       "    </tr>\n",
       "    <tr>\n",
       "      <td>4</td>\n",
       "      <td>2282983706</td>\n",
       "      <td>2322279887</td>\n",
       "      <td>2019-08-15</td>\n",
       "      <td>2308</td>\n",
       "      <td>B</td>\n",
       "    </tr>\n",
       "    <tr>\n",
       "      <td>5</td>\n",
       "      <td>182168103</td>\n",
       "      <td>935554773</td>\n",
       "      <td>2019-08-15</td>\n",
       "      <td>2210</td>\n",
       "      <td>B</td>\n",
       "    </tr>\n",
       "    <tr>\n",
       "      <td>6</td>\n",
       "      <td>398296753</td>\n",
       "      <td>2900797465</td>\n",
       "      <td>2019-08-15</td>\n",
       "      <td>1860</td>\n",
       "      <td>B</td>\n",
       "    </tr>\n",
       "    <tr>\n",
       "      <td>7</td>\n",
       "      <td>2626614568</td>\n",
       "      <td>78758296</td>\n",
       "      <td>2019-08-15</td>\n",
       "      <td>1044</td>\n",
       "      <td>A</td>\n",
       "    </tr>\n",
       "    <tr>\n",
       "      <td>8</td>\n",
       "      <td>1576988021</td>\n",
       "      <td>295230930</td>\n",
       "      <td>2019-08-15</td>\n",
       "      <td>13710</td>\n",
       "      <td>A</td>\n",
       "    </tr>\n",
       "    <tr>\n",
       "      <td>9</td>\n",
       "      <td>1506739906</td>\n",
       "      <td>1882260405</td>\n",
       "      <td>2019-08-15</td>\n",
       "      <td>1855</td>\n",
       "      <td>B</td>\n",
       "    </tr>\n",
       "  </tbody>\n",
       "</table>\n",
       "</div>"
      ],
      "text/plain": [
       "   transactionId   visitorId        date  revenue group\n",
       "0     3667963787  3312258926  2019-08-15     1650     B\n",
       "1     2804400009  3642806036  2019-08-15      730     B\n",
       "2     2961555356  4069496402  2019-08-15      400     A\n",
       "3     3797467345  1196621759  2019-08-15     9759     B\n",
       "4     2282983706  2322279887  2019-08-15     2308     B\n",
       "5      182168103   935554773  2019-08-15     2210     B\n",
       "6      398296753  2900797465  2019-08-15     1860     B\n",
       "7     2626614568    78758296  2019-08-15     1044     A\n",
       "8     1576988021   295230930  2019-08-15    13710     A\n",
       "9     1506739906  1882260405  2019-08-15     1855     B"
      ]
     },
     "metadata": {},
     "output_type": "display_data"
    },
    {
     "data": {
      "text/html": [
       "<div>\n",
       "<style scoped>\n",
       "    .dataframe tbody tr th:only-of-type {\n",
       "        vertical-align: middle;\n",
       "    }\n",
       "\n",
       "    .dataframe tbody tr th {\n",
       "        vertical-align: top;\n",
       "    }\n",
       "\n",
       "    .dataframe thead th {\n",
       "        text-align: right;\n",
       "    }\n",
       "</style>\n",
       "<table border=\"1\" class=\"dataframe\">\n",
       "  <thead>\n",
       "    <tr style=\"text-align: right;\">\n",
       "      <th></th>\n",
       "      <th>date</th>\n",
       "      <th>group</th>\n",
       "      <th>visitors</th>\n",
       "    </tr>\n",
       "  </thead>\n",
       "  <tbody>\n",
       "    <tr>\n",
       "      <td>0</td>\n",
       "      <td>2019-08-01</td>\n",
       "      <td>A</td>\n",
       "      <td>719</td>\n",
       "    </tr>\n",
       "    <tr>\n",
       "      <td>1</td>\n",
       "      <td>2019-08-02</td>\n",
       "      <td>A</td>\n",
       "      <td>619</td>\n",
       "    </tr>\n",
       "    <tr>\n",
       "      <td>2</td>\n",
       "      <td>2019-08-03</td>\n",
       "      <td>A</td>\n",
       "      <td>507</td>\n",
       "    </tr>\n",
       "    <tr>\n",
       "      <td>3</td>\n",
       "      <td>2019-08-04</td>\n",
       "      <td>A</td>\n",
       "      <td>717</td>\n",
       "    </tr>\n",
       "    <tr>\n",
       "      <td>4</td>\n",
       "      <td>2019-08-05</td>\n",
       "      <td>A</td>\n",
       "      <td>756</td>\n",
       "    </tr>\n",
       "    <tr>\n",
       "      <td>5</td>\n",
       "      <td>2019-08-06</td>\n",
       "      <td>A</td>\n",
       "      <td>667</td>\n",
       "    </tr>\n",
       "    <tr>\n",
       "      <td>6</td>\n",
       "      <td>2019-08-07</td>\n",
       "      <td>A</td>\n",
       "      <td>644</td>\n",
       "    </tr>\n",
       "    <tr>\n",
       "      <td>7</td>\n",
       "      <td>2019-08-08</td>\n",
       "      <td>A</td>\n",
       "      <td>610</td>\n",
       "    </tr>\n",
       "    <tr>\n",
       "      <td>8</td>\n",
       "      <td>2019-08-09</td>\n",
       "      <td>A</td>\n",
       "      <td>617</td>\n",
       "    </tr>\n",
       "    <tr>\n",
       "      <td>9</td>\n",
       "      <td>2019-08-10</td>\n",
       "      <td>A</td>\n",
       "      <td>406</td>\n",
       "    </tr>\n",
       "  </tbody>\n",
       "</table>\n",
       "</div>"
      ],
      "text/plain": [
       "         date group  visitors\n",
       "0  2019-08-01     A       719\n",
       "1  2019-08-02     A       619\n",
       "2  2019-08-03     A       507\n",
       "3  2019-08-04     A       717\n",
       "4  2019-08-05     A       756\n",
       "5  2019-08-06     A       667\n",
       "6  2019-08-07     A       644\n",
       "7  2019-08-08     A       610\n",
       "8  2019-08-09     A       617\n",
       "9  2019-08-10     A       406"
      ]
     },
     "execution_count": 6,
     "metadata": {},
     "output_type": "execute_result"
    }
   ],
   "source": [
    "orders = pd.read_csv('orders.csv')\n",
    "visitors = pd.read_csv('visitors.csv')\n",
    "\n",
    "display(orders.head(10))\n",
    "visitors.head(10)"
   ]
  },
  {
   "cell_type": "markdown",
   "metadata": {},
   "source": [
    "Просмотр общей информации о датафреймах"
   ]
  },
  {
   "cell_type": "code",
   "execution_count": 7,
   "metadata": {},
   "outputs": [
    {
     "name": "stdout",
     "output_type": "stream",
     "text": [
      "<class 'pandas.core.frame.DataFrame'>\n",
      "RangeIndex: 1197 entries, 0 to 1196\n",
      "Data columns (total 5 columns):\n",
      "transactionId    1197 non-null int64\n",
      "visitorId        1197 non-null int64\n",
      "date             1197 non-null object\n",
      "revenue          1197 non-null int64\n",
      "group            1197 non-null object\n",
      "dtypes: int64(3), object(2)\n",
      "memory usage: 46.9+ KB\n",
      "None \n",
      "\n",
      "\n",
      "<class 'pandas.core.frame.DataFrame'>\n",
      "RangeIndex: 62 entries, 0 to 61\n",
      "Data columns (total 3 columns):\n",
      "date        62 non-null object\n",
      "group       62 non-null object\n",
      "visitors    62 non-null int64\n",
      "dtypes: int64(1), object(2)\n",
      "memory usage: 1.6+ KB\n"
     ]
    }
   ],
   "source": [
    "print(orders.info(), '\\n\\n')\n",
    "visitors.info()"
   ]
  },
  {
   "cell_type": "markdown",
   "metadata": {},
   "source": [
    "Согласно документации, датафреймы содержат следующие переменные:\n",
    "\n",
    "Датафрейм Orders:\n",
    "* `transactionId` — идентификатор заказа;\n",
    "* `visitorId` — идентификатор пользователя, совершившего заказ;\n",
    "* `date` — дата, когда был совершён заказ;\n",
    "* `revenue` — выручка заказа;\n",
    "* `group` — группа A/B-теста, в которую попал заказ.\n",
    "\n",
    "Датафрейм Visitors:\n",
    "* `date` — дата;\n",
    "* `group` — группа A/B-теста;\n",
    "* `visitors` — количество пользователей в указанную дату в указанной группе A/B-теста\n",
    "\n",
    "В типах данных есть следующие проблемы:\n",
    "- Данные с датами имеют тип `object`. Стоит перевести их в тип `datetime`\n",
    "- Переменные `transactionId` и `visitorId` с идентификационными данными имеют тип `int64`. Мы не собираемся проводить с этими переменными математических операций, они по сути категориальные, так что стоит изменить их тип на `object`."
   ]
  },
  {
   "cell_type": "markdown",
   "metadata": {},
   "source": [
    "<div class=\"alert alert-success\">\n",
    "    <b>✔️ Комментарий ревьюера:</b> Да, в данных действительно проблемы с типами. Хорошо, что обращаешь внимание и на айдишники. Нам ни к чему было бы случайно их проссумировать :)\n",
    "\n",
    "</div>"
   ]
  },
  {
   "cell_type": "markdown",
   "metadata": {},
   "source": [
    "#### Изменение типов данных"
   ]
  },
  {
   "cell_type": "markdown",
   "metadata": {},
   "source": [
    "Даты меняем на тип `datetime`, идентификационные данные делаем категориальными, после этого просматриваем информацию о датафреймах"
   ]
  },
  {
   "cell_type": "code",
   "execution_count": 8,
   "metadata": {},
   "outputs": [
    {
     "name": "stdout",
     "output_type": "stream",
     "text": [
      "<class 'pandas.core.frame.DataFrame'>\n",
      "RangeIndex: 1197 entries, 0 to 1196\n",
      "Data columns (total 5 columns):\n",
      "transactionId    1197 non-null object\n",
      "visitorId        1197 non-null object\n",
      "date             1197 non-null datetime64[ns]\n",
      "revenue          1197 non-null int64\n",
      "group            1197 non-null object\n",
      "dtypes: datetime64[ns](1), int64(1), object(3)\n",
      "memory usage: 46.9+ KB\n",
      "None \n",
      "\n",
      "\n",
      "<class 'pandas.core.frame.DataFrame'>\n",
      "RangeIndex: 62 entries, 0 to 61\n",
      "Data columns (total 3 columns):\n",
      "date        62 non-null datetime64[ns]\n",
      "group       62 non-null object\n",
      "visitors    62 non-null int64\n",
      "dtypes: datetime64[ns](1), int64(1), object(1)\n",
      "memory usage: 1.6+ KB\n"
     ]
    }
   ],
   "source": [
    "# изменение на тип datetime\n",
    "orders['date'] = pd.to_datetime(orders['date'])\n",
    "visitors['date'] = pd.to_datetime(visitors['date'])\n",
    "\n",
    "# изменение на тип object\n",
    "columns_to_change = ['transactionId', 'visitorId']\n",
    "for column in columns_to_change:\n",
    "    orders[column] = orders[column].astype('object')\n",
    "\n",
    "# просмотр информации о датафреймах\n",
    "print(orders.info(), '\\n\\n')\n",
    "visitors.info()"
   ]
  },
  {
   "cell_type": "markdown",
   "metadata": {},
   "source": [
    "<div class=\"alert alert-success\">\n",
    "    <b>✔️ Комментарий ревьюера:</b> Цикл для приведения типа данных — отлично!\n",
    "\n",
    "</div>"
   ]
  },
  {
   "cell_type": "markdown",
   "metadata": {},
   "source": [
    "#### Проверка дубликатов"
   ]
  },
  {
   "cell_type": "markdown",
   "metadata": {},
   "source": [
    "Проверим датафреймы на наличие дубликатов. Их в наших датафреймах не оказывается."
   ]
  },
  {
   "cell_type": "code",
   "execution_count": 9,
   "metadata": {},
   "outputs": [
    {
     "name": "stdout",
     "output_type": "stream",
     "text": [
      "Число дубликатов в датафрейме Orders: 0 \n",
      "\n",
      " Число дубликатов в датафрейме Visitors: 0\n"
     ]
    }
   ],
   "source": [
    "print('Число дубликатов в датафрейме Orders:', orders.duplicated().sum(), '\\n\\n',\n",
    "      'Число дубликатов в датафрейме Visitors:', visitors.duplicated().sum())"
   ]
  },
  {
   "cell_type": "markdown",
   "metadata": {},
   "source": [
    "#### Проверка пропущенных значений"
   ]
  },
  {
   "cell_type": "markdown",
   "metadata": {},
   "source": [
    "Проверяем датафреймы на наличие пропущенных значений. Их также не показывается в исходных датафреймах"
   ]
  },
  {
   "cell_type": "code",
   "execution_count": 10,
   "metadata": {},
   "outputs": [
    {
     "name": "stdout",
     "output_type": "stream",
     "text": [
      "Число пропущенных данных в датафрейме Orders: \n",
      " transactionId    0\n",
      "visitorId        0\n",
      "date             0\n",
      "revenue          0\n",
      "group            0\n",
      "dtype: int64 \n",
      "\n",
      " Число пропущенных данных в датафрейме Visitors: \n",
      " date        0\n",
      "group       0\n",
      "visitors    0\n",
      "dtype: int64\n"
     ]
    }
   ],
   "source": [
    "print('Число пропущенных данных в датафрейме Orders:', '\\n', orders.isna().sum(), '\\n\\n',\n",
    "      'Число пропущенных данных в датафрейме Visitors:', '\\n', visitors.isna().sum())"
   ]
  },
  {
   "cell_type": "markdown",
   "metadata": {},
   "source": [
    "#### Подготовка данных"
   ]
  },
  {
   "cell_type": "markdown",
   "metadata": {},
   "source": [
    "Подготовим данные для A/B теста. Для этого для каждой даты подсчитаем число пользователей и кумулятивное число пользователей, число заказов и кумулятивное число заказов, выручку и кумулятивную выручку в каждой группе. Затем объединим все в общий датафрейм с помощью `merge` и объединения по дате. Выведем получившийся датафрейм."
   ]
  },
  {
   "cell_type": "code",
   "execution_count": 11,
   "metadata": {},
   "outputs": [
    {
     "data": {
      "text/html": [
       "<div>\n",
       "<style scoped>\n",
       "    .dataframe tbody tr th:only-of-type {\n",
       "        vertical-align: middle;\n",
       "    }\n",
       "\n",
       "    .dataframe tbody tr th {\n",
       "        vertical-align: top;\n",
       "    }\n",
       "\n",
       "    .dataframe thead th {\n",
       "        text-align: right;\n",
       "    }\n",
       "</style>\n",
       "<table border=\"1\" class=\"dataframe\">\n",
       "  <thead>\n",
       "    <tr style=\"text-align: right;\">\n",
       "      <th></th>\n",
       "      <th>date</th>\n",
       "      <th>orders_cummulative_a</th>\n",
       "      <th>revenue_cummulative_a</th>\n",
       "      <th>orders_cummulative_b</th>\n",
       "      <th>revenue_cummulative_b</th>\n",
       "      <th>visitors_cummulative_a</th>\n",
       "      <th>visitors_cummulative_b</th>\n",
       "      <th>visitors_per_date_a</th>\n",
       "      <th>visitors_per_date_b</th>\n",
       "    </tr>\n",
       "  </thead>\n",
       "  <tbody>\n",
       "    <tr>\n",
       "      <td>0</td>\n",
       "      <td>2019-08-01</td>\n",
       "      <td>24</td>\n",
       "      <td>148579</td>\n",
       "      <td>21</td>\n",
       "      <td>101217</td>\n",
       "      <td>719</td>\n",
       "      <td>713</td>\n",
       "      <td>719</td>\n",
       "      <td>713</td>\n",
       "    </tr>\n",
       "    <tr>\n",
       "      <td>1</td>\n",
       "      <td>2019-08-02</td>\n",
       "      <td>44</td>\n",
       "      <td>242401</td>\n",
       "      <td>45</td>\n",
       "      <td>266748</td>\n",
       "      <td>1338</td>\n",
       "      <td>1294</td>\n",
       "      <td>619</td>\n",
       "      <td>581</td>\n",
       "    </tr>\n",
       "    <tr>\n",
       "      <td>2</td>\n",
       "      <td>2019-08-03</td>\n",
       "      <td>68</td>\n",
       "      <td>354874</td>\n",
       "      <td>61</td>\n",
       "      <td>380996</td>\n",
       "      <td>1845</td>\n",
       "      <td>1803</td>\n",
       "      <td>507</td>\n",
       "      <td>509</td>\n",
       "    </tr>\n",
       "    <tr>\n",
       "      <td>3</td>\n",
       "      <td>2019-08-04</td>\n",
       "      <td>84</td>\n",
       "      <td>425699</td>\n",
       "      <td>78</td>\n",
       "      <td>489567</td>\n",
       "      <td>2562</td>\n",
       "      <td>2573</td>\n",
       "      <td>717</td>\n",
       "      <td>770</td>\n",
       "    </tr>\n",
       "    <tr>\n",
       "      <td>4</td>\n",
       "      <td>2019-08-05</td>\n",
       "      <td>109</td>\n",
       "      <td>549917</td>\n",
       "      <td>101</td>\n",
       "      <td>581995</td>\n",
       "      <td>3318</td>\n",
       "      <td>3280</td>\n",
       "      <td>756</td>\n",
       "      <td>707</td>\n",
       "    </tr>\n",
       "    <tr>\n",
       "      <td>5</td>\n",
       "      <td>2019-08-06</td>\n",
       "      <td>127</td>\n",
       "      <td>598401</td>\n",
       "      <td>129</td>\n",
       "      <td>824337</td>\n",
       "      <td>3985</td>\n",
       "      <td>3935</td>\n",
       "      <td>667</td>\n",
       "      <td>655</td>\n",
       "    </tr>\n",
       "    <tr>\n",
       "      <td>6</td>\n",
       "      <td>2019-08-07</td>\n",
       "      <td>145</td>\n",
       "      <td>740818</td>\n",
       "      <td>153</td>\n",
       "      <td>1049671</td>\n",
       "      <td>4629</td>\n",
       "      <td>4644</td>\n",
       "      <td>644</td>\n",
       "      <td>709</td>\n",
       "    </tr>\n",
       "    <tr>\n",
       "      <td>7</td>\n",
       "      <td>2019-08-08</td>\n",
       "      <td>161</td>\n",
       "      <td>837097</td>\n",
       "      <td>180</td>\n",
       "      <td>1270589</td>\n",
       "      <td>5239</td>\n",
       "      <td>5298</td>\n",
       "      <td>610</td>\n",
       "      <td>654</td>\n",
       "    </tr>\n",
       "    <tr>\n",
       "      <td>8</td>\n",
       "      <td>2019-08-09</td>\n",
       "      <td>177</td>\n",
       "      <td>1025603</td>\n",
       "      <td>205</td>\n",
       "      <td>1431401</td>\n",
       "      <td>5856</td>\n",
       "      <td>5908</td>\n",
       "      <td>617</td>\n",
       "      <td>610</td>\n",
       "    </tr>\n",
       "    <tr>\n",
       "      <td>9</td>\n",
       "      <td>2019-08-10</td>\n",
       "      <td>193</td>\n",
       "      <td>1236098</td>\n",
       "      <td>228</td>\n",
       "      <td>1539203</td>\n",
       "      <td>6262</td>\n",
       "      <td>6277</td>\n",
       "      <td>406</td>\n",
       "      <td>369</td>\n",
       "    </tr>\n",
       "  </tbody>\n",
       "</table>\n",
       "</div>"
      ],
      "text/plain": [
       "        date  orders_cummulative_a  revenue_cummulative_a  \\\n",
       "0 2019-08-01                    24                 148579   \n",
       "1 2019-08-02                    44                 242401   \n",
       "2 2019-08-03                    68                 354874   \n",
       "3 2019-08-04                    84                 425699   \n",
       "4 2019-08-05                   109                 549917   \n",
       "5 2019-08-06                   127                 598401   \n",
       "6 2019-08-07                   145                 740818   \n",
       "7 2019-08-08                   161                 837097   \n",
       "8 2019-08-09                   177                1025603   \n",
       "9 2019-08-10                   193                1236098   \n",
       "\n",
       "   orders_cummulative_b  revenue_cummulative_b  visitors_cummulative_a  \\\n",
       "0                    21                 101217                     719   \n",
       "1                    45                 266748                    1338   \n",
       "2                    61                 380996                    1845   \n",
       "3                    78                 489567                    2562   \n",
       "4                   101                 581995                    3318   \n",
       "5                   129                 824337                    3985   \n",
       "6                   153                1049671                    4629   \n",
       "7                   180                1270589                    5239   \n",
       "8                   205                1431401                    5856   \n",
       "9                   228                1539203                    6262   \n",
       "\n",
       "   visitors_cummulative_b  visitors_per_date_a  visitors_per_date_b  \n",
       "0                     713                  719                  713  \n",
       "1                    1294                  619                  581  \n",
       "2                    1803                  507                  509  \n",
       "3                    2573                  717                  770  \n",
       "4                    3280                  756                  707  \n",
       "5                    3935                  667                  655  \n",
       "6                    4644                  644                  709  \n",
       "7                    5298                  610                  654  \n",
       "8                    5908                  617                  610  \n",
       "9                    6277                  406                  369  "
      ]
     },
     "execution_count": 11,
     "metadata": {},
     "output_type": "execute_result"
    }
   ],
   "source": [
    "# отбор пользователей из группы А\n",
    "visitors_a_daily = visitors[visitors['group'] == 'A'][['date', 'visitors']]\n",
    "visitors_a_daily.columns = ['date', 'visitors_per_date_a']\n",
    "\n",
    "visitors_a_cummulative = visitors_a_daily.apply(\n",
    "    lambda x: visitors_a_daily[visitors_a_daily['date'] <= x['date']].agg(\n",
    "        {'date': 'max', 'visitors_per_date_a': 'sum'}\n",
    "    ),\n",
    "    axis=1,\n",
    ")\n",
    "visitors_a_cummulative.columns = ['date', 'visitors_cummulative_a']\n",
    "\n",
    "\n",
    "# отбор наблюдений из группы B\n",
    "visitors_b_daily = visitors[visitors['group'] == 'B'][['date', 'visitors']]\n",
    "visitors_b_daily.columns = ['date', 'visitors_per_date_b']\n",
    "\n",
    "visitors_b_cummulative = visitors_b_daily.apply(\n",
    "    lambda x: visitors_b_daily[visitors_b_daily['date'] <= x['date']].agg(\n",
    "        {'date': 'max', 'visitors_per_date_b': 'sum'}\n",
    "    ),\n",
    "    axis=1,\n",
    ")\n",
    "visitors_b_cummulative.columns = ['date', 'visitors_cummulative_b']\n",
    "\n",
    "\n",
    "# отбор заказов у пользователей в группе А по датам\n",
    "orders_a_daily = (\n",
    "    orders[orders['group'] == 'A'][['date', 'transactionId', 'visitorId', 'revenue']]\n",
    "    .groupby('date', as_index=False)\n",
    "    .agg({'transactionId': 'nunique', 'revenue': 'sum'})\n",
    ")\n",
    "orders_a_daily.columns = ['date', 'orders_per_date_a', 'revenue_per_date_a']\n",
    "\n",
    "\n",
    "# отбор кумулятивного числа заказов в группе А\n",
    "orders_a_cummulative = orders_a_daily.apply(\n",
    "    lambda x: orders_a_daily[orders_a_daily['date'] <= x['date']].agg(\n",
    "        {'date': 'max', 'orders_per_date_a': 'sum', 'revenue_per_date_a': 'sum'}\n",
    "    ),\n",
    "    axis=1,\n",
    ").sort_values(by=['date'])\n",
    "orders_a_cummulative.columns = ['date', 'orders_cummulative_a', 'revenue_cummulative_a']\n",
    "\n",
    "\n",
    "# отбор заказов у пользователей в группе B по датам\n",
    "orders_b_daily = (\n",
    "    orders[orders['group'] == 'B'][['date', 'transactionId', 'visitorId', 'revenue']]\n",
    "    .groupby('date', as_index=False)\n",
    "    .agg({'transactionId': 'nunique', 'revenue': 'sum'})\n",
    ")\n",
    "orders_b_daily.columns = ['date', 'orders_per_date_b', 'revenue_per_date_b']\n",
    "\n",
    "\n",
    "# отбор кумулятивного числа заказов в группе B\n",
    "orders_b_cummulative = orders_b_daily.apply(\n",
    "    lambda x: orders_b_daily[orders_a_daily['date'] <= x['date']].agg(\n",
    "        {'date': 'max', 'orders_per_date_b': 'sum', 'revenue_per_date_b': 'sum'}\n",
    "    ),\n",
    "    axis=1,\n",
    ").sort_values(by=['date'])\n",
    "orders_b_cummulative.columns = ['date', 'orders_cummulative_b', 'revenue_cummulative_b']\n",
    "\n",
    "# объединение датафреймов\n",
    "data = (\n",
    "    orders_a_cummulative.merge(\n",
    "        orders_b_cummulative, left_on='date', right_on='date', how='left'  \n",
    "    )\n",
    "    .merge(visitors_a_cummulative, left_on='date', right_on='date', how='left')\n",
    "    .merge(visitors_b_cummulative, left_on='date', right_on='date', how='left')\n",
    "    .merge(visitors_a_daily, left_on='date', right_on='date', how='left')\n",
    "    .merge(visitors_b_daily, left_on='date', right_on='date', how='left')\n",
    ")\n",
    "\n",
    "\n",
    "data.head(10)"
   ]
  },
  {
   "cell_type": "markdown",
   "metadata": {},
   "source": [
    "Также подготовим данные для проведения статистических тестов: предварительная подготовка необходима для сравнения конверсии в группах. Для этого находим количество заказов для каждого пользователя (пользователи, которые ничего не заказывали, будут иметь нули)."
   ]
  },
  {
   "cell_type": "code",
   "execution_count": 12,
   "metadata": {},
   "outputs": [],
   "source": [
    "orders_by_users_a = (\n",
    "    orders[orders['group'] == 'A']\n",
    "    .groupby('visitorId', as_index=False)\n",
    "    .agg({'transactionId': 'nunique'})\n",
    ")\n",
    "orders_by_users_a.columns = ['user_id', 'orders']\n",
    "\n",
    "orders_by_users_b = (\n",
    "    orders[orders['group'] == 'B']\n",
    "    .groupby('visitorId', as_index=False)\n",
    "    .agg({'transactionId': 'nunique'})\n",
    ")\n",
    "orders_by_users_b.columns = ['user_id', 'orders']\n",
    "\n",
    "\n",
    "\n",
    "sample_a = pd.concat(\n",
    "    [\n",
    "        orders_by_users_a['orders'],\n",
    "        pd.Series(\n",
    "            0,\n",
    "            index=np.arange(\n",
    "                data['visitors_per_date_a'].sum() - len(orders_by_users_a['orders'])\n",
    "            ),\n",
    "            name='orders',\n",
    "        ),\n",
    "    ],\n",
    "    axis=0,\n",
    ")\n",
    "\n",
    "sample_b = pd.concat(\n",
    "    [\n",
    "        orders_by_users_b['orders'],\n",
    "        pd.Series(\n",
    "            0,\n",
    "            index=np.arange(\n",
    "                data['visitors_per_date_b'].sum() - len(orders_by_users_b['orders'])\n",
    "            ),\n",
    "            name='orders',\n",
    "        ),\n",
    "    ],\n",
    "    axis=0,\n",
    ")"
   ]
  },
  {
   "cell_type": "markdown",
   "metadata": {},
   "source": [
    "#### Проверка пользователей, попавших в 2 группы"
   ]
  },
  {
   "cell_type": "markdown",
   "metadata": {},
   "source": [
    "Также проверим сформировавшиеся группы на пересечение пользователей. Среди всех участников A/B тестирования 58 пользователей попали в 2 группы, что составляет около 5.6 % от всех пользователей.\n",
    "\n",
    "Наличие пользователей, попавших сразу в 2 группы, может объясняться несколькими причинами:\n",
    "* Ошибка в разработке системы A/B тестирования, которая определяет пользователей сразу в 2 группы\n",
    "* Пользователи заходят с нескольких устройств и поэтому попадают в разные группы\n",
    "\n",
    "В нашем примере доля пользователей из 2 групп достаточно высока, так что стоит на всякий случай исключить ошибку программирования системы A/B тестирования"
   ]
  },
  {
   "cell_type": "code",
   "execution_count": 13,
   "metadata": {},
   "outputs": [
    {
     "data": {
      "text/html": [
       "<div>\n",
       "<style scoped>\n",
       "    .dataframe tbody tr th:only-of-type {\n",
       "        vertical-align: middle;\n",
       "    }\n",
       "\n",
       "    .dataframe tbody tr th {\n",
       "        vertical-align: top;\n",
       "    }\n",
       "\n",
       "    .dataframe thead th {\n",
       "        text-align: right;\n",
       "    }\n",
       "</style>\n",
       "<table border=\"1\" class=\"dataframe\">\n",
       "  <thead>\n",
       "    <tr style=\"text-align: right;\">\n",
       "      <th></th>\n",
       "      <th>groups</th>\n",
       "      <th>group_names</th>\n",
       "    </tr>\n",
       "    <tr>\n",
       "      <th>visitorId</th>\n",
       "      <th></th>\n",
       "      <th></th>\n",
       "    </tr>\n",
       "  </thead>\n",
       "  <tbody>\n",
       "    <tr>\n",
       "      <td>8300375</td>\n",
       "      <td>2</td>\n",
       "      <td>[B, A]</td>\n",
       "    </tr>\n",
       "    <tr>\n",
       "      <td>199603092</td>\n",
       "      <td>2</td>\n",
       "      <td>[A, B]</td>\n",
       "    </tr>\n",
       "    <tr>\n",
       "      <td>232979603</td>\n",
       "      <td>2</td>\n",
       "      <td>[B, A]</td>\n",
       "    </tr>\n",
       "    <tr>\n",
       "      <td>237748145</td>\n",
       "      <td>2</td>\n",
       "      <td>[B, A]</td>\n",
       "    </tr>\n",
       "    <tr>\n",
       "      <td>276558944</td>\n",
       "      <td>2</td>\n",
       "      <td>[B, A]</td>\n",
       "    </tr>\n",
       "    <tr>\n",
       "      <td>351125977</td>\n",
       "      <td>2</td>\n",
       "      <td>[B, A]</td>\n",
       "    </tr>\n",
       "    <tr>\n",
       "      <td>393266494</td>\n",
       "      <td>2</td>\n",
       "      <td>[A, B]</td>\n",
       "    </tr>\n",
       "    <tr>\n",
       "      <td>457167155</td>\n",
       "      <td>2</td>\n",
       "      <td>[B, A]</td>\n",
       "    </tr>\n",
       "    <tr>\n",
       "      <td>471551937</td>\n",
       "      <td>2</td>\n",
       "      <td>[A, B]</td>\n",
       "    </tr>\n",
       "    <tr>\n",
       "      <td>477780734</td>\n",
       "      <td>2</td>\n",
       "      <td>[A, B]</td>\n",
       "    </tr>\n",
       "  </tbody>\n",
       "</table>\n",
       "</div>"
      ],
      "text/plain": [
       "           groups group_names\n",
       "visitorId                    \n",
       "8300375         2      [B, A]\n",
       "199603092       2      [A, B]\n",
       "232979603       2      [B, A]\n",
       "237748145       2      [B, A]\n",
       "276558944       2      [B, A]\n",
       "351125977       2      [B, A]\n",
       "393266494       2      [A, B]\n",
       "457167155       2      [B, A]\n",
       "471551937       2      [A, B]\n",
       "477780734       2      [A, B]"
      ]
     },
     "metadata": {},
     "output_type": "display_data"
    },
    {
     "name": "stdout",
     "output_type": "stream",
     "text": [
      "Число пользователей, попавших в 2 группы: 58 \n",
      " Число пользователей всего: 1031 \n",
      " Доля пользователей, попавших в 2 группы, от всех: 0.056\n"
     ]
    }
   ],
   "source": [
    "duplicated_users = orders.groupby('visitorId').agg({'group': ['nunique', 'unique']})\n",
    "duplicated_users.columns = ['groups', 'group_names']\n",
    "duplicated_users = duplicated_users.query('groups > 1')\n",
    "display(duplicated_users.head(10))\n",
    "print('Число пользователей, попавших в 2 группы:', len(duplicated_users), '\\n',\n",
    "     'Число пользователей всего:', len(orders.groupby('visitorId')), '\\n',\n",
    "     'Доля пользователей, попавших в 2 группы, от всех:', round(len(duplicated_users) / len(orders.groupby('visitorId')), 3))"
   ]
  },
  {
   "cell_type": "markdown",
   "metadata": {},
   "source": [
    "#### Вывод по разделу\n",
    "\n",
    "В этом разделе мы изменили типы данных, проверили наличие дубликатов и пропущенных значений, а также подготовили данные к построению графиков и проведению статистических тестов и проверили пользователей, попавших  в 2 группы A/B тестирования."
   ]
  },
  {
   "cell_type": "markdown",
   "metadata": {},
   "source": [
    "### Графики выручки, среднего чека, конверсии\n",
    "\n",
    "В этом разделе мы построим графики кумулятивных выручки, среднего чека и его изменения в группе В к группе А, конверсии и ее изменения в группе В к группе А.\n",
    "\n",
    "#### Кумулятивная выручка по группам"
   ]
  },
  {
   "cell_type": "markdown",
   "metadata": {},
   "source": [
    "Построим график кумулятивной выручки по дням. Как мы видим, кумулятивная выручка в группе B с самого начала теста была немного выше выручки в группе A, однако после 13 августа она стала более резко расти. Это может говорить о всплеске заказов или о появлении очень дорогих заказов в этой группе.\n",
    "\n",
    "Кумулятивная выручка в группе A равномерно растет на протяжении всего периода проведения теста."
   ]
  },
  {
   "cell_type": "code",
   "execution_count": 14,
   "metadata": {},
   "outputs": [
    {
     "data": {
      "image/png": "[encoded data removed]",
      "text/plain": [
       "<Figure size 1080x360 with 1 Axes>"
      ]
     },
     "metadata": {
      "needs_background": "light"
     },
     "output_type": "display_data"
    }
   ],
   "source": [
    "plt.figure(figsize=(15,5))\n",
    "plt.plot(data['date'], data['revenue_cummulative_a'], label='A')\n",
    "plt.plot(data['date'], data['revenue_cummulative_b'], label='B')\n",
    "plt.legend()\n",
    "plt.title('Кумулятивная выручка по группам')\n",
    "plt.xlabel('Дата')\n",
    "plt.ylabel('Кумулятивная выручка')\n",
    "plt.show()"
   ]
  },
  {
   "cell_type": "markdown",
   "metadata": {},
   "source": [
    "#### Кумулятивный средний чек по группам\n",
    "\n",
    "Построим график кумулятивного среднего чека по группам. Как мы видим, кумулятивный средний чек в группе A стабилизировался примерно в середине теста - после 13 августа. В группе B мы можем наблюдать резкий скачок чека после 17 августа, а далее чек стабилизировался и был выше чека в группе A. Резкий скачок также может объясняться аномальными значениями в этой группе."
   ]
  },
  {
   "cell_type": "code",
   "execution_count": 15,
   "metadata": {},
   "outputs": [
    {
     "data": {
      "image/png": "[encoded data removed]",
      "text/plain": [
       "<Figure size 1080x360 with 1 Axes>"
      ]
     },
     "metadata": {
      "needs_background": "light"
     },
     "output_type": "display_data"
    }
   ],
   "source": [
    "plt.figure(figsize=(15,5))\n",
    "plt.plot(data['date'], data['revenue_cummulative_a']/data['orders_cummulative_a'], label='A')\n",
    "plt.plot(data['date'], data['revenue_cummulative_b']/data['orders_cummulative_b'], label='B')\n",
    "plt.legend()\n",
    "plt.title('Кумулятивный средний чек по группам')\n",
    "plt.xlabel('Дата')\n",
    "plt.ylabel('Кумулятивный средний чек')\n",
    "plt.show()"
   ]
  },
  {
   "cell_type": "markdown",
   "metadata": {},
   "source": [
    "#### Относительное изменение кумулятивного среднего чека в группе B к группе A\n",
    "\n",
    "Построим график относительного различия для кумулятивного среднего чека. Как мы видим, график на протяжении практически всего теста резко скачет. Самый значительный скачок произошел в районе 17-19 августа. Скачки также могут говорить о выбросах в группе B."
   ]
  },
  {
   "cell_type": "code",
   "execution_count": 16,
   "metadata": {},
   "outputs": [
    {
     "data": {
      "image/png": "[encoded data removed]",
      "text/plain": [
       "<Figure size 1080x360 with 1 Axes>"
      ]
     },
     "metadata": {
      "needs_background": "light"
     },
     "output_type": "display_data"
    }
   ],
   "source": [
    "plt.figure(figsize=(15,5))\n",
    "plt.plot(data['date'], (data['revenue_cummulative_b']/data['orders_cummulative_b'])/(data['revenue_cummulative_a']/data['orders_cummulative_a'])-1)\n",
    "plt.axhline(y=0, color='black', linestyle='--')\n",
    "plt.title('Изменение кумулятивного среднего чека в группе B к группе A')\n",
    "plt.xlabel('Дата')\n",
    "plt.ylabel('Относительное изменение')\n",
    "plt.show()"
   ]
  },
  {
   "cell_type": "markdown",
   "metadata": {},
   "source": [
    "#### Кумулятивная конверсия по группам"
   ]
  },
  {
   "cell_type": "markdown",
   "metadata": {},
   "source": [
    "Построим график кумулятивной конверсии по группам. В начале теста в обеих группах были колебания, и конверсия группы В была ниже, однако затем, начиная с 5 мая, резко выросла и оставалась стабильно выше конверсии в группе А. Стоит проверить, связано ли это с выбросами в этой группе."
   ]
  },
  {
   "cell_type": "code",
   "execution_count": 17,
   "metadata": {},
   "outputs": [
    {
     "data": {
      "image/png": "[encoded data removed]",
      "text/plain": [
       "<Figure size 1080x360 with 1 Axes>"
      ]
     },
     "metadata": {
      "needs_background": "light"
     },
     "output_type": "display_data"
    }
   ],
   "source": [
    "plt.figure(figsize=(15,5))\n",
    "plt.plot(data['date'], data['orders_cummulative_a']/data['visitors_cummulative_a'], label='A')\n",
    "plt.plot(data['date'], data['orders_cummulative_b']/data['visitors_cummulative_b'], label='B')\n",
    "plt.legend()\n",
    "plt.title('Кумулятивная конверсия по группам')\n",
    "plt.xlabel('Дата')\n",
    "plt.ylabel('Кумулятивная конверсия')\n",
    "plt.show()"
   ]
  },
  {
   "cell_type": "markdown",
   "metadata": {},
   "source": [
    "#### Относительное изменение кумулятивной конверсии группы B к группе A"
   ]
  },
  {
   "cell_type": "markdown",
   "metadata": {},
   "source": [
    "Построим график относительного изменения кумулятивной конверсии группы В к группе А. По графику можно сделать вывод, что конверсия в группе B практически на протяжении всего теста выше конверсии в группе А, так что можно сделать вывод либо об успешном изменении при тестировании гипотезы в А/B тесте, либо о наличии выбросов."
   ]
  },
  {
   "cell_type": "code",
   "execution_count": 18,
   "metadata": {},
   "outputs": [
    {
     "data": {
      "image/png": "[encoded data removed]",
      "text/plain": [
       "<Figure size 1080x360 with 1 Axes>"
      ]
     },
     "metadata": {
      "needs_background": "light"
     },
     "output_type": "display_data"
    }
   ],
   "source": [
    "plt.figure(figsize=(15,5))\n",
    "plt.plot(data['date'], (data['orders_cummulative_b']/data['visitors_cummulative_b'])/(data['orders_cummulative_a']/data['visitors_cummulative_a'])-1)\n",
    "plt.axhline(y=0, color='black', linestyle='--')\n",
    "plt.title('Изменение кумулятивной конверсии в группе B к группе A')\n",
    "plt.xlabel('Дата')\n",
    "plt.ylabel('Относительное изменение')\n",
    "plt.show()"
   ]
  },
  {
   "cell_type": "markdown",
   "metadata": {},
   "source": [
    "#### Вывод по разделу\n",
    "\n",
    "В этом разделе мы изучили кумулятивные метрики: выручку, средний чек и его изменение в группе В к группе А, конверсию и ее изменение в группе В к группе А. Группа В имеет более высокие оценки по всем показателям, однако при этом графики кумулятивных метрик в ней более активно скачут, что может говорит также и о наличии выбросов в этой группе."
   ]
  },
  {
   "cell_type": "markdown",
   "metadata": {},
   "source": [
    "### Определение выбросов в данных\n",
    "\n",
    "В этом разделе мы определим аномальные наблюдения в числе и стоимости заказов по диаграммам рассеяния и подсчету 95-го и 99-го перцентилей.\n",
    "\n",
    "#### Количество заказов по пользователям"
   ]
  },
  {
   "cell_type": "markdown",
   "metadata": {},
   "source": [
    "Построим диаграмму рассеяния количества заказов по пользователям. Как мы можем видеть, большинство пользователей совершает 1 заказ, значительно меньше совершают 2 заказа. Вероятно, совсем редки те, кто совершает более 2 заказов, и это могут быть аномальные пользователи."
   ]
  },
  {
   "cell_type": "code",
   "execution_count": 19,
   "metadata": {},
   "outputs": [
    {
     "data": {
      "image/png": "[encoded data removed]",
      "text/plain": [
       "<Figure size 1080x360 with 1 Axes>"
      ]
     },
     "metadata": {
      "needs_background": "light"
     },
     "output_type": "display_data"
    }
   ],
   "source": [
    "number_of_orders =(\n",
    "    orders.drop(['revenue', 'date'], axis=1).\n",
    "    groupby('visitorId', as_index=False)\n",
    "    .agg({'transactionId': 'nunique'})\n",
    ")\n",
    "x_values = pd.Series(range(0,len(number_of_orders['transactionId'])))\n",
    "plt.figure(figsize=(15,5))\n",
    "plt.scatter(x_values, number_of_orders['transactionId'])\n",
    "plt.title('Количество заказов по пользователям')\n",
    "plt.xlabel('Пользователь')\n",
    "plt.ylabel('Количество заказов')\n",
    "plt.show()"
   ]
  },
  {
   "cell_type": "markdown",
   "metadata": {},
   "source": [
    "Определим 95-й и 99-й перцентили количества заказов. Не более 5 % пользователей делают более 5 заказов, не более 1 % пользователей делают более 4 заказов."
   ]
  },
  {
   "cell_type": "code",
   "execution_count": 20,
   "metadata": {},
   "outputs": [
    {
     "name": "stdout",
     "output_type": "stream",
     "text": [
      "95-й перцентиль количества заказов: [2.] \n",
      " 99-й перцентиль количества заказов: [4.]\n"
     ]
    }
   ],
   "source": [
    "print('95-й перцентиль количества заказов:', np.percentile(number_of_orders['transactionId'], [95]), '\\n',\n",
    "      '99-й перцентиль количества заказов:', np.percentile(number_of_orders['transactionId'], [99]))"
   ]
  },
  {
   "cell_type": "markdown",
   "metadata": {},
   "source": [
    "#### Стоимость заказов по пользователям"
   ]
  },
  {
   "cell_type": "markdown",
   "metadata": {},
   "source": [
    "Построим диаграмму рассеяния стоимости заказов по пользователям. Большинство заказов не достигают 25 000. Вероятно, значения, близкие к 100 000, будут выбросами. "
   ]
  },
  {
   "cell_type": "code",
   "execution_count": 21,
   "metadata": {},
   "outputs": [
    {
     "data": {
      "image/png": "[encoded data removed]",
      "text/plain": [
       "<Figure size 1080x360 with 1 Axes>"
      ]
     },
     "metadata": {
      "needs_background": "light"
     },
     "output_type": "display_data"
    }
   ],
   "source": [
    "x_values = pd.Series(range(0,len(orders['revenue'])))\n",
    "plt.figure(figsize=(15,5))\n",
    "plt.scatter(x_values, orders['revenue'])\n",
    "plt.title('Стоимость заказов по пользователям')\n",
    "plt.xlabel('Пользователь')\n",
    "plt.ylabel('Стоимость заказов')\n",
    "plt.ylim(0, 200000)\n",
    "plt.show()"
   ]
  },
  {
   "cell_type": "markdown",
   "metadata": {},
   "source": [
    "Определим 95-й и 99-й перцентили стоимости заказов. Как мы видим, не более 5 % пользователей совершают покупки на сумму более 28 000, не более 1 % пользователей совершают покупки на сумму более 58 233.2"
   ]
  },
  {
   "cell_type": "code",
   "execution_count": 22,
   "metadata": {},
   "outputs": [
    {
     "name": "stdout",
     "output_type": "stream",
     "text": [
      "95-й перцентиль количества заказов: [28000.] \n",
      " 99-й перцентиль количества заказов: [58233.2]\n"
     ]
    }
   ],
   "source": [
    "print('95-й перцентиль количества заказов:', np.percentile(orders['revenue'], [95]), '\\n',\n",
    "      '99-й перцентиль количества заказов:', np.percentile(orders['revenue'], [99]))"
   ]
  },
  {
   "cell_type": "markdown",
   "metadata": {},
   "source": [
    "#### Вывод по разделу\n",
    "\n",
    "В этом разделе мы определили аномальные наблюдения. Что касается числа заказов, то не более 5 % пользователей делают более 5 заказов, не более 1 % пользователей делают более 4 заказов. Если говорить о стоимости заказов, то не более 5 % пользователей совершают покупки на сумму более 28 000, не более 1 % пользователей совершают покупки на сумму более 58 233.2."
   ]
  },
  {
   "cell_type": "markdown",
   "metadata": {},
   "source": [
    "### Анализ результатов A/B теста\n",
    "\n",
    "#### Различия в конверсии между группами по «сырым» данным\n",
    "\n",
    "Для того, чтобы определить, какой из статистических тестов нам понадобится для сравнения групп, проверим выборки на нормальность распределения. Сначала посмотрим на плотность распределения переменной заказов в каждой выборке. Как мы видим, распределение заказов в каждой выборке имеет сильную положительную асимметрию, что может говорить о том, что распределения далеки от нормальных. Дополнительно проверим распределения на нормальность с помощью критерия Шапиро-Уилка."
   ]
  },
  {
   "cell_type": "code",
   "execution_count": 23,
   "metadata": {},
   "outputs": [
    {
     "data": {
      "image/png": "[encoded data removed]",
      "text/plain": [
       "<Figure size 1440x360 with 2 Axes>"
      ]
     },
     "metadata": {
      "needs_background": "light"
     },
     "output_type": "display_data"
    }
   ],
   "source": [
    "plt.figure(figsize = (20, 5))\n",
    "sns.distplot(sample_a, hist = False, kde = True,\n",
    "                 kde_kws = {'linewidth': 5}, ax=plt.subplot(1,2,1))\n",
    "plt.title('Выборка A')\n",
    "plt.xlabel('Число заказов')\n",
    "plt.ylabel('Плотность')\n",
    "\n",
    "sns.distplot(sample_b, hist = False, kde = True,\n",
    "                 kde_kws = {'linewidth': 5}, ax=plt.subplot(1,2,2))\n",
    "plt.title('Выборка B')\n",
    "plt.xlabel('Число заказов')\n",
    "plt.ylabel('Плотность')\n",
    "plt.show()"
   ]
  },
  {
   "cell_type": "markdown",
   "metadata": {},
   "source": [
    "Критерий Шапиро-Уилка показывает, что на уровне доверительной вероятности 95 % распределения числа заказов в обеих группах не являются нормальными, что свидетельствует в пользу использования методов непараметрической статистики при сравнении групп - теста Уилкоксона-Манна-Уитни."
   ]
  },
  {
   "cell_type": "code",
   "execution_count": 24,
   "metadata": {},
   "outputs": [
    {
     "name": "stdout",
     "output_type": "stream",
     "text": [
      "p-value в выборке A:  0.0\n",
      "Отвергаем нулевую гипотезу: распределение в выборке A не нормально \n",
      "\n",
      "\n",
      "p-value в выборке B:  0.0\n",
      "Отвергаем нулевую гипотезу: распределение в выборке B не нормально\n"
     ]
    }
   ],
   "source": [
    "alpha = 0.05\n",
    "\n",
    "results_a = st.shapiro(sample_a)\n",
    "p_value_a = results_a[1]\n",
    "\n",
    "print('p-value в выборке A: ', p_value_a)\n",
    "\n",
    "if p_value_a < alpha:\n",
    "    print('Отвергаем нулевую гипотезу: распределение в выборке A не нормально', '\\n\\n')\n",
    "else:\n",
    "    print('Не получилось отвергнуть нулевую гипотезу, всё нормально', '\\n\\n')\n",
    "    \n",
    "results_b = st.shapiro(sample_b)\n",
    "p_value_b = results_b[1]\n",
    "\n",
    "print('p-value в выборке B: ', p_value_b)\n",
    "\n",
    "if p_value_b < alpha:\n",
    "    print('Отвергаем нулевую гипотезу: распределение в выборке B не нормально')\n",
    "else:\n",
    "    print('Не получилось отвергнуть нулевую гипотезу, всё нормально')"
   ]
  },
  {
   "cell_type": "markdown",
   "metadata": {},
   "source": [
    "Используем непараметрический тест Уилкоксона-Манна-Уитни. Формулируем нулевую и альтернативную гипотезы:\n",
    "* H0: Конверсии в группах А и В равны\n",
    "* Н1: Конверсии в группах А и В отличаются\n",
    "\n",
    "Мы будем использовать двустооронний тест здесь и далее, так как при проведении теста можем ожидать изменения метрик как в большую, так и в меньшую сторону. Также установленный уровень доверительной вероятности - 95 %. Полученный p-value равен 0.008 и меньше 0.05 при установленном уровне дов. вероятности, так что у нас достаточно оснований отвергнуть нулевую гипотезу в пользу альтернативной. Относительный прирост конверсии группы B к группе А равен 13.8 %."
   ]
  },
  {
   "cell_type": "code",
   "execution_count": 25,
   "metadata": {},
   "outputs": [
    {
     "name": "stdout",
     "output_type": "stream",
     "text": [
      "P-value критерия Уилкоксона-Манна-Уитни: 0.008 \n",
      " Относительный прирост конверсии группы B к группе А: 0.138\n"
     ]
    }
   ],
   "source": [
    "print('P-value критерия Уилкоксона-Манна-Уитни:', round(st.mannwhitneyu(sample_a, sample_b)[1], 3), '\\n',\n",
    "     'Относительный прирост конверсии группы B к группе А:', round(sample_b.mean() / sample_a.mean() - 1, 3))"
   ]
  },
  {
   "cell_type": "markdown",
   "metadata": {},
   "source": [
    "#### Различия в среднем чеке по \"сырым\" данным"
   ]
  },
  {
   "cell_type": "markdown",
   "metadata": {},
   "source": [
    "Для определения необходимого статистического теста рассмотрим распределения стоимости чеков в группах. Здесь мы также можем заметить сильную положительную асимметрию, которая может говорить об отсутствии нормального распределения и невозможности применения параметрического теста."
   ]
  },
  {
   "cell_type": "code",
   "execution_count": 26,
   "metadata": {},
   "outputs": [
    {
     "data": {
      "image/png": "[encoded data removed]",
      "text/plain": [
       "<Figure size 1440x360 with 2 Axes>"
      ]
     },
     "metadata": {
      "needs_background": "light"
     },
     "output_type": "display_data"
    }
   ],
   "source": [
    "plt.figure(figsize = (20, 5))\n",
    "sns.distplot(orders[orders['group']=='A']['revenue'], hist = False, kde = True,\n",
    "                 kde_kws = {'linewidth': 5}, ax=plt.subplot(1,2,1))\n",
    "plt.title('Выборка A')\n",
    "plt.xlabel('Средний чек заказов')\n",
    "plt.ylabel('Плотность')\n",
    "\n",
    "sns.distplot(orders[orders['group']=='B']['revenue'], hist = False, kde = True,\n",
    "                 kde_kws = {'linewidth': 5}, ax=plt.subplot(1,2,2))\n",
    "plt.title('Выборка B')\n",
    "plt.xlabel('Стоимость заказов')\n",
    "plt.ylabel('Плотность')\n",
    "plt.show()"
   ]
  },
  {
   "cell_type": "markdown",
   "metadata": {},
   "source": [
    "Критерий Шапиро-Уилка показал, что распределения не нормальны, а значит мы будем применять непараметрический тест Уилкоксона-Манна-Уитни для сравнения средних чеков."
   ]
  },
  {
   "cell_type": "code",
   "execution_count": 27,
   "metadata": {},
   "outputs": [
    {
     "name": "stdout",
     "output_type": "stream",
     "text": [
      "p-value в выборке A:  1.739703399801917e-34\n",
      "Отвергаем нулевую гипотезу: распределение в выборке A не нормально \n",
      "\n",
      "\n",
      "p-value в выборке B:  0.0\n",
      "Отвергаем нулевую гипотезу: распределение в выборке B не нормально\n"
     ]
    }
   ],
   "source": [
    "results_a = st.shapiro(orders[orders['group']=='A']['revenue'])\n",
    "p_value_a = results_a[1]\n",
    "\n",
    "print('p-value в выборке A: ', p_value_a)\n",
    "\n",
    "if p_value_a < alpha:\n",
    "    print('Отвергаем нулевую гипотезу: распределение в выборке A не нормально', '\\n\\n')\n",
    "else:\n",
    "    print('Не получилось отвергнуть нулевую гипотезу, всё нормально', '\\n\\n')\n",
    "    \n",
    "results_b = st.shapiro(orders[orders['group']=='B']['revenue'])\n",
    "p_value_b = results_b[1]\n",
    "\n",
    "print('p-value в выборке B: ', p_value_b)\n",
    "\n",
    "if p_value_b < alpha:\n",
    "    print('Отвергаем нулевую гипотезу: распределение в выборке B не нормально')\n",
    "else:\n",
    "    print('Не получилось отвергнуть нулевую гипотезу, всё нормально')"
   ]
  },
  {
   "cell_type": "markdown",
   "metadata": {},
   "source": [
    "Формулируем статистические гипотезы для теста Уилкоксона-Манна-Уитни:\n",
    "* H0: Средние чеки в группах А и В равны\n",
    "* Н1: Средние чеки в группах А и В отличаются\n",
    "\n",
    "На уровне доверительной вероятности 95 % у нас недостаточно оснований отвергнуть нулевую гипотезу о равенстве средних чеков. Таким образом, мы можем сделать вывод, что относительный прирост среднего чека в группе В к группе А, равный 25.9 % - это случайное колебание."
   ]
  },
  {
   "cell_type": "code",
   "execution_count": 28,
   "metadata": {},
   "outputs": [
    {
     "name": "stdout",
     "output_type": "stream",
     "text": [
      "P-value критерия Уилкоксона-Манна-Уитни: 0.365 \n",
      " Относительный прирост среднего чека группы B к группе А: 0.259\n"
     ]
    }
   ],
   "source": [
    "print('P-value критерия Уилкоксона-Манна-Уитни:', round(st.mannwhitneyu(orders[orders['group']=='A']['revenue'], orders[orders['group']=='B']['revenue'])[1], 3),\n",
    "      '\\n', 'Относительный прирост среднего чека группы B к группе А:', round(orders[orders['group']=='B']['revenue'].mean()/orders[orders['group']=='A']['revenue'].mean()-1, 3))"
   ]
  },
  {
   "cell_type": "markdown",
   "metadata": {},
   "source": [
    "#### Различия в конверсии по \"очищенным\" данным"
   ]
  },
  {
   "cell_type": "markdown",
   "metadata": {},
   "source": [
    "Собираем идентификационные данные аномальных пользователей. Как мы определили в разделе 2.3, аномальные пользователи совершают более 2 заказов либо совершают заказы на суммы более 28 000. Сделаем срезы пользователей с такими заказами и объединим их в одну таблицу. Всего 74 аномальных пользователя."
   ]
  },
  {
   "cell_type": "code",
   "execution_count": 30,
   "metadata": {},
   "outputs": [
    {
     "name": "stdout",
     "output_type": "stream",
     "text": [
      "1099    148427295\n",
      "18      199603092\n",
      "928     204675465\n",
      "23      237748145\n",
      "37      249864742\n",
      "dtype: object\n",
      "(74,)\n"
     ]
    }
   ],
   "source": [
    "users_with_many_orders = pd.concat(\n",
    "    [\n",
    "        orders_by_users_a[orders_by_users_a['orders'] > np.percentile(number_of_orders['transactionId'], [95])[0]]['user_id'],\n",
    "        orders_by_users_b[orders_by_users_b['orders'] > np.percentile(number_of_orders['transactionId'], [95])[0]]['user_id'],\n",
    "    ],\n",
    "    axis=0,\n",
    ")\n",
    "\n",
    "users_with_expensive_orders = orders[orders['revenue'] > np.percentile(orders['revenue'], [95])[0]]['visitorId']\n",
    "abnormal_users = (\n",
    "    pd.concat([users_with_many_orders, users_with_expensive_orders], axis=0)\n",
    "    .drop_duplicates()\n",
    "    .sort_values()\n",
    ")\n",
    "\n",
    "print(abnormal_users.head(5))\n",
    "print(abnormal_users.shape)"
   ]
  },
  {
   "cell_type": "markdown",
   "metadata": {},
   "source": [
    "Проводим непараметрический тест Уилкоксона-Манна-Уитни без аномальных пользователей. Формулируем статистические гипотезы:\n",
    "* H0: Конверсии в группах А и В равны\n",
    "* Н1: Конверсии в группах А и В отличаются\n",
    "\n",
    "P-value равен 0.007, и на уровне доверительной вероятности 95 % у нас достаточно оснований отвергуть нулевую гипотезу в пользу альтернативной и подтвердить различие в конверсии между группами. Относительный прирост конверсии группы B к группе А равен 17.3 %, он увеличился при удалении выбросов."
   ]
  },
  {
   "cell_type": "code",
   "execution_count": 31,
   "metadata": {},
   "outputs": [
    {
     "name": "stdout",
     "output_type": "stream",
     "text": [
      "P-value критерия Уилкоксона-Манна-Уитни: 0.007 \n",
      " Относительный прирост конверсии группы B к группе А: 0.173\n"
     ]
    }
   ],
   "source": [
    "sample_a_filtered = pd.concat(\n",
    "    [\n",
    "        orders_by_users_a[\n",
    "            np.logical_not(orders_by_users_a['user_id'].isin(abnormal_users))\n",
    "        ]['orders'],\n",
    "        pd.Series(\n",
    "            0,\n",
    "            index=np.arange(\n",
    "                data['visitors_per_date_a'].sum() - len(orders_by_users_a['orders'])\n",
    "            ),\n",
    "            name='orders',\n",
    "        ),\n",
    "    ],\n",
    "    axis=0,\n",
    ")\n",
    "\n",
    "sample_b_filtered = pd.concat(\n",
    "    [\n",
    "        orders_by_users_b[\n",
    "            np.logical_not(orders_by_users_b['user_id'].isin(abnormal_users))\n",
    "        ]['orders'],\n",
    "        pd.Series(\n",
    "            0,\n",
    "            index=np.arange(\n",
    "                data['visitors_per_date_b'].sum() - len(orders_by_users_b['orders'])\n",
    "            ),\n",
    "            name='orders',\n",
    "        ),\n",
    "    ],\n",
    "    axis=0,\n",
    ")\n",
    "\n",
    "print('P-value критерия Уилкоксона-Манна-Уитни:', round(st.mannwhitneyu(sample_a_filtered, sample_b_filtered)[1], 3), '\\n',\n",
    "     'Относительный прирост конверсии группы B к группе А:', round(sample_b_filtered.mean() / sample_a_filtered.mean() - 1, 3))"
   ]
  },
  {
   "cell_type": "markdown",
   "metadata": {},
   "source": [
    "#### Различия в среднем чеке по \"очищенным\" данным"
   ]
  },
  {
   "cell_type": "markdown",
   "metadata": {},
   "source": [
    "Проводим непараметрический тест Уилкоксона-Манна-Уитни. Формулируем статистические гипотезы:\n",
    "\n",
    "* H0: Средние чеки в группах А и В равны\n",
    "* Н1: Средние чеки в группах А и В отличаются\n",
    "\n",
    "P-value теста равен 0.369, и при доверительной вероятности 95 % у нас недостаточно оснований отвергнуть нулевую гипотезу о равенстве средних чеков в группах. Также мы можем видеть, что после удаления выбросов прирост среднего чека в группе В практически нулевой по сравнению с группой А."
   ]
  },
  {
   "cell_type": "code",
   "execution_count": 32,
   "metadata": {},
   "outputs": [
    {
     "name": "stdout",
     "output_type": "stream",
     "text": [
      "P-value критерия Уилкоксона-Манна-Уитни: 0.369\n",
      "Относительный прирост среднего чека группы B к группе А: -0.02\n"
     ]
    }
   ],
   "source": [
    "print('P-value критерия Уилкоксона-Манна-Уитни:', round(st.mannwhitneyu(\n",
    "            orders[\n",
    "                np.logical_and(\n",
    "                    orders['group'] == 'A',\n",
    "                    np.logical_not(orders['visitorId'].isin(abnormal_users)),\n",
    "                )\n",
    "            ]['revenue'],\n",
    "            orders[\n",
    "                np.logical_and(\n",
    "                    orders['group'] == 'B',\n",
    "                    np.logical_not(orders['visitorId'].isin(abnormal_users)),\n",
    "                )]['revenue'],)[1], 3))\n",
    "\n",
    "print('Относительный прирост среднего чека группы B к группе А:', round(orders[\n",
    "            np.logical_and(orders['group'] == 'B', np.logical_not(orders['visitorId'].isin(abnormal_users)),\n",
    "            )]['revenue'].mean()\n",
    "            /\n",
    "            orders[np.logical_and(orders['group'] == 'A', np.logical_not(orders['visitorId'].isin(abnormal_users)),\n",
    "            )]['revenue'].mean()- 1, 3))"
   ]
  },
  {
   "cell_type": "markdown",
   "metadata": {},
   "source": [
    "#### Вывод по разделу\n",
    "\n",
    "В этом разделе мы провели тесты Уилкоксона-Манна-Уитни и сравнили конверсии и средние чеки в группах по сырым и очищенным данным. И по сырым, и по очищенным данным мы увидели, что существуют статистически значимые различия в группах по конверсии (конверсия в группе B выше) и отсутствуют различия по среднему чеку."
   ]
  },
  {
   "cell_type": "markdown",
   "metadata": {},
   "source": [
    "### Общий вывод\n",
    "\n",
    "В этом проекте мы приоритизировали гипотезы для тестирования, а также анализировали результаты A/B теста.\n",
    "\n",
    "По результатам первой части исследования (приоритизация гипотез) оказалось, что первыми следует тестировать 2 гипотезы:\n",
    "* Добавить форму подписки на все основные страницы, чтобы собрать базу клиентов для email-рассылок\n",
    "* Добавить два новых канала привлечения трафика, что позволит привлекать на 30% больше пользователей\n",
    "\n",
    "\n",
    "Что касается результатов A/B теста, то, исходя из обнаруженных данных, следует остановить тест и признать его успешным. Мы нашли статистически значимые различия в конверсии между группами и отсутствие различий в среднем чеке. Что касается среднего чека, то, согласно графику кумулятивного среднего чека (пункт 2.2.2) кумулятивный чек стабилизировался и скорее всего продолжит оставаться примерно на этом же уровне в обеих группах. График относительного изменения кумулятивного среднего чека (пункт 2.2.3) пока показывает, что группа B имеет более высокий средний чек, однако этот показатель снижается с каждым днем и, вероятно, скоро достигнет 0.\n",
    "\n",
    "Таким образом, по результатам A/B теста можно сделать вывод, что тестируемое изменение увеличивает конверсию пользователей, однако оставляет их средний чек на том же уровне. Таким образом, можно сделать вывод, что выручка увеличивается, однако она увеличивается за счет привлечения новых покупателей (пользователелей, которые перешли в покупатели), а не за счет увеличения стоимости покупок."
   ]
  }
 ],
 "metadata": {
  "ExecuteTimeLog": [
   {
    "duration": 964,
    "start_time": "2022-02-23T11:51:49.775Z"
   },
   {
    "duration": 25,
    "start_time": "2022-02-23T11:57:37.117Z"
   },
   {
    "duration": 15,
    "start_time": "2022-02-23T12:00:23.702Z"
   },
   {
    "duration": 11,
    "start_time": "2022-02-23T12:06:10.669Z"
   },
   {
    "duration": 10,
    "start_time": "2022-02-23T12:06:21.072Z"
   },
   {
    "duration": 5,
    "start_time": "2022-02-23T12:07:02.815Z"
   },
   {
    "duration": 1062,
    "start_time": "2022-02-25T15:51:59.347Z"
   },
   {
    "duration": 24,
    "start_time": "2022-02-25T15:52:00.411Z"
   },
   {
    "duration": 21,
    "start_time": "2022-02-25T15:52:00.437Z"
   },
   {
    "duration": 2,
    "start_time": "2022-02-25T15:54:15.785Z"
   },
   {
    "duration": 17,
    "start_time": "2022-02-25T15:54:15.789Z"
   },
   {
    "duration": 12,
    "start_time": "2022-02-25T15:54:15.808Z"
   },
   {
    "duration": 11,
    "start_time": "2022-02-25T15:55:50.484Z"
   },
   {
    "duration": 3,
    "start_time": "2022-02-25T15:58:45.334Z"
   },
   {
    "duration": 22,
    "start_time": "2022-02-25T15:58:45.338Z"
   },
   {
    "duration": 11,
    "start_time": "2022-02-25T15:58:45.362Z"
   },
   {
    "duration": 10,
    "start_time": "2022-02-25T15:58:45.375Z"
   },
   {
    "duration": 1616,
    "start_time": "2022-02-28T13:10:08.369Z"
   },
   {
    "duration": 32,
    "start_time": "2022-02-28T13:10:09.987Z"
   },
   {
    "duration": 21,
    "start_time": "2022-02-28T13:10:10.022Z"
   },
   {
    "duration": 17,
    "start_time": "2022-02-28T13:10:10.046Z"
   },
   {
    "duration": 47,
    "start_time": "2022-02-28T13:20:11.849Z"
   },
   {
    "duration": 18,
    "start_time": "2022-02-28T13:21:17.260Z"
   },
   {
    "duration": 4,
    "start_time": "2022-02-28T13:26:12.537Z"
   },
   {
    "duration": 23,
    "start_time": "2022-02-28T13:30:21.576Z"
   },
   {
    "duration": 21,
    "start_time": "2022-02-28T13:30:30.376Z"
   },
   {
    "duration": 8,
    "start_time": "2022-02-28T13:30:42.439Z"
   },
   {
    "duration": 11,
    "start_time": "2022-02-28T13:33:35.163Z"
   },
   {
    "duration": 93,
    "start_time": "2022-02-28T13:37:45.022Z"
   },
   {
    "duration": 327,
    "start_time": "2022-02-28T14:33:17.417Z"
   },
   {
    "duration": 5948,
    "start_time": "2022-02-28T14:35:20.448Z"
   },
   {
    "duration": 24,
    "start_time": "2022-02-28T14:36:59.719Z"
   },
   {
    "duration": 27,
    "start_time": "2022-02-28T14:37:32.287Z"
   },
   {
    "duration": 5402,
    "start_time": "2022-02-28T14:37:55.968Z"
   },
   {
    "duration": 6062,
    "start_time": "2022-02-28T14:38:13.951Z"
   },
   {
    "duration": 96,
    "start_time": "2022-02-28T14:38:24.250Z"
   },
   {
    "duration": 104,
    "start_time": "2022-02-28T14:38:32.247Z"
   },
   {
    "duration": 181,
    "start_time": "2022-02-28T14:44:46.292Z"
   },
   {
    "duration": 191,
    "start_time": "2022-02-28T14:45:02.159Z"
   },
   {
    "duration": 216,
    "start_time": "2022-02-28T14:45:05.560Z"
   },
   {
    "duration": 42,
    "start_time": "2022-02-28T14:45:13.290Z"
   },
   {
    "duration": 397,
    "start_time": "2022-02-28T14:49:59.594Z"
   },
   {
    "duration": 185,
    "start_time": "2022-02-28T14:50:10.924Z"
   },
   {
    "duration": 249,
    "start_time": "2022-02-28T14:50:20.040Z"
   },
   {
    "duration": 254,
    "start_time": "2022-02-28T14:50:27.665Z"
   },
   {
    "duration": 458,
    "start_time": "2022-02-28T14:56:10.672Z"
   },
   {
    "duration": 188,
    "start_time": "2022-02-28T18:34:38.841Z"
   },
   {
    "duration": 5008,
    "start_time": "2022-02-28T18:35:21.758Z"
   },
   {
    "duration": 214,
    "start_time": "2022-02-28T18:36:24.853Z"
   },
   {
    "duration": 24,
    "start_time": "2022-02-28T18:36:58.650Z"
   },
   {
    "duration": 27,
    "start_time": "2022-02-28T18:37:18.615Z"
   },
   {
    "duration": 27,
    "start_time": "2022-02-28T18:37:31.770Z"
   },
   {
    "duration": 3561,
    "start_time": "2022-02-28T18:37:59.550Z"
   },
   {
    "duration": 25,
    "start_time": "2022-02-28T18:38:25.000Z"
   },
   {
    "duration": 12,
    "start_time": "2022-02-28T18:38:34.982Z"
   },
   {
    "duration": 11,
    "start_time": "2022-02-28T18:38:45.400Z"
   },
   {
    "duration": 9,
    "start_time": "2022-02-28T18:38:57.696Z"
   },
   {
    "duration": 433,
    "start_time": "2022-02-28T19:10:00.952Z"
   },
   {
    "duration": 60,
    "start_time": "2022-02-28T19:10:38.370Z"
   },
   {
    "duration": 134,
    "start_time": "2022-02-28T19:12:01.391Z"
   },
   {
    "duration": 104,
    "start_time": "2022-02-28T19:12:12.981Z"
   },
   {
    "duration": 49,
    "start_time": "2022-02-28T19:13:15.270Z"
   },
   {
    "duration": 57,
    "start_time": "2022-02-28T19:15:04.564Z"
   },
   {
    "duration": 546,
    "start_time": "2022-02-28T19:15:13.761Z"
   },
   {
    "duration": 56,
    "start_time": "2022-02-28T19:15:18.080Z"
   },
   {
    "duration": 449,
    "start_time": "2022-02-28T19:18:51.151Z"
   },
   {
    "duration": 468,
    "start_time": "2022-02-28T19:21:04.860Z"
   },
   {
    "duration": 311,
    "start_time": "2022-02-28T19:21:07.860Z"
   },
   {
    "duration": 10,
    "start_time": "2022-02-28T19:21:41.023Z"
   },
   {
    "duration": 440,
    "start_time": "2022-02-28T19:22:02.671Z"
   },
   {
    "duration": 404,
    "start_time": "2022-02-28T19:23:28.462Z"
   },
   {
    "duration": 401,
    "start_time": "2022-02-28T19:27:01.281Z"
   },
   {
    "duration": 632,
    "start_time": "2022-02-28T19:27:46.999Z"
   },
   {
    "duration": 414,
    "start_time": "2022-02-28T19:28:03.983Z"
   },
   {
    "duration": 460,
    "start_time": "2022-02-28T19:33:09.218Z"
   },
   {
    "duration": 391,
    "start_time": "2022-02-28T19:41:53.591Z"
   },
   {
    "duration": 492,
    "start_time": "2022-02-28T19:42:48.340Z"
   },
   {
    "duration": 409,
    "start_time": "2022-02-28T20:46:03.213Z"
   },
   {
    "duration": 509,
    "start_time": "2022-02-28T20:55:25.739Z"
   },
   {
    "duration": 20,
    "start_time": "2022-02-28T21:05:24.546Z"
   },
   {
    "duration": 350,
    "start_time": "2022-02-28T21:06:13.929Z"
   },
   {
    "duration": 447,
    "start_time": "2022-02-28T21:08:23.624Z"
   },
   {
    "duration": 7,
    "start_time": "2022-02-28T21:20:51.143Z"
   },
   {
    "duration": 12,
    "start_time": "2022-02-28T21:21:13.838Z"
   },
   {
    "duration": 6,
    "start_time": "2022-02-28T21:21:23.461Z"
   },
   {
    "duration": 173,
    "start_time": "2022-02-28T21:22:08.916Z"
   },
   {
    "duration": 7,
    "start_time": "2022-02-28T21:22:17.827Z"
   },
   {
    "duration": 6,
    "start_time": "2022-02-28T21:22:22.962Z"
   },
   {
    "duration": 6,
    "start_time": "2022-02-28T21:22:44.145Z"
   },
   {
    "duration": 8,
    "start_time": "2022-02-28T21:23:48.399Z"
   },
   {
    "duration": 9,
    "start_time": "2022-02-28T21:23:58.741Z"
   },
   {
    "duration": 7,
    "start_time": "2022-02-28T21:24:12.635Z"
   },
   {
    "duration": 594,
    "start_time": "2022-02-28T21:28:23.244Z"
   },
   {
    "duration": 463,
    "start_time": "2022-02-28T21:28:41.806Z"
   },
   {
    "duration": 457,
    "start_time": "2022-02-28T21:29:18.617Z"
   },
   {
    "duration": 8,
    "start_time": "2022-02-28T21:32:20.280Z"
   },
   {
    "duration": 1364,
    "start_time": "2022-03-01T10:10:35.927Z"
   },
   {
    "duration": 43,
    "start_time": "2022-03-01T10:10:37.294Z"
   },
   {
    "duration": 15,
    "start_time": "2022-03-01T10:10:37.340Z"
   },
   {
    "duration": 15,
    "start_time": "2022-03-01T10:10:37.358Z"
   },
   {
    "duration": 98,
    "start_time": "2022-03-01T10:10:37.375Z"
   },
   {
    "duration": 14,
    "start_time": "2022-03-01T10:10:37.476Z"
   },
   {
    "duration": 23,
    "start_time": "2022-03-01T10:10:37.493Z"
   },
   {
    "duration": 465,
    "start_time": "2022-03-01T10:10:37.518Z"
   },
   {
    "duration": 24,
    "start_time": "2022-03-01T10:10:37.989Z"
   },
   {
    "duration": 431,
    "start_time": "2022-03-01T10:10:38.033Z"
   },
   {
    "duration": 428,
    "start_time": "2022-03-01T10:10:38.467Z"
   },
   {
    "duration": 532,
    "start_time": "2022-03-01T10:10:38.897Z"
   },
   {
    "duration": 460,
    "start_time": "2022-03-01T10:10:39.432Z"
   },
   {
    "duration": 545,
    "start_time": "2022-03-01T10:10:39.895Z"
   },
   {
    "duration": 483,
    "start_time": "2022-03-01T10:10:40.443Z"
   },
   {
    "duration": 8,
    "start_time": "2022-03-01T10:10:40.928Z"
   },
   {
    "duration": 506,
    "start_time": "2022-03-01T10:10:40.938Z"
   },
   {
    "duration": 7,
    "start_time": "2022-03-01T10:10:41.446Z"
   },
   {
    "duration": 375,
    "start_time": "2022-03-01T10:18:34.559Z"
   },
   {
    "duration": 7,
    "start_time": "2022-03-01T10:18:42.268Z"
   },
   {
    "duration": 7,
    "start_time": "2022-03-01T10:18:55.953Z"
   },
   {
    "duration": 8,
    "start_time": "2022-03-01T10:19:17.062Z"
   },
   {
    "duration": 477,
    "start_time": "2022-03-01T10:20:09.967Z"
   },
   {
    "duration": 9,
    "start_time": "2022-03-01T10:20:22.311Z"
   },
   {
    "duration": 9,
    "start_time": "2022-03-01T10:20:46.470Z"
   },
   {
    "duration": 10,
    "start_time": "2022-03-01T10:21:04.824Z"
   },
   {
    "duration": 9,
    "start_time": "2022-03-01T10:21:22.238Z"
   },
   {
    "duration": 258,
    "start_time": "2022-03-01T10:22:32.831Z"
   },
   {
    "duration": 12,
    "start_time": "2022-03-01T10:22:43.279Z"
   },
   {
    "duration": 4508,
    "start_time": "2022-03-01T10:30:36.098Z"
   },
   {
    "duration": 299,
    "start_time": "2022-03-01T10:30:52.882Z"
   },
   {
    "duration": 1247,
    "start_time": "2022-03-01T10:31:45.072Z"
   },
   {
    "duration": 657,
    "start_time": "2022-03-01T10:31:56.475Z"
   },
   {
    "duration": 668,
    "start_time": "2022-03-01T10:32:23.166Z"
   },
   {
    "duration": 848,
    "start_time": "2022-03-01T10:32:31.699Z"
   },
   {
    "duration": 658,
    "start_time": "2022-03-01T10:33:07.212Z"
   },
   {
    "duration": 649,
    "start_time": "2022-03-01T10:33:15.903Z"
   },
   {
    "duration": 198,
    "start_time": "2022-03-01T10:35:34.796Z"
   },
   {
    "duration": 263,
    "start_time": "2022-03-01T10:36:07.261Z"
   },
   {
    "duration": 269,
    "start_time": "2022-03-01T10:36:21.778Z"
   },
   {
    "duration": 363,
    "start_time": "2022-03-01T10:36:53.716Z"
   },
   {
    "duration": 815,
    "start_time": "2022-03-01T10:37:22.062Z"
   },
   {
    "duration": 816,
    "start_time": "2022-03-01T10:37:42.273Z"
   },
   {
    "duration": 861,
    "start_time": "2022-03-01T10:37:50.855Z"
   },
   {
    "duration": 595,
    "start_time": "2022-03-01T10:37:59.601Z"
   },
   {
    "duration": 5,
    "start_time": "2022-03-01T10:38:22.933Z"
   },
   {
    "duration": 702,
    "start_time": "2022-03-01T10:39:54.986Z"
   },
   {
    "duration": 1575,
    "start_time": "2022-03-01T13:11:54.563Z"
   },
   {
    "duration": 31,
    "start_time": "2022-03-01T13:11:56.141Z"
   },
   {
    "duration": 22,
    "start_time": "2022-03-01T13:11:56.175Z"
   },
   {
    "duration": 17,
    "start_time": "2022-03-01T13:11:56.200Z"
   },
   {
    "duration": 53,
    "start_time": "2022-03-01T13:11:56.219Z"
   },
   {
    "duration": 24,
    "start_time": "2022-03-01T13:11:56.275Z"
   },
   {
    "duration": 24,
    "start_time": "2022-03-01T13:11:56.302Z"
   },
   {
    "duration": 511,
    "start_time": "2022-03-01T13:11:56.329Z"
   },
   {
    "duration": 24,
    "start_time": "2022-03-01T13:11:56.844Z"
   },
   {
    "duration": 472,
    "start_time": "2022-03-01T13:11:56.887Z"
   },
   {
    "duration": 438,
    "start_time": "2022-03-01T13:11:57.361Z"
   },
   {
    "duration": 533,
    "start_time": "2022-03-01T13:11:57.802Z"
   },
   {
    "duration": 473,
    "start_time": "2022-03-01T13:11:58.338Z"
   },
   {
    "duration": 631,
    "start_time": "2022-03-01T13:11:58.814Z"
   },
   {
    "duration": 547,
    "start_time": "2022-03-01T13:11:59.448Z"
   },
   {
    "duration": 11,
    "start_time": "2022-03-01T13:11:59.998Z"
   },
   {
    "duration": 638,
    "start_time": "2022-03-01T13:12:00.011Z"
   },
   {
    "duration": 7,
    "start_time": "2022-03-01T13:12:00.651Z"
   },
   {
    "duration": 671,
    "start_time": "2022-03-01T13:12:00.660Z"
   },
   {
    "duration": 22,
    "start_time": "2022-03-01T13:12:01.333Z"
   },
   {
    "duration": 29,
    "start_time": "2022-03-01T13:12:01.358Z"
   },
   {
    "duration": 4,
    "start_time": "2022-03-01T13:13:04.285Z"
   },
   {
    "duration": 10,
    "start_time": "2022-03-01T13:13:16.597Z"
   },
   {
    "duration": 9,
    "start_time": "2022-03-01T13:19:37.308Z"
   },
   {
    "duration": 11,
    "start_time": "2022-03-01T13:19:45.391Z"
   },
   {
    "duration": 11,
    "start_time": "2022-03-01T13:19:55.150Z"
   },
   {
    "duration": 6,
    "start_time": "2022-03-01T13:21:39.679Z"
   },
   {
    "duration": 7,
    "start_time": "2022-03-01T13:21:52.707Z"
   },
   {
    "duration": 12,
    "start_time": "2022-03-01T13:22:06.101Z"
   },
   {
    "duration": 9,
    "start_time": "2022-03-01T13:22:15.949Z"
   },
   {
    "duration": 8,
    "start_time": "2022-03-01T13:22:30.068Z"
   },
   {
    "duration": 10,
    "start_time": "2022-03-01T13:22:43.862Z"
   },
   {
    "duration": 12,
    "start_time": "2022-03-01T13:23:21.188Z"
   },
   {
    "duration": 659,
    "start_time": "2022-03-01T13:32:32.818Z"
   },
   {
    "duration": 674,
    "start_time": "2022-03-01T13:33:07.128Z"
   },
   {
    "duration": 684,
    "start_time": "2022-03-01T13:33:15.033Z"
   },
   {
    "duration": 666,
    "start_time": "2022-03-01T13:33:20.769Z"
   },
   {
    "duration": 10,
    "start_time": "2022-03-01T13:34:44.986Z"
   },
   {
    "duration": 85,
    "start_time": "2022-03-01T15:21:47.669Z"
   },
   {
    "duration": 108,
    "start_time": "2022-03-01T15:22:36.127Z"
   },
   {
    "duration": 12,
    "start_time": "2022-03-01T15:22:42.051Z"
   },
   {
    "duration": 139,
    "start_time": "2022-03-01T15:22:56.537Z"
   },
   {
    "duration": 12,
    "start_time": "2022-03-01T15:23:14.511Z"
   },
   {
    "duration": 18,
    "start_time": "2022-03-01T15:23:27.449Z"
   },
   {
    "duration": 838,
    "start_time": "2022-03-01T15:24:45.000Z"
   },
   {
    "duration": 12,
    "start_time": "2022-03-01T15:42:17.414Z"
   },
   {
    "duration": 303,
    "start_time": "2022-03-01T20:31:38.886Z"
   },
   {
    "duration": 1467,
    "start_time": "2022-03-01T20:31:45.222Z"
   },
   {
    "duration": 30,
    "start_time": "2022-03-01T20:31:46.692Z"
   },
   {
    "duration": 20,
    "start_time": "2022-03-01T20:31:46.725Z"
   },
   {
    "duration": 15,
    "start_time": "2022-03-01T20:31:46.748Z"
   },
   {
    "duration": 66,
    "start_time": "2022-03-01T20:31:46.765Z"
   },
   {
    "duration": 12,
    "start_time": "2022-03-01T20:31:46.834Z"
   },
   {
    "duration": 21,
    "start_time": "2022-03-01T20:31:46.849Z"
   },
   {
    "duration": 479,
    "start_time": "2022-03-01T20:31:46.872Z"
   },
   {
    "duration": 36,
    "start_time": "2022-03-01T20:31:47.357Z"
   },
   {
    "duration": 660,
    "start_time": "2022-03-01T20:31:47.397Z"
   },
   {
    "duration": 432,
    "start_time": "2022-03-01T20:31:48.059Z"
   },
   {
    "duration": 568,
    "start_time": "2022-03-01T20:31:48.494Z"
   },
   {
    "duration": 661,
    "start_time": "2022-03-01T20:31:49.065Z"
   },
   {
    "duration": 707,
    "start_time": "2022-03-01T20:31:49.729Z"
   },
   {
    "duration": 651,
    "start_time": "2022-03-01T20:31:50.439Z"
   },
   {
    "duration": 9,
    "start_time": "2022-03-01T20:31:51.093Z"
   },
   {
    "duration": 586,
    "start_time": "2022-03-01T20:31:51.105Z"
   },
   {
    "duration": 9,
    "start_time": "2022-03-01T20:31:51.694Z"
   },
   {
    "duration": 628,
    "start_time": "2022-03-01T20:31:51.706Z"
   },
   {
    "duration": 10,
    "start_time": "2022-03-01T20:31:52.337Z"
   },
   {
    "duration": 12,
    "start_time": "2022-03-01T20:31:52.349Z"
   },
   {
    "duration": 636,
    "start_time": "2022-03-01T20:31:52.364Z"
   },
   {
    "duration": 13,
    "start_time": "2022-03-01T20:31:53.003Z"
   },
   {
    "duration": 15,
    "start_time": "2022-03-01T20:31:53.033Z"
   },
   {
    "duration": 12,
    "start_time": "2022-03-01T20:31:55.806Z"
   },
   {
    "duration": 6051,
    "start_time": "2022-03-01T20:32:44.750Z"
   },
   {
    "duration": 18,
    "start_time": "2022-03-01T20:33:17.559Z"
   },
   {
    "duration": 15,
    "start_time": "2022-03-01T20:33:28.241Z"
   },
   {
    "duration": 6,
    "start_time": "2022-03-01T20:34:09.972Z"
   },
   {
    "duration": 15,
    "start_time": "2022-03-01T20:34:26.662Z"
   },
   {
    "duration": 6,
    "start_time": "2022-03-01T20:34:29.891Z"
   },
   {
    "duration": 16,
    "start_time": "2022-03-01T20:35:48.462Z"
   },
   {
    "duration": 15,
    "start_time": "2022-03-01T20:35:59.090Z"
   },
   {
    "duration": 21,
    "start_time": "2022-03-01T20:46:47.092Z"
   },
   {
    "duration": 15,
    "start_time": "2022-03-01T20:56:38.343Z"
   },
   {
    "duration": 75,
    "start_time": "2022-03-01T20:56:56.709Z"
   },
   {
    "duration": 14,
    "start_time": "2022-03-01T20:57:18.254Z"
   },
   {
    "duration": 5935,
    "start_time": "2022-03-01T21:01:25.962Z"
   },
   {
    "duration": 21,
    "start_time": "2022-03-01T21:01:47.252Z"
   },
   {
    "duration": 81,
    "start_time": "2022-03-01T21:02:11.082Z"
   },
   {
    "duration": 14,
    "start_time": "2022-03-01T21:02:23.642Z"
   },
   {
    "duration": 11,
    "start_time": "2022-03-01T21:02:49.365Z"
   },
   {
    "duration": 102,
    "start_time": "2022-03-01T21:04:54.371Z"
   },
   {
    "duration": 14,
    "start_time": "2022-03-01T21:05:05.622Z"
   },
   {
    "duration": 93,
    "start_time": "2022-03-01T21:05:29.762Z"
   },
   {
    "duration": 13,
    "start_time": "2022-03-01T21:06:20.932Z"
   },
   {
    "duration": 85,
    "start_time": "2022-03-01T21:07:15.781Z"
   },
   {
    "duration": 21,
    "start_time": "2022-03-01T21:07:26.113Z"
   },
   {
    "duration": 20,
    "start_time": "2022-03-01T21:08:24.953Z"
   },
   {
    "duration": 1503,
    "start_time": "2022-03-01T21:22:59.293Z"
   },
   {
    "duration": 35,
    "start_time": "2022-03-01T21:23:00.799Z"
   },
   {
    "duration": 18,
    "start_time": "2022-03-01T21:23:00.838Z"
   },
   {
    "duration": 23,
    "start_time": "2022-03-01T21:23:00.859Z"
   },
   {
    "duration": 99,
    "start_time": "2022-03-01T21:23:00.884Z"
   },
   {
    "duration": 13,
    "start_time": "2022-03-01T21:23:00.985Z"
   },
   {
    "duration": 35,
    "start_time": "2022-03-01T21:23:01.000Z"
   },
   {
    "duration": 451,
    "start_time": "2022-03-01T21:23:01.038Z"
   },
   {
    "duration": 23,
    "start_time": "2022-03-01T21:23:01.492Z"
   },
   {
    "duration": 477,
    "start_time": "2022-03-01T21:23:01.517Z"
   },
   {
    "duration": 538,
    "start_time": "2022-03-01T21:23:01.997Z"
   },
   {
    "duration": 512,
    "start_time": "2022-03-01T21:23:02.538Z"
   },
   {
    "duration": 439,
    "start_time": "2022-03-01T21:23:03.053Z"
   },
   {
    "duration": 530,
    "start_time": "2022-03-01T21:23:03.496Z"
   },
   {
    "duration": 465,
    "start_time": "2022-03-01T21:23:04.033Z"
   },
   {
    "duration": 7,
    "start_time": "2022-03-01T21:23:04.500Z"
   },
   {
    "duration": 589,
    "start_time": "2022-03-01T21:23:04.509Z"
   },
   {
    "duration": 8,
    "start_time": "2022-03-01T21:23:05.101Z"
   },
   {
    "duration": 623,
    "start_time": "2022-03-01T21:23:05.111Z"
   },
   {
    "duration": 9,
    "start_time": "2022-03-01T21:23:05.736Z"
   },
   {
    "duration": 10,
    "start_time": "2022-03-01T21:23:05.747Z"
   },
   {
    "duration": 640,
    "start_time": "2022-03-01T21:23:05.759Z"
   },
   {
    "duration": 12,
    "start_time": "2022-03-01T21:23:06.404Z"
   },
   {
    "duration": 14,
    "start_time": "2022-03-01T21:23:06.432Z"
   },
   {
    "duration": 14,
    "start_time": "2022-03-01T21:23:06.448Z"
   },
   {
    "duration": 20,
    "start_time": "2022-03-01T21:23:06.464Z"
   },
   {
    "duration": 58,
    "start_time": "2022-03-01T21:23:06.487Z"
   },
   {
    "duration": 1478,
    "start_time": "2022-03-03T04:48:09.600Z"
   },
   {
    "duration": 35,
    "start_time": "2022-03-03T04:48:11.080Z"
   },
   {
    "duration": 16,
    "start_time": "2022-03-03T04:48:11.117Z"
   },
   {
    "duration": 14,
    "start_time": "2022-03-03T04:48:11.136Z"
   },
   {
    "duration": 90,
    "start_time": "2022-03-03T04:48:11.152Z"
   },
   {
    "duration": 12,
    "start_time": "2022-03-03T04:48:11.245Z"
   },
   {
    "duration": 21,
    "start_time": "2022-03-03T04:48:11.259Z"
   },
   {
    "duration": 475,
    "start_time": "2022-03-03T04:48:11.283Z"
   },
   {
    "duration": 32,
    "start_time": "2022-03-03T04:48:11.761Z"
   },
   {
    "duration": 443,
    "start_time": "2022-03-03T04:48:11.797Z"
   },
   {
    "duration": 416,
    "start_time": "2022-03-03T04:48:12.242Z"
   },
   {
    "duration": 588,
    "start_time": "2022-03-03T04:48:12.660Z"
   },
   {
    "duration": 436,
    "start_time": "2022-03-03T04:48:13.251Z"
   },
   {
    "duration": 507,
    "start_time": "2022-03-03T04:48:13.690Z"
   },
   {
    "duration": 478,
    "start_time": "2022-03-03T04:48:14.199Z"
   },
   {
    "duration": 7,
    "start_time": "2022-03-03T04:48:14.679Z"
   },
   {
    "duration": 610,
    "start_time": "2022-03-03T04:48:14.688Z"
   },
   {
    "duration": 7,
    "start_time": "2022-03-03T04:48:15.300Z"
   },
   {
    "duration": 628,
    "start_time": "2022-03-03T04:48:15.309Z"
   },
   {
    "duration": 10,
    "start_time": "2022-03-03T04:48:15.940Z"
   },
   {
    "duration": 24,
    "start_time": "2022-03-03T04:48:15.952Z"
   },
   {
    "duration": 622,
    "start_time": "2022-03-03T04:48:15.978Z"
   },
   {
    "duration": 12,
    "start_time": "2022-03-03T04:48:16.602Z"
   },
   {
    "duration": 14,
    "start_time": "2022-03-03T04:48:16.617Z"
   },
   {
    "duration": 43,
    "start_time": "2022-03-03T04:48:16.634Z"
   },
   {
    "duration": 19,
    "start_time": "2022-03-03T04:48:16.679Z"
   },
   {
    "duration": 21,
    "start_time": "2022-03-03T04:48:16.702Z"
   },
   {
    "duration": 519,
    "start_time": "2022-03-03T04:48:40.372Z"
   },
   {
    "duration": 72,
    "start_time": "2022-03-03T04:52:17.273Z"
   },
   {
    "duration": 76,
    "start_time": "2022-03-03T05:03:02.888Z"
   },
   {
    "duration": 413,
    "start_time": "2022-03-03T05:04:46.731Z"
   },
   {
    "duration": 426,
    "start_time": "2022-03-03T05:07:26.207Z"
   },
   {
    "duration": 75,
    "start_time": "2022-03-03T05:19:29.756Z"
   },
   {
    "duration": 1480,
    "start_time": "2022-03-03T05:33:12.525Z"
   },
   {
    "duration": 25,
    "start_time": "2022-03-03T05:33:14.008Z"
   },
   {
    "duration": 19,
    "start_time": "2022-03-03T05:33:14.037Z"
   },
   {
    "duration": 27,
    "start_time": "2022-03-03T05:33:14.059Z"
   },
   {
    "duration": 85,
    "start_time": "2022-03-03T05:33:14.088Z"
   },
   {
    "duration": 13,
    "start_time": "2022-03-03T05:33:14.175Z"
   },
   {
    "duration": 41,
    "start_time": "2022-03-03T05:33:14.190Z"
   },
   {
    "duration": 455,
    "start_time": "2022-03-03T05:33:14.235Z"
   },
   {
    "duration": 23,
    "start_time": "2022-03-03T05:33:14.693Z"
   },
   {
    "duration": 446,
    "start_time": "2022-03-03T05:33:14.718Z"
   },
   {
    "duration": 445,
    "start_time": "2022-03-03T05:33:15.166Z"
   },
   {
    "duration": 516,
    "start_time": "2022-03-03T05:33:15.614Z"
   },
   {
    "duration": 467,
    "start_time": "2022-03-03T05:33:16.132Z"
   },
   {
    "duration": 509,
    "start_time": "2022-03-03T05:33:16.601Z"
   },
   {
    "duration": 490,
    "start_time": "2022-03-03T05:33:17.112Z"
   },
   {
    "duration": 9,
    "start_time": "2022-03-03T05:33:17.604Z"
   },
   {
    "duration": 597,
    "start_time": "2022-03-03T05:33:17.615Z"
   },
   {
    "duration": 8,
    "start_time": "2022-03-03T05:33:18.214Z"
   },
   {
    "duration": 640,
    "start_time": "2022-03-03T05:33:18.225Z"
   },
   {
    "duration": 9,
    "start_time": "2022-03-03T05:33:18.872Z"
   },
   {
    "duration": 13,
    "start_time": "2022-03-03T05:33:18.884Z"
   },
   {
    "duration": 646,
    "start_time": "2022-03-03T05:33:18.900Z"
   },
   {
    "duration": 23,
    "start_time": "2022-03-03T05:33:19.552Z"
   },
   {
    "duration": 15,
    "start_time": "2022-03-03T05:33:19.577Z"
   },
   {
    "duration": 14,
    "start_time": "2022-03-03T05:33:19.594Z"
   },
   {
    "duration": 19,
    "start_time": "2022-03-03T05:33:19.611Z"
   },
   {
    "duration": 23,
    "start_time": "2022-03-03T05:33:19.674Z"
   },
   {
    "duration": 1477,
    "start_time": "2022-03-03T09:40:44.276Z"
   },
   {
    "duration": 31,
    "start_time": "2022-03-03T09:40:45.756Z"
   },
   {
    "duration": 20,
    "start_time": "2022-03-03T09:40:45.790Z"
   },
   {
    "duration": 380,
    "start_time": "2022-03-03T09:40:49.328Z"
   },
   {
    "duration": 537,
    "start_time": "2022-03-03T09:41:10.412Z"
   },
   {
    "duration": 16,
    "start_time": "2022-03-03T09:41:22.612Z"
   },
   {
    "duration": 27,
    "start_time": "2022-03-03T09:47:21.795Z"
   },
   {
    "duration": 272,
    "start_time": "2022-03-03T10:36:28.481Z"
   },
   {
    "duration": 7,
    "start_time": "2022-03-03T10:36:33.624Z"
   },
   {
    "duration": 41,
    "start_time": "2022-03-03T10:36:33.633Z"
   },
   {
    "duration": 37,
    "start_time": "2022-03-03T10:36:33.677Z"
   },
   {
    "duration": 27,
    "start_time": "2022-03-03T10:36:33.717Z"
   },
   {
    "duration": 43,
    "start_time": "2022-03-03T10:36:33.747Z"
   },
   {
    "duration": 56,
    "start_time": "2022-03-03T10:36:33.792Z"
   },
   {
    "duration": 14,
    "start_time": "2022-03-03T10:36:33.852Z"
   },
   {
    "duration": 37,
    "start_time": "2022-03-03T10:36:33.869Z"
   },
   {
    "duration": 10,
    "start_time": "2022-03-03T10:36:42.648Z"
   },
   {
    "duration": 10,
    "start_time": "2022-03-03T10:38:02.448Z"
   },
   {
    "duration": 17,
    "start_time": "2022-03-03T10:39:23.519Z"
   },
   {
    "duration": 7,
    "start_time": "2022-03-03T10:39:28.853Z"
   },
   {
    "duration": 95,
    "start_time": "2022-03-03T10:40:31.352Z"
   },
   {
    "duration": 10,
    "start_time": "2022-03-03T10:40:33.864Z"
   },
   {
    "duration": 11,
    "start_time": "2022-03-03T10:40:56.144Z"
   },
   {
    "duration": 280,
    "start_time": "2022-03-03T10:42:34.200Z"
   },
   {
    "duration": 4,
    "start_time": "2022-03-03T10:42:40.530Z"
   },
   {
    "duration": 23,
    "start_time": "2022-03-03T10:42:40.537Z"
   },
   {
    "duration": 13,
    "start_time": "2022-03-03T10:42:40.563Z"
   },
   {
    "duration": 21,
    "start_time": "2022-03-03T10:42:40.579Z"
   },
   {
    "duration": 29,
    "start_time": "2022-03-03T10:42:40.602Z"
   },
   {
    "duration": 56,
    "start_time": "2022-03-03T10:42:40.635Z"
   },
   {
    "duration": 18,
    "start_time": "2022-03-03T10:42:40.694Z"
   },
   {
    "duration": 22,
    "start_time": "2022-03-03T10:42:40.716Z"
   },
   {
    "duration": 10,
    "start_time": "2022-03-03T10:42:40.741Z"
   },
   {
    "duration": 11,
    "start_time": "2022-03-03T10:42:40.787Z"
   },
   {
    "duration": 542,
    "start_time": "2022-03-03T10:42:40.801Z"
   },
   {
    "duration": 42,
    "start_time": "2022-03-03T10:42:41.345Z"
   },
   {
    "duration": 14,
    "start_time": "2022-03-03T10:42:45.217Z"
   },
   {
    "duration": 9,
    "start_time": "2022-03-03T10:43:01.648Z"
   },
   {
    "duration": 446,
    "start_time": "2022-03-03T10:54:49.669Z"
   },
   {
    "duration": 363,
    "start_time": "2022-03-03T11:09:54.575Z"
   },
   {
    "duration": 393,
    "start_time": "2022-03-03T11:10:11.969Z"
   },
   {
    "duration": 874,
    "start_time": "2022-03-03T11:10:27.257Z"
   },
   {
    "duration": 631,
    "start_time": "2022-03-03T11:10:46.723Z"
   },
   {
    "duration": 100,
    "start_time": "2022-03-03T11:11:29.235Z"
   },
   {
    "duration": 338,
    "start_time": "2022-03-03T11:11:32.376Z"
   },
   {
    "duration": 339,
    "start_time": "2022-03-03T11:12:41.185Z"
   },
   {
    "duration": 118,
    "start_time": "2022-03-03T11:20:01.755Z"
   },
   {
    "duration": 337,
    "start_time": "2022-03-03T11:20:05.819Z"
   },
   {
    "duration": 338,
    "start_time": "2022-03-03T11:20:54.534Z"
   },
   {
    "duration": 679,
    "start_time": "2022-03-03T11:23:29.477Z"
   },
   {
    "duration": 678,
    "start_time": "2022-03-03T11:23:39.868Z"
   },
   {
    "duration": 394,
    "start_time": "2022-03-03T11:23:58.021Z"
   },
   {
    "duration": 85,
    "start_time": "2022-03-03T11:48:02.044Z"
   },
   {
    "duration": 99,
    "start_time": "2022-03-03T11:48:06.516Z"
   },
   {
    "duration": 455,
    "start_time": "2022-03-03T11:48:19.932Z"
   },
   {
    "duration": 443,
    "start_time": "2022-03-03T11:48:50.823Z"
   },
   {
    "duration": 565,
    "start_time": "2022-03-03T11:49:02.461Z"
   },
   {
    "duration": 689,
    "start_time": "2022-03-03T11:49:09.566Z"
   },
   {
    "duration": 5,
    "start_time": "2022-03-03T12:23:12.671Z"
   },
   {
    "duration": 32,
    "start_time": "2022-03-03T12:23:12.678Z"
   },
   {
    "duration": 18,
    "start_time": "2022-03-03T12:23:12.714Z"
   },
   {
    "duration": 19,
    "start_time": "2022-03-03T12:23:12.735Z"
   },
   {
    "duration": 52,
    "start_time": "2022-03-03T12:23:12.757Z"
   },
   {
    "duration": 49,
    "start_time": "2022-03-03T12:23:12.811Z"
   },
   {
    "duration": 12,
    "start_time": "2022-03-03T12:23:12.863Z"
   },
   {
    "duration": 21,
    "start_time": "2022-03-03T12:23:12.887Z"
   },
   {
    "duration": 10,
    "start_time": "2022-03-03T12:23:12.910Z"
   },
   {
    "duration": 10,
    "start_time": "2022-03-03T12:23:12.923Z"
   },
   {
    "duration": 478,
    "start_time": "2022-03-03T12:23:12.935Z"
   },
   {
    "duration": 6649,
    "start_time": "2022-03-03T12:23:13.417Z"
   },
   {
    "duration": 188,
    "start_time": "2022-03-03T12:23:19.881Z"
   },
   {
    "duration": 186,
    "start_time": "2022-03-03T12:23:19.884Z"
   },
   {
    "duration": 183,
    "start_time": "2022-03-03T12:23:19.889Z"
   },
   {
    "duration": 182,
    "start_time": "2022-03-03T12:23:19.892Z"
   },
   {
    "duration": 180,
    "start_time": "2022-03-03T12:23:19.895Z"
   },
   {
    "duration": 179,
    "start_time": "2022-03-03T12:23:19.898Z"
   },
   {
    "duration": 174,
    "start_time": "2022-03-03T12:23:19.904Z"
   },
   {
    "duration": 173,
    "start_time": "2022-03-03T12:23:19.907Z"
   },
   {
    "duration": 171,
    "start_time": "2022-03-03T12:23:19.910Z"
   },
   {
    "duration": 170,
    "start_time": "2022-03-03T12:23:19.913Z"
   },
   {
    "duration": 168,
    "start_time": "2022-03-03T12:23:19.916Z"
   },
   {
    "duration": 167,
    "start_time": "2022-03-03T12:23:19.919Z"
   },
   {
    "duration": 165,
    "start_time": "2022-03-03T12:23:19.922Z"
   },
   {
    "duration": 164,
    "start_time": "2022-03-03T12:23:19.925Z"
   },
   {
    "duration": 8,
    "start_time": "2022-03-03T12:23:38.404Z"
   },
   {
    "duration": 286,
    "start_time": "2022-03-03T12:24:17.166Z"
   },
   {
    "duration": 8,
    "start_time": "2022-03-03T12:24:36.429Z"
   },
   {
    "duration": 7,
    "start_time": "2022-03-03T12:24:44.189Z"
   },
   {
    "duration": 7,
    "start_time": "2022-03-03T12:27:22.878Z"
   },
   {
    "duration": 82,
    "start_time": "2022-03-03T12:30:35.783Z"
   },
   {
    "duration": 255,
    "start_time": "2022-03-03T12:31:29.072Z"
   },
   {
    "duration": 5,
    "start_time": "2022-03-03T12:31:36.010Z"
   },
   {
    "duration": 28,
    "start_time": "2022-03-03T12:31:36.018Z"
   },
   {
    "duration": 17,
    "start_time": "2022-03-03T12:31:36.050Z"
   },
   {
    "duration": 32,
    "start_time": "2022-03-03T12:31:36.069Z"
   },
   {
    "duration": 27,
    "start_time": "2022-03-03T12:31:36.104Z"
   },
   {
    "duration": 67,
    "start_time": "2022-03-03T12:31:36.133Z"
   },
   {
    "duration": 17,
    "start_time": "2022-03-03T12:31:36.203Z"
   },
   {
    "duration": 23,
    "start_time": "2022-03-03T12:31:36.223Z"
   },
   {
    "duration": 12,
    "start_time": "2022-03-03T12:31:36.287Z"
   },
   {
    "duration": 12,
    "start_time": "2022-03-03T12:31:36.302Z"
   },
   {
    "duration": 498,
    "start_time": "2022-03-03T12:31:36.316Z"
   },
   {
    "duration": 6825,
    "start_time": "2022-03-03T12:31:36.817Z"
   },
   {
    "duration": 248,
    "start_time": "2022-03-03T12:31:43.396Z"
   },
   {
    "duration": 246,
    "start_time": "2022-03-03T12:31:43.399Z"
   },
   {
    "duration": 245,
    "start_time": "2022-03-03T12:31:43.402Z"
   },
   {
    "duration": 244,
    "start_time": "2022-03-03T12:31:43.404Z"
   },
   {
    "duration": 240,
    "start_time": "2022-03-03T12:31:43.409Z"
   },
   {
    "duration": 239,
    "start_time": "2022-03-03T12:31:43.412Z"
   },
   {
    "duration": 237,
    "start_time": "2022-03-03T12:31:43.415Z"
   },
   {
    "duration": 236,
    "start_time": "2022-03-03T12:31:43.418Z"
   },
   {
    "duration": 234,
    "start_time": "2022-03-03T12:31:43.421Z"
   },
   {
    "duration": 232,
    "start_time": "2022-03-03T12:31:43.425Z"
   },
   {
    "duration": 230,
    "start_time": "2022-03-03T12:31:43.428Z"
   },
   {
    "duration": 228,
    "start_time": "2022-03-03T12:31:43.431Z"
   },
   {
    "duration": 227,
    "start_time": "2022-03-03T12:31:43.434Z"
   },
   {
    "duration": 221,
    "start_time": "2022-03-03T12:31:43.441Z"
   },
   {
    "duration": 215,
    "start_time": "2022-03-03T12:31:43.449Z"
   },
   {
    "duration": 213,
    "start_time": "2022-03-03T12:31:43.452Z"
   },
   {
    "duration": 210,
    "start_time": "2022-03-03T12:31:43.457Z"
   },
   {
    "duration": 207,
    "start_time": "2022-03-03T12:31:43.461Z"
   },
   {
    "duration": 270,
    "start_time": "2022-03-03T12:32:26.783Z"
   },
   {
    "duration": 5,
    "start_time": "2022-03-03T12:32:37.694Z"
   },
   {
    "duration": 25,
    "start_time": "2022-03-03T12:32:37.701Z"
   },
   {
    "duration": 15,
    "start_time": "2022-03-03T12:32:37.728Z"
   },
   {
    "duration": 46,
    "start_time": "2022-03-03T12:32:37.745Z"
   },
   {
    "duration": 35,
    "start_time": "2022-03-03T12:32:37.793Z"
   },
   {
    "duration": 58,
    "start_time": "2022-03-03T12:32:37.830Z"
   },
   {
    "duration": 13,
    "start_time": "2022-03-03T12:32:37.892Z"
   },
   {
    "duration": 20,
    "start_time": "2022-03-03T12:32:37.908Z"
   },
   {
    "duration": 9,
    "start_time": "2022-03-03T12:32:37.931Z"
   },
   {
    "duration": 48,
    "start_time": "2022-03-03T12:32:37.943Z"
   },
   {
    "duration": 454,
    "start_time": "2022-03-03T12:32:37.995Z"
   },
   {
    "duration": 7146,
    "start_time": "2022-03-03T12:32:38.452Z"
   },
   {
    "duration": 248,
    "start_time": "2022-03-03T12:32:45.353Z"
   },
   {
    "duration": 243,
    "start_time": "2022-03-03T12:32:45.359Z"
   },
   {
    "duration": 241,
    "start_time": "2022-03-03T12:32:45.363Z"
   },
   {
    "duration": 239,
    "start_time": "2022-03-03T12:32:45.366Z"
   },
   {
    "duration": 233,
    "start_time": "2022-03-03T12:32:45.373Z"
   },
   {
    "duration": 231,
    "start_time": "2022-03-03T12:32:45.376Z"
   },
   {
    "duration": 230,
    "start_time": "2022-03-03T12:32:45.379Z"
   },
   {
    "duration": 228,
    "start_time": "2022-03-03T12:32:45.382Z"
   },
   {
    "duration": 226,
    "start_time": "2022-03-03T12:32:45.385Z"
   },
   {
    "duration": 224,
    "start_time": "2022-03-03T12:32:45.388Z"
   },
   {
    "duration": 222,
    "start_time": "2022-03-03T12:32:45.392Z"
   },
   {
    "duration": 219,
    "start_time": "2022-03-03T12:32:45.396Z"
   },
   {
    "duration": 215,
    "start_time": "2022-03-03T12:32:45.401Z"
   },
   {
    "duration": 208,
    "start_time": "2022-03-03T12:32:45.409Z"
   },
   {
    "duration": 205,
    "start_time": "2022-03-03T12:32:45.413Z"
   },
   {
    "duration": 204,
    "start_time": "2022-03-03T12:32:45.416Z"
   },
   {
    "duration": 201,
    "start_time": "2022-03-03T12:32:45.420Z"
   },
   {
    "duration": 308,
    "start_time": "2022-03-03T12:33:19.135Z"
   },
   {
    "duration": 538,
    "start_time": "2022-03-03T12:33:41.420Z"
   },
   {
    "duration": 8,
    "start_time": "2022-03-03T12:33:46.015Z"
   },
   {
    "duration": 573,
    "start_time": "2022-03-03T12:33:48.814Z"
   },
   {
    "duration": 307,
    "start_time": "2022-03-03T12:33:58.218Z"
   },
   {
    "duration": 7,
    "start_time": "2022-03-03T12:34:26.910Z"
   },
   {
    "duration": 254,
    "start_time": "2022-03-03T12:34:35.966Z"
   },
   {
    "duration": 7,
    "start_time": "2022-03-03T12:34:56.999Z"
   },
   {
    "duration": 8,
    "start_time": "2022-03-03T12:35:09.688Z"
   },
   {
    "duration": 7,
    "start_time": "2022-03-03T12:35:19.680Z"
   },
   {
    "duration": 17,
    "start_time": "2022-03-03T12:35:44.340Z"
   },
   {
    "duration": 1927,
    "start_time": "2022-03-03T12:51:17.170Z"
   },
   {
    "duration": 32,
    "start_time": "2022-03-03T12:51:19.101Z"
   },
   {
    "duration": 22,
    "start_time": "2022-03-03T12:51:19.136Z"
   },
   {
    "duration": 41,
    "start_time": "2022-03-03T12:51:19.161Z"
   },
   {
    "duration": 647,
    "start_time": "2022-03-03T12:51:19.205Z"
   },
   {
    "duration": 59,
    "start_time": "2022-03-03T12:51:19.856Z"
   },
   {
    "duration": 17,
    "start_time": "2022-03-03T12:51:19.918Z"
   },
   {
    "duration": 46,
    "start_time": "2022-03-03T12:51:19.940Z"
   },
   {
    "duration": 11,
    "start_time": "2022-03-03T12:51:19.990Z"
   },
   {
    "duration": 10,
    "start_time": "2022-03-03T12:51:20.003Z"
   },
   {
    "duration": 559,
    "start_time": "2022-03-03T12:51:20.015Z"
   },
   {
    "duration": 6623,
    "start_time": "2022-03-03T12:51:20.577Z"
   },
   {
    "duration": 241,
    "start_time": "2022-03-03T12:51:26.963Z"
   },
   {
    "duration": 238,
    "start_time": "2022-03-03T12:51:26.967Z"
   },
   {
    "duration": 237,
    "start_time": "2022-03-03T12:51:26.970Z"
   },
   {
    "duration": 235,
    "start_time": "2022-03-03T12:51:26.974Z"
   },
   {
    "duration": 234,
    "start_time": "2022-03-03T12:51:26.977Z"
   },
   {
    "duration": 232,
    "start_time": "2022-03-03T12:51:26.980Z"
   },
   {
    "duration": 231,
    "start_time": "2022-03-03T12:51:26.983Z"
   },
   {
    "duration": 229,
    "start_time": "2022-03-03T12:51:26.987Z"
   },
   {
    "duration": 227,
    "start_time": "2022-03-03T12:51:26.990Z"
   },
   {
    "duration": 221,
    "start_time": "2022-03-03T12:51:26.998Z"
   },
   {
    "duration": 219,
    "start_time": "2022-03-03T12:51:27.002Z"
   },
   {
    "duration": 218,
    "start_time": "2022-03-03T12:51:27.005Z"
   },
   {
    "duration": 217,
    "start_time": "2022-03-03T12:51:27.008Z"
   },
   {
    "duration": 203,
    "start_time": "2022-03-03T12:51:27.024Z"
   },
   {
    "duration": 201,
    "start_time": "2022-03-03T12:51:27.027Z"
   },
   {
    "duration": 201,
    "start_time": "2022-03-03T12:51:27.029Z"
   },
   {
    "duration": 194,
    "start_time": "2022-03-03T12:51:27.038Z"
   },
   {
    "duration": 192,
    "start_time": "2022-03-03T12:51:27.041Z"
   },
   {
    "duration": 192,
    "start_time": "2022-03-03T12:51:27.043Z"
   },
   {
    "duration": 190,
    "start_time": "2022-03-03T12:51:27.046Z"
   },
   {
    "duration": 442,
    "start_time": "2022-03-03T12:54:01.884Z"
   },
   {
    "duration": 1456,
    "start_time": "2022-03-03T12:54:28.933Z"
   },
   {
    "duration": 26,
    "start_time": "2022-03-03T12:54:30.391Z"
   },
   {
    "duration": 31,
    "start_time": "2022-03-03T12:54:30.420Z"
   },
   {
    "duration": 19,
    "start_time": "2022-03-03T12:54:30.453Z"
   },
   {
    "duration": 561,
    "start_time": "2022-03-03T12:54:30.474Z"
   },
   {
    "duration": 54,
    "start_time": "2022-03-03T12:54:31.038Z"
   },
   {
    "duration": 25,
    "start_time": "2022-03-03T12:54:31.094Z"
   },
   {
    "duration": 38,
    "start_time": "2022-03-03T12:54:31.122Z"
   },
   {
    "duration": 26,
    "start_time": "2022-03-03T12:54:31.166Z"
   },
   {
    "duration": 40,
    "start_time": "2022-03-03T12:54:31.197Z"
   },
   {
    "duration": 456,
    "start_time": "2022-03-03T12:54:31.240Z"
   },
   {
    "duration": 31,
    "start_time": "2022-03-03T12:54:31.699Z"
   },
   {
    "duration": 711,
    "start_time": "2022-03-03T12:54:31.733Z"
   },
   {
    "duration": 611,
    "start_time": "2022-03-03T12:54:32.447Z"
   },
   {
    "duration": 432,
    "start_time": "2022-03-03T12:54:33.061Z"
   },
   {
    "duration": 601,
    "start_time": "2022-03-03T12:54:33.496Z"
   },
   {
    "duration": 527,
    "start_time": "2022-03-03T12:54:34.099Z"
   },
   {
    "duration": 499,
    "start_time": "2022-03-03T12:54:34.628Z"
   },
   {
    "duration": 486,
    "start_time": "2022-03-03T12:54:35.130Z"
   },
   {
    "duration": 7,
    "start_time": "2022-03-03T12:54:35.619Z"
   },
   {
    "duration": 576,
    "start_time": "2022-03-03T12:54:35.628Z"
   },
   {
    "duration": 8,
    "start_time": "2022-03-03T12:54:36.207Z"
   },
   {
    "duration": 653,
    "start_time": "2022-03-03T12:54:36.218Z"
   },
   {
    "duration": 18,
    "start_time": "2022-03-03T12:54:36.873Z"
   },
   {
    "duration": 16,
    "start_time": "2022-03-03T12:54:36.893Z"
   },
   {
    "duration": 666,
    "start_time": "2022-03-03T12:54:36.911Z"
   },
   {
    "duration": 14,
    "start_time": "2022-03-03T12:54:37.587Z"
   },
   {
    "duration": 25,
    "start_time": "2022-03-03T12:54:37.604Z"
   },
   {
    "duration": 17,
    "start_time": "2022-03-03T12:54:37.632Z"
   },
   {
    "duration": 43,
    "start_time": "2022-03-03T12:54:37.652Z"
   },
   {
    "duration": 18,
    "start_time": "2022-03-03T12:54:37.698Z"
   },
   {
    "duration": 23,
    "start_time": "2022-03-03T12:54:37.718Z"
   },
   {
    "duration": 78,
    "start_time": "2022-03-04T15:27:30.502Z"
   }
  ],
  "kernelspec": {
   "display_name": "Python 3 (ipykernel)",
   "language": "python",
   "name": "python3"
  },
  "language_info": {
   "codemirror_mode": {
    "name": "ipython",
    "version": 3
   },
   "file_extension": ".py",
   "mimetype": "text/x-python",
   "name": "python",
   "nbconvert_exporter": "python",
   "pygments_lexer": "ipython3",
   "version": "3.9.7"
  },
  "toc": {
   "base_numbering": 1,
   "nav_menu": {},
   "number_sections": true,
   "sideBar": true,
   "skip_h1_title": true,
   "title_cell": "Table of Contents",
   "title_sidebar": "Contents",
   "toc_cell": false,
   "toc_position": {
    "height": "calc(100% - 180px)",
    "left": "10px",
    "top": "150px",
    "width": "289.6px"
   },
   "toc_section_display": true,
   "toc_window_display": false
  }
 },
 "nbformat": 4,
 "nbformat_minor": 2
}
