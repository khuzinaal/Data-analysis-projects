{
 "cells": [
  {
   "cell_type": "markdown",
   "metadata": {},
   "source": [
    "# Рынок заведений общественного питания Москвы\n",
    "\n",
    "Этот проект посвящен анализу открытых данных о заведениях общественного питания в Москве. Анализ будет использоваться для представления инвесторам информации о рынке общественного питания для открытия собственного кафе."
   ]
  },
  {
   "cell_type": "markdown",
   "metadata": {},
   "source": [
    "## Обзор данных\n",
    "\n",
    "В этом разделе мы загрузим необходимые для работы библиотеки и базу данных, проведем обзор имеющихся данных, идентифицируем проблемы с данными, которые устраним дальше на этапе предобработки данных. "
   ]
  },
  {
   "cell_type": "markdown",
   "metadata": {},
   "source": [
    "Загрузка библиотек"
   ]
  },
  {
   "cell_type": "code",
   "execution_count": 1,
   "metadata": {},
   "outputs": [],
   "source": [
    "import pandas as pd\n",
    "import matplotlib.pyplot as plt\n",
    "import seaborn as sns\n",
    "from plotly import graph_objects as go\n",
    "from io import BytesIO\n",
    "import requests"
   ]
  },
  {
   "cell_type": "markdown",
   "metadata": {},
   "source": [
    "Загрузка базы данных и просмотр первых 10 строчек"
   ]
  },
  {
   "cell_type": "code",
   "execution_count": 2,
   "metadata": {},
   "outputs": [
    {
     "data": {
      "text/html": [
       "<div>\n",
       "<style scoped>\n",
       "    .dataframe tbody tr th:only-of-type {\n",
       "        vertical-align: middle;\n",
       "    }\n",
       "\n",
       "    .dataframe tbody tr th {\n",
       "        vertical-align: top;\n",
       "    }\n",
       "\n",
       "    .dataframe thead th {\n",
       "        text-align: right;\n",
       "    }\n",
       "</style>\n",
       "<table border=\"1\" class=\"dataframe\">\n",
       "  <thead>\n",
       "    <tr style=\"text-align: right;\">\n",
       "      <th></th>\n",
       "      <th>id</th>\n",
       "      <th>object_name</th>\n",
       "      <th>chain</th>\n",
       "      <th>object_type</th>\n",
       "      <th>address</th>\n",
       "      <th>number</th>\n",
       "    </tr>\n",
       "  </thead>\n",
       "  <tbody>\n",
       "    <tr>\n",
       "      <td>0</td>\n",
       "      <td>151635</td>\n",
       "      <td>СМЕТАНА</td>\n",
       "      <td>нет</td>\n",
       "      <td>кафе</td>\n",
       "      <td>город Москва, улица Егора Абакумова, дом 9</td>\n",
       "      <td>48</td>\n",
       "    </tr>\n",
       "    <tr>\n",
       "      <td>1</td>\n",
       "      <td>77874</td>\n",
       "      <td>Родник</td>\n",
       "      <td>нет</td>\n",
       "      <td>кафе</td>\n",
       "      <td>город Москва, улица Талалихина, дом 2/1, корпус 1</td>\n",
       "      <td>35</td>\n",
       "    </tr>\n",
       "    <tr>\n",
       "      <td>2</td>\n",
       "      <td>24309</td>\n",
       "      <td>Кафе «Академия»</td>\n",
       "      <td>нет</td>\n",
       "      <td>кафе</td>\n",
       "      <td>город Москва, Абельмановская улица, дом 6</td>\n",
       "      <td>95</td>\n",
       "    </tr>\n",
       "    <tr>\n",
       "      <td>3</td>\n",
       "      <td>21894</td>\n",
       "      <td>ПИЦЦЕТОРИЯ</td>\n",
       "      <td>да</td>\n",
       "      <td>кафе</td>\n",
       "      <td>город Москва, Абрамцевская улица, дом 1</td>\n",
       "      <td>40</td>\n",
       "    </tr>\n",
       "    <tr>\n",
       "      <td>4</td>\n",
       "      <td>119365</td>\n",
       "      <td>Кафе «Вишневая метель»</td>\n",
       "      <td>нет</td>\n",
       "      <td>кафе</td>\n",
       "      <td>город Москва, Абрамцевская улица, дом 9, корпус 1</td>\n",
       "      <td>50</td>\n",
       "    </tr>\n",
       "    <tr>\n",
       "      <td>5</td>\n",
       "      <td>27429</td>\n",
       "      <td>СТОЛ. ПРИ ГОУ СОШ № 1051</td>\n",
       "      <td>нет</td>\n",
       "      <td>столовая</td>\n",
       "      <td>город Москва, Абрамцевская улица, дом 15, корп...</td>\n",
       "      <td>240</td>\n",
       "    </tr>\n",
       "    <tr>\n",
       "      <td>6</td>\n",
       "      <td>148815</td>\n",
       "      <td>Брусника</td>\n",
       "      <td>да</td>\n",
       "      <td>кафе</td>\n",
       "      <td>город Москва, переулок Сивцев Вражек, дом 6/2</td>\n",
       "      <td>10</td>\n",
       "    </tr>\n",
       "    <tr>\n",
       "      <td>7</td>\n",
       "      <td>20957</td>\n",
       "      <td>Буфет МТУСИ</td>\n",
       "      <td>нет</td>\n",
       "      <td>столовая</td>\n",
       "      <td>город Москва, Авиамоторная улица, дом 8, строе...</td>\n",
       "      <td>90</td>\n",
       "    </tr>\n",
       "    <tr>\n",
       "      <td>8</td>\n",
       "      <td>20958</td>\n",
       "      <td>КПФ СЕМЬЯ-1</td>\n",
       "      <td>нет</td>\n",
       "      <td>столовая</td>\n",
       "      <td>город Москва, Авиамоторная улица, дом 8, строе...</td>\n",
       "      <td>150</td>\n",
       "    </tr>\n",
       "    <tr>\n",
       "      <td>9</td>\n",
       "      <td>28858</td>\n",
       "      <td>Столовая МТУСИ</td>\n",
       "      <td>нет</td>\n",
       "      <td>столовая</td>\n",
       "      <td>город Москва, Авиамоторная улица, дом 8, строе...</td>\n",
       "      <td>120</td>\n",
       "    </tr>\n",
       "  </tbody>\n",
       "</table>\n",
       "</div>"
      ],
      "text/plain": [
       "       id               object_name chain object_type  \\\n",
       "0  151635                   СМЕТАНА   нет        кафе   \n",
       "1   77874                    Родник   нет        кафе   \n",
       "2   24309           Кафе «Академия»   нет        кафе   \n",
       "3   21894                ПИЦЦЕТОРИЯ    да        кафе   \n",
       "4  119365    Кафе «Вишневая метель»   нет        кафе   \n",
       "5   27429  СТОЛ. ПРИ ГОУ СОШ № 1051   нет    столовая   \n",
       "6  148815                  Брусника    да        кафе   \n",
       "7   20957               Буфет МТУСИ   нет    столовая   \n",
       "8   20958               КПФ СЕМЬЯ-1   нет    столовая   \n",
       "9   28858            Столовая МТУСИ   нет    столовая   \n",
       "\n",
       "                                             address  number  \n",
       "0         город Москва, улица Егора Абакумова, дом 9      48  \n",
       "1  город Москва, улица Талалихина, дом 2/1, корпус 1      35  \n",
       "2          город Москва, Абельмановская улица, дом 6      95  \n",
       "3            город Москва, Абрамцевская улица, дом 1      40  \n",
       "4  город Москва, Абрамцевская улица, дом 9, корпус 1      50  \n",
       "5  город Москва, Абрамцевская улица, дом 15, корп...     240  \n",
       "6      город Москва, переулок Сивцев Вражек, дом 6/2      10  \n",
       "7  город Москва, Авиамоторная улица, дом 8, строе...      90  \n",
       "8  город Москва, Авиамоторная улица, дом 8, строе...     150  \n",
       "9  город Москва, Авиамоторная улица, дом 8, строе...     120  "
      ]
     },
     "execution_count": 2,
     "metadata": {},
     "output_type": "execute_result"
    }
   ],
   "source": [
    "df = pd.read_csv('/datasets/rest_data.csv')\n",
    "df.head(10)"
   ]
  },
  {
   "cell_type": "markdown",
   "metadata": {},
   "source": [
    "Просмотр общей информации о датафрейме"
   ]
  },
  {
   "cell_type": "code",
   "execution_count": 3,
   "metadata": {},
   "outputs": [
    {
     "name": "stdout",
     "output_type": "stream",
     "text": [
      "<class 'pandas.core.frame.DataFrame'>\n",
      "RangeIndex: 15366 entries, 0 to 15365\n",
      "Data columns (total 6 columns):\n",
      "id             15366 non-null int64\n",
      "object_name    15366 non-null object\n",
      "chain          15366 non-null object\n",
      "object_type    15366 non-null object\n",
      "address        15366 non-null object\n",
      "number         15366 non-null int64\n",
      "dtypes: int64(2), object(4)\n",
      "memory usage: 720.4+ KB\n"
     ]
    }
   ],
   "source": [
    "df.info()"
   ]
  },
  {
   "cell_type": "markdown",
   "metadata": {},
   "source": [
    "Согласно документации, датафрейм содержит следующие переменные:\n",
    "* `id` — идентификатор объекта;\n",
    "* `object_name` — название объекта общественного питания;\n",
    "* `chain` — сетевой ресторан;\n",
    "* `object_type` — тип объекта общественного питания;\n",
    "* `address` — адрес;\n",
    "* `number` — количество посадочных мест\n",
    "\n",
    "\n",
    "В датафрейме есть несколько проблем:\n",
    "* Переменная `id` имеет тип `int64`, однако идентификаторы - это категориальные переменные, с которыми мы не будем проводить математических операций, так что лучше сделать их категориальными\n",
    "* Названия кафе и улиц написаны разными регистрами. Для того, чтобы не пропустить дубликаты, стоит привести переменные `object_name` и `address` к нижнему регистру\n",
    "* В переменной `address` повторяется подстрочка \"Город Москва, \". Имеет смысл удалить эту часть и оставить только улицы, так как и без указания города мы знаем, что рассматриваем рынок общественного питания в Москве\n",
    "* Стоит проверить сетевые заведения на наличие заведений, имеющих только одну точку (то есть по сути не являющихся сетевыми)"
   ]
  },
  {
   "cell_type": "markdown",
   "metadata": {},
   "source": [
    "### Вывод по разделу\n",
    "\n",
    "В этом разделе мы загрузили библиотеки и датафрейм для работы, провели обзор данных и пришли к выводу, что нужно сделать переменную `id` категориальной, переменные `object_name` и `address` привести к нижнему регистру, в переменной `address` удалить подстрочку \"Город Москва, \"\n",
    "\n",
    "Также стоит проверить датафрейм на наличие дубликатов, а также проверить, есть ли сетевые заведения, имеющие 1 точку в своей сети"
   ]
  },
  {
   "cell_type": "markdown",
   "metadata": {},
   "source": [
    "## Предобработка данных\n",
    "\n",
    "### Изменение типа данных\n",
    "\n",
    "Делаем переменную `id` категориальной, затем просматриваем общую информацию о датафрейме"
   ]
  },
  {
   "cell_type": "code",
   "execution_count": 4,
   "metadata": {},
   "outputs": [
    {
     "name": "stdout",
     "output_type": "stream",
     "text": [
      "<class 'pandas.core.frame.DataFrame'>\n",
      "RangeIndex: 15366 entries, 0 to 15365\n",
      "Data columns (total 6 columns):\n",
      "id             15366 non-null object\n",
      "object_name    15366 non-null object\n",
      "chain          15366 non-null object\n",
      "object_type    15366 non-null object\n",
      "address        15366 non-null object\n",
      "number         15366 non-null int64\n",
      "dtypes: int64(1), object(5)\n",
      "memory usage: 720.4+ KB\n"
     ]
    }
   ],
   "source": [
    "df['id'] = df['id'].astype('object')\n",
    "df.info()"
   ]
  },
  {
   "cell_type": "markdown",
   "metadata": {},
   "source": [
    "### Приведение текстовых переменных к нижнему регистру"
   ]
  },
  {
   "cell_type": "markdown",
   "metadata": {},
   "source": [
    "Приводим текст в переменных `object_name` и `address` к нижнему регистру"
   ]
  },
  {
   "cell_type": "code",
   "execution_count": 5,
   "metadata": {},
   "outputs": [
    {
     "data": {
      "text/html": [
       "<div>\n",
       "<style scoped>\n",
       "    .dataframe tbody tr th:only-of-type {\n",
       "        vertical-align: middle;\n",
       "    }\n",
       "\n",
       "    .dataframe tbody tr th {\n",
       "        vertical-align: top;\n",
       "    }\n",
       "\n",
       "    .dataframe thead th {\n",
       "        text-align: right;\n",
       "    }\n",
       "</style>\n",
       "<table border=\"1\" class=\"dataframe\">\n",
       "  <thead>\n",
       "    <tr style=\"text-align: right;\">\n",
       "      <th></th>\n",
       "      <th>object_name</th>\n",
       "      <th>address</th>\n",
       "    </tr>\n",
       "  </thead>\n",
       "  <tbody>\n",
       "    <tr>\n",
       "      <td>0</td>\n",
       "      <td>сметана</td>\n",
       "      <td>город москва, улица егора абакумова, дом 9</td>\n",
       "    </tr>\n",
       "    <tr>\n",
       "      <td>1</td>\n",
       "      <td>родник</td>\n",
       "      <td>город москва, улица талалихина, дом 2/1, корпус 1</td>\n",
       "    </tr>\n",
       "    <tr>\n",
       "      <td>2</td>\n",
       "      <td>кафе «академия»</td>\n",
       "      <td>город москва, абельмановская улица, дом 6</td>\n",
       "    </tr>\n",
       "    <tr>\n",
       "      <td>3</td>\n",
       "      <td>пиццетория</td>\n",
       "      <td>город москва, абрамцевская улица, дом 1</td>\n",
       "    </tr>\n",
       "    <tr>\n",
       "      <td>4</td>\n",
       "      <td>кафе «вишневая метель»</td>\n",
       "      <td>город москва, абрамцевская улица, дом 9, корпус 1</td>\n",
       "    </tr>\n",
       "    <tr>\n",
       "      <td>5</td>\n",
       "      <td>стол. при гоу сош № 1051</td>\n",
       "      <td>город москва, абрамцевская улица, дом 15, корп...</td>\n",
       "    </tr>\n",
       "    <tr>\n",
       "      <td>6</td>\n",
       "      <td>брусника</td>\n",
       "      <td>город москва, переулок сивцев вражек, дом 6/2</td>\n",
       "    </tr>\n",
       "    <tr>\n",
       "      <td>7</td>\n",
       "      <td>буфет мтуси</td>\n",
       "      <td>город москва, авиамоторная улица, дом 8, строе...</td>\n",
       "    </tr>\n",
       "    <tr>\n",
       "      <td>8</td>\n",
       "      <td>кпф семья-1</td>\n",
       "      <td>город москва, авиамоторная улица, дом 8, строе...</td>\n",
       "    </tr>\n",
       "    <tr>\n",
       "      <td>9</td>\n",
       "      <td>столовая мтуси</td>\n",
       "      <td>город москва, авиамоторная улица, дом 8, строе...</td>\n",
       "    </tr>\n",
       "  </tbody>\n",
       "</table>\n",
       "</div>"
      ],
      "text/plain": [
       "                object_name                                            address\n",
       "0                   сметана         город москва, улица егора абакумова, дом 9\n",
       "1                    родник  город москва, улица талалихина, дом 2/1, корпус 1\n",
       "2           кафе «академия»          город москва, абельмановская улица, дом 6\n",
       "3                пиццетория            город москва, абрамцевская улица, дом 1\n",
       "4    кафе «вишневая метель»  город москва, абрамцевская улица, дом 9, корпус 1\n",
       "5  стол. при гоу сош № 1051  город москва, абрамцевская улица, дом 15, корп...\n",
       "6                  брусника      город москва, переулок сивцев вражек, дом 6/2\n",
       "7               буфет мтуси  город москва, авиамоторная улица, дом 8, строе...\n",
       "8               кпф семья-1  город москва, авиамоторная улица, дом 8, строе...\n",
       "9            столовая мтуси  город москва, авиамоторная улица, дом 8, строе..."
      ]
     },
     "execution_count": 5,
     "metadata": {},
     "output_type": "execute_result"
    }
   ],
   "source": [
    "columns_to_change = ['object_name', 'address']\n",
    "for column in columns_to_change:\n",
    "    df[column] = df[column].str.lower()\n",
    "df[['object_name', 'address']].head(10)"
   ]
  },
  {
   "cell_type": "markdown",
   "metadata": {},
   "source": [
    "### Обработка дубликатов"
   ]
  },
  {
   "cell_type": "markdown",
   "metadata": {},
   "source": [
    "Выводим число дубликатов. Их оказывается 0"
   ]
  },
  {
   "cell_type": "code",
   "execution_count": 6,
   "metadata": {},
   "outputs": [
    {
     "name": "stdout",
     "output_type": "stream",
     "text": [
      "Число дубликатов: 0\n"
     ]
    }
   ],
   "source": [
    "print('Число дубликатов:', df.duplicated().sum())"
   ]
  },
  {
   "cell_type": "markdown",
   "metadata": {},
   "source": [
    "Также проверим, есть ли дубликаты при выборе всех колонок за исключением колонки `id`. Дубликатов оказывается 150. Получается, что объектам, совпадающим полностью, в базе были приписаны разные id, так что с помощью идентификационных номеров они переставали быть дубликатами."
   ]
  },
  {
   "cell_type": "code",
   "execution_count": 7,
   "metadata": {},
   "outputs": [
    {
     "name": "stdout",
     "output_type": "stream",
     "text": [
      "Число дубликатов (без колонки id): 150\n"
     ]
    }
   ],
   "source": [
    "print('Число дубликатов (без колонки id):', df.duplicated(subset=['object_name', 'address', 'chain', 'object_type', 'number'], keep=False).sum())"
   ]
  },
  {
   "cell_type": "markdown",
   "metadata": {},
   "source": [
    "Удаляем найденные дубликаты, выводим число дубликатов после удаления. Их оказывается 0."
   ]
  },
  {
   "cell_type": "code",
   "execution_count": 8,
   "metadata": {},
   "outputs": [
    {
     "name": "stdout",
     "output_type": "stream",
     "text": [
      "Число дубликатов после удаления: 0\n"
     ]
    }
   ],
   "source": [
    "df = df.drop_duplicates(subset=['object_name', 'address', 'chain', 'object_type', 'number']).reset_index(drop=True)\n",
    "print('Число дубликатов после удаления:', df.duplicated(subset=['object_name', 'address', 'chain', 'object_type', 'number'], keep=False).sum())"
   ]
  },
  {
   "cell_type": "markdown",
   "metadata": {},
   "source": [
    "### Проверка сетевых заведений"
   ]
  },
  {
   "cell_type": "markdown",
   "metadata": {},
   "source": [
    "Также стоит проверить сетевые заведения на предмет того, являются ли они сетевыми на самом деле. Для этого выберем сетевые заведения, подсчитаем число заведений в них и выведем те заведения, которые являются сетевыми, но при этом имеют одно заведение. Таких мест оказывается 331"
   ]
  },
  {
   "cell_type": "code",
   "execution_count": 9,
   "metadata": {},
   "outputs": [
    {
     "data": {
      "text/html": [
       "<div>\n",
       "<style scoped>\n",
       "    .dataframe tbody tr th:only-of-type {\n",
       "        vertical-align: middle;\n",
       "    }\n",
       "\n",
       "    .dataframe tbody tr th {\n",
       "        vertical-align: top;\n",
       "    }\n",
       "\n",
       "    .dataframe thead th {\n",
       "        text-align: right;\n",
       "    }\n",
       "</style>\n",
       "<table border=\"1\" class=\"dataframe\">\n",
       "  <thead>\n",
       "    <tr style=\"text-align: right;\">\n",
       "      <th></th>\n",
       "      <th>object_name</th>\n",
       "      <th>id</th>\n",
       "    </tr>\n",
       "  </thead>\n",
       "  <tbody>\n",
       "    <tr>\n",
       "      <td>0</td>\n",
       "      <td>beverly hills diner</td>\n",
       "      <td>1</td>\n",
       "    </tr>\n",
       "    <tr>\n",
       "      <td>1</td>\n",
       "      <td>bierloga</td>\n",
       "      <td>1</td>\n",
       "    </tr>\n",
       "    <tr>\n",
       "      <td>2</td>\n",
       "      <td>black &amp; white</td>\n",
       "      <td>1</td>\n",
       "    </tr>\n",
       "    <tr>\n",
       "      <td>3</td>\n",
       "      <td>boobo</td>\n",
       "      <td>1</td>\n",
       "    </tr>\n",
       "    <tr>\n",
       "      <td>4</td>\n",
       "      <td>bubbleology</td>\n",
       "      <td>1</td>\n",
       "    </tr>\n",
       "    <tr>\n",
       "      <td>...</td>\n",
       "      <td>...</td>\n",
       "      <td>...</td>\n",
       "    </tr>\n",
       "    <tr>\n",
       "      <td>326</td>\n",
       "      <td>якитория и спорт бар</td>\n",
       "      <td>1</td>\n",
       "    </tr>\n",
       "    <tr>\n",
       "      <td>327</td>\n",
       "      <td>якитория и ян примус</td>\n",
       "      <td>1</td>\n",
       "    </tr>\n",
       "    <tr>\n",
       "      <td>328</td>\n",
       "      <td>ямми микс</td>\n",
       "      <td>1</td>\n",
       "    </tr>\n",
       "    <tr>\n",
       "      <td>329</td>\n",
       "      <td>ян примус</td>\n",
       "      <td>1</td>\n",
       "    </tr>\n",
       "    <tr>\n",
       "      <td>330</td>\n",
       "      <td>японский ресторан «ваби-саби»</td>\n",
       "      <td>1</td>\n",
       "    </tr>\n",
       "  </tbody>\n",
       "</table>\n",
       "<p>331 rows × 2 columns</p>\n",
       "</div>"
      ],
      "text/plain": [
       "                       object_name  id\n",
       "0              beverly hills diner   1\n",
       "1                         bierloga   1\n",
       "2                    black & white   1\n",
       "3                            boobo   1\n",
       "4                      bubbleology   1\n",
       "..                             ...  ..\n",
       "326           якитория и спорт бар   1\n",
       "327           якитория и ян примус   1\n",
       "328                      ямми микс   1\n",
       "329                      ян примус   1\n",
       "330  японский ресторан «ваби-саби»   1\n",
       "\n",
       "[331 rows x 2 columns]"
      ]
     },
     "execution_count": 9,
     "metadata": {},
     "output_type": "execute_result"
    }
   ],
   "source": [
    "chains_with_one_place = df.query('chain == \"да\"').groupby('object_name').agg({'id': 'count'}).query('id == 1').reset_index()\n",
    "chains_with_one_place"
   ]
  },
  {
   "cell_type": "markdown",
   "metadata": {},
   "source": [
    "В исходном датафрейме находим заведения, которые являются сетевыми и имеют одно заведение, и делаем их несетевыми. На всякий случай проверяем, является ли заведение \"Beverly Hills diner\" (первое в предыдущем выведенном датафрейме) сетевым после замены."
   ]
  },
  {
   "cell_type": "code",
   "execution_count": 10,
   "metadata": {},
   "outputs": [
    {
     "data": {
      "text/html": [
       "<div>\n",
       "<style scoped>\n",
       "    .dataframe tbody tr th:only-of-type {\n",
       "        vertical-align: middle;\n",
       "    }\n",
       "\n",
       "    .dataframe tbody tr th {\n",
       "        vertical-align: top;\n",
       "    }\n",
       "\n",
       "    .dataframe thead th {\n",
       "        text-align: right;\n",
       "    }\n",
       "</style>\n",
       "<table border=\"1\" class=\"dataframe\">\n",
       "  <thead>\n",
       "    <tr style=\"text-align: right;\">\n",
       "      <th></th>\n",
       "      <th>id</th>\n",
       "      <th>object_name</th>\n",
       "      <th>chain</th>\n",
       "      <th>object_type</th>\n",
       "      <th>address</th>\n",
       "      <th>number</th>\n",
       "    </tr>\n",
       "  </thead>\n",
       "  <tbody>\n",
       "    <tr>\n",
       "      <td>13319</td>\n",
       "      <td>193929</td>\n",
       "      <td>beverly hills diner</td>\n",
       "      <td>нет</td>\n",
       "      <td>ресторан</td>\n",
       "      <td>город москва, никольская улица, дом 10</td>\n",
       "      <td>88</td>\n",
       "    </tr>\n",
       "  </tbody>\n",
       "</table>\n",
       "</div>"
      ],
      "text/plain": [
       "           id          object_name chain object_type  \\\n",
       "13319  193929  beverly hills diner   нет    ресторан   \n",
       "\n",
       "                                      address  number  \n",
       "13319  город москва, никольская улица, дом 10      88  "
      ]
     },
     "execution_count": 10,
     "metadata": {},
     "output_type": "execute_result"
    }
   ],
   "source": [
    "df.loc[df['object_name'].isin(chains_with_one_place['object_name']), 'chain'] = 'нет'\n",
    "df.query('object_name == \"beverly hills diner\"')"
   ]
  },
  {
   "cell_type": "markdown",
   "metadata": {},
   "source": [
    "### Удаление города из адреса\n",
    "\n",
    "Удаляем подстрочки \"город москва, \", \"город зеленоград, \" и \"поселение сосенское, \" из переменной `address`. В итоге остаются только улицы"
   ]
  },
  {
   "cell_type": "code",
   "execution_count": 11,
   "metadata": {},
   "outputs": [
    {
     "data": {
      "text/html": [
       "<div>\n",
       "<style scoped>\n",
       "    .dataframe tbody tr th:only-of-type {\n",
       "        vertical-align: middle;\n",
       "    }\n",
       "\n",
       "    .dataframe tbody tr th {\n",
       "        vertical-align: top;\n",
       "    }\n",
       "\n",
       "    .dataframe thead th {\n",
       "        text-align: right;\n",
       "    }\n",
       "</style>\n",
       "<table border=\"1\" class=\"dataframe\">\n",
       "  <thead>\n",
       "    <tr style=\"text-align: right;\">\n",
       "      <th></th>\n",
       "      <th>id</th>\n",
       "      <th>object_name</th>\n",
       "      <th>chain</th>\n",
       "      <th>object_type</th>\n",
       "      <th>address</th>\n",
       "      <th>number</th>\n",
       "    </tr>\n",
       "  </thead>\n",
       "  <tbody>\n",
       "    <tr>\n",
       "      <td>0</td>\n",
       "      <td>151635</td>\n",
       "      <td>сметана</td>\n",
       "      <td>нет</td>\n",
       "      <td>кафе</td>\n",
       "      <td>улица егора абакумова, дом 9</td>\n",
       "      <td>48</td>\n",
       "    </tr>\n",
       "    <tr>\n",
       "      <td>1</td>\n",
       "      <td>77874</td>\n",
       "      <td>родник</td>\n",
       "      <td>нет</td>\n",
       "      <td>кафе</td>\n",
       "      <td>улица талалихина, дом 2/1, корпус 1</td>\n",
       "      <td>35</td>\n",
       "    </tr>\n",
       "    <tr>\n",
       "      <td>2</td>\n",
       "      <td>24309</td>\n",
       "      <td>кафе «академия»</td>\n",
       "      <td>нет</td>\n",
       "      <td>кафе</td>\n",
       "      <td>абельмановская улица, дом 6</td>\n",
       "      <td>95</td>\n",
       "    </tr>\n",
       "    <tr>\n",
       "      <td>3</td>\n",
       "      <td>21894</td>\n",
       "      <td>пиццетория</td>\n",
       "      <td>да</td>\n",
       "      <td>кафе</td>\n",
       "      <td>абрамцевская улица, дом 1</td>\n",
       "      <td>40</td>\n",
       "    </tr>\n",
       "    <tr>\n",
       "      <td>4</td>\n",
       "      <td>119365</td>\n",
       "      <td>кафе «вишневая метель»</td>\n",
       "      <td>нет</td>\n",
       "      <td>кафе</td>\n",
       "      <td>абрамцевская улица, дом 9, корпус 1</td>\n",
       "      <td>50</td>\n",
       "    </tr>\n",
       "    <tr>\n",
       "      <td>5</td>\n",
       "      <td>27429</td>\n",
       "      <td>стол. при гоу сош № 1051</td>\n",
       "      <td>нет</td>\n",
       "      <td>столовая</td>\n",
       "      <td>абрамцевская улица, дом 15, корпус 1</td>\n",
       "      <td>240</td>\n",
       "    </tr>\n",
       "    <tr>\n",
       "      <td>6</td>\n",
       "      <td>148815</td>\n",
       "      <td>брусника</td>\n",
       "      <td>да</td>\n",
       "      <td>кафе</td>\n",
       "      <td>переулок сивцев вражек, дом 6/2</td>\n",
       "      <td>10</td>\n",
       "    </tr>\n",
       "    <tr>\n",
       "      <td>7</td>\n",
       "      <td>20957</td>\n",
       "      <td>буфет мтуси</td>\n",
       "      <td>нет</td>\n",
       "      <td>столовая</td>\n",
       "      <td>авиамоторная улица, дом 8, строение 1</td>\n",
       "      <td>90</td>\n",
       "    </tr>\n",
       "    <tr>\n",
       "      <td>8</td>\n",
       "      <td>20958</td>\n",
       "      <td>кпф семья-1</td>\n",
       "      <td>нет</td>\n",
       "      <td>столовая</td>\n",
       "      <td>авиамоторная улица, дом 8, строение 1</td>\n",
       "      <td>150</td>\n",
       "    </tr>\n",
       "    <tr>\n",
       "      <td>9</td>\n",
       "      <td>28858</td>\n",
       "      <td>столовая мтуси</td>\n",
       "      <td>нет</td>\n",
       "      <td>столовая</td>\n",
       "      <td>авиамоторная улица, дом 8, строение 1</td>\n",
       "      <td>120</td>\n",
       "    </tr>\n",
       "  </tbody>\n",
       "</table>\n",
       "</div>"
      ],
      "text/plain": [
       "       id               object_name chain object_type  \\\n",
       "0  151635                   сметана   нет        кафе   \n",
       "1   77874                    родник   нет        кафе   \n",
       "2   24309           кафе «академия»   нет        кафе   \n",
       "3   21894                пиццетория    да        кафе   \n",
       "4  119365    кафе «вишневая метель»   нет        кафе   \n",
       "5   27429  стол. при гоу сош № 1051   нет    столовая   \n",
       "6  148815                  брусника    да        кафе   \n",
       "7   20957               буфет мтуси   нет    столовая   \n",
       "8   20958               кпф семья-1   нет    столовая   \n",
       "9   28858            столовая мтуси   нет    столовая   \n",
       "\n",
       "                                 address  number  \n",
       "0           улица егора абакумова, дом 9      48  \n",
       "1    улица талалихина, дом 2/1, корпус 1      35  \n",
       "2            абельмановская улица, дом 6      95  \n",
       "3              абрамцевская улица, дом 1      40  \n",
       "4    абрамцевская улица, дом 9, корпус 1      50  \n",
       "5   абрамцевская улица, дом 15, корпус 1     240  \n",
       "6        переулок сивцев вражек, дом 6/2      10  \n",
       "7  авиамоторная улица, дом 8, строение 1      90  \n",
       "8  авиамоторная улица, дом 8, строение 1     150  \n",
       "9  авиамоторная улица, дом 8, строение 1     120  "
      ]
     },
     "execution_count": 11,
     "metadata": {},
     "output_type": "execute_result"
    }
   ],
   "source": [
    "df['address'] = df['address'].replace('город москва, ', '', regex=True)\n",
    "df['address'] = df['address'].replace('город зеленоград, ', '', regex=True)\n",
    "df['address'] = df['address'].replace('поселение сосенское, ', '', regex=True)\n",
    "df.head(10)"
   ]
  },
  {
   "cell_type": "markdown",
   "metadata": {},
   "source": [
    "### Вывод по разделу\n",
    "\n",
    "В этом разделе мы провели предобработку данных:\n",
    "* Изменили тип данных в переменной `id` на `object`\n",
    "* Привели текстовые переменные `object_name` и `address` к нижнему регистру\n",
    "* Удалили дубликаты из датафрейма\n",
    "* Сделали сетевые заведения, имеющие одну точку, несетевыми\n",
    "* В переменной `address` удалили указание на город, оставили только названия улиц"
   ]
  },
  {
   "cell_type": "markdown",
   "metadata": {},
   "source": [
    "## Анализ данных\n",
    "\n",
    "В этом разделе мы проведем анализ данных по следующим пунктам:\n",
    "* Соотношение видов объектов общественного питания по количеству\n",
    "* Соотношение сетевых и несетевых заведений по количеству\n",
    "* Изучение того, для какого вида объекта общественного питания характерно сетевое распространение\n",
    "* Изучение того, что характерно для сетевых заведений: много заведений с небольшим числом посадочных мест в каждом или мало заведений с большим количеством посадочных мест\n",
    "* Среднее количество посадочных мест для каждого вида объекта общественного питания\n",
    "* Создание топ-10 улиц по количеству объектов общественного питания\n",
    "* Поиск числа улиц с одним объектом общественного питания\n",
    "* Изучение распределения количества посадочных мест для улиц с большим количеством объектов общественного питания\n",
    "\n",
    "### Соотношение видов объектов общественного питания по количеству\n",
    "\n",
    "Сначала рассмотрим, как соотносятся виды объектов общественного питания. Построим столбчатую диаграмму. Больше всего в Москве кафе, эта категория лидирует с большим отрывом. Далее идут столовая и ресторан. Меньше всего в Москве кулинарий в продуктовых магазинах"
   ]
  },
  {
   "cell_type": "code",
   "execution_count": 12,
   "metadata": {},
   "outputs": [
    {
     "data": {
      "image/png": "[encoded data removed]",
      "text/plain": [
       "<Figure size 1080x720 with 1 Axes>"
      ]
     },
     "metadata": {
      "needs_background": "light"
     },
     "output_type": "display_data"
    }
   ],
   "source": [
    "sns.set_palette(\"hls\", 4)\n",
    "df.pivot_table(index='object_type', values='id', aggfunc='count').sort_values(by='id').plot(kind='bar', figsize=(15, 10))\n",
    "plt.title('Распределение видов объектов общественного питания')\n",
    "plt.xlabel('Виды объектов')\n",
    "plt.ylabel('Число объектов')\n",
    "plt.show()"
   ]
  },
  {
   "cell_type": "markdown",
   "metadata": {},
   "source": [
    "### Распределение сетевых и несетевых заведений по типам"
   ]
  },
  {
   "cell_type": "markdown",
   "metadata": {},
   "source": [
    "Рассмотрим распределение сетевых и несетевых заведений в Москве по типам объектов общественного питания. Как мы видели в предыдущем разделе, большинство заведений - несетевые, однако их доля в разных типах заведений различается. Как мы можем видеть на графике, есть заведения, в которых доля сетевых компаний стремится к 0 (столовая, буфет), есть те заведения, в которых доля сетевых заведений довольно высока (предприятия быстрого обслуживания, рестораны, кафе)."
   ]
  },
  {
   "cell_type": "code",
   "execution_count": 14,
   "metadata": {},
   "outputs": [
    {
     "data": {
      "image/png": "[encoded data removed]",
      "text/plain": [
       "<Figure size 1080x720 with 1 Axes>"
      ]
     },
     "metadata": {
      "needs_background": "light"
     },
     "output_type": "display_data"
    }
   ],
   "source": [
    "chain_type = df.pivot_table(index='object_type', columns='chain', values='id', aggfunc='count')\n",
    "chain_type.columns = ['сетевые', 'несетевые']\n",
    "chain_type['total'] = chain_type['сетевые'] + chain_type['несетевые']\n",
    "chain_type.sort_values(by='total')[['сетевые', 'несетевые']].plot(kind='barh', stacked=True, figsize=(15, 10))\n",
    "plt.title('Распределение сетевых и несетевых заведений по типам')\n",
    "plt.xlabel('Количество заведений')\n",
    "plt.ylabel('Тип заведения')\n",
    "plt.show()"
   ]
  },
  {
   "cell_type": "markdown",
   "metadata": {},
   "source": [
    "Для более подробного сравнения долей сетевых заведений между разными типами объектов общественного питания создадим столбец в сводной таблице с долей сетевых заведений. Как мы видим, по доле сетевых заведений лидируют предприятия быстрого обслуживания (39 % - сетевые заведения). Далее около четверти заведений в категории магазинов - сетевые, около 1/5 в категории ресторанов и кафе - сетевые. Практически нулевая доля сетевых заведений в категориях столовых, баров и буфетов. Таким образом, мы можем сделать вывод, что сетевое распространение характерно для ресторанов фаст-фуда"
   ]
  },
  {
   "cell_type": "code",
   "execution_count": 15,
   "metadata": {},
   "outputs": [
    {
     "data": {
      "text/html": [
       "<div>\n",
       "<style scoped>\n",
       "    .dataframe tbody tr th:only-of-type {\n",
       "        vertical-align: middle;\n",
       "    }\n",
       "\n",
       "    .dataframe tbody tr th {\n",
       "        vertical-align: top;\n",
       "    }\n",
       "\n",
       "    .dataframe thead th {\n",
       "        text-align: right;\n",
       "    }\n",
       "</style>\n",
       "<table border=\"1\" class=\"dataframe\">\n",
       "  <thead>\n",
       "    <tr style=\"text-align: right;\">\n",
       "      <th></th>\n",
       "      <th>сетевые</th>\n",
       "      <th>несетевые</th>\n",
       "      <th>total</th>\n",
       "      <th>доля сетевых заведений</th>\n",
       "    </tr>\n",
       "    <tr>\n",
       "      <th>object_type</th>\n",
       "      <th></th>\n",
       "      <th></th>\n",
       "      <th></th>\n",
       "      <th></th>\n",
       "    </tr>\n",
       "  </thead>\n",
       "  <tbody>\n",
       "    <tr>\n",
       "      <td>столовая</td>\n",
       "      <td>3</td>\n",
       "      <td>2581</td>\n",
       "      <td>2584</td>\n",
       "      <td>0.00</td>\n",
       "    </tr>\n",
       "    <tr>\n",
       "      <td>бар</td>\n",
       "      <td>19</td>\n",
       "      <td>836</td>\n",
       "      <td>855</td>\n",
       "      <td>0.02</td>\n",
       "    </tr>\n",
       "    <tr>\n",
       "      <td>буфет</td>\n",
       "      <td>11</td>\n",
       "      <td>565</td>\n",
       "      <td>576</td>\n",
       "      <td>0.02</td>\n",
       "    </tr>\n",
       "    <tr>\n",
       "      <td>кафетерий</td>\n",
       "      <td>46</td>\n",
       "      <td>349</td>\n",
       "      <td>395</td>\n",
       "      <td>0.12</td>\n",
       "    </tr>\n",
       "    <tr>\n",
       "      <td>закусочная</td>\n",
       "      <td>45</td>\n",
       "      <td>303</td>\n",
       "      <td>348</td>\n",
       "      <td>0.13</td>\n",
       "    </tr>\n",
       "    <tr>\n",
       "      <td>кафе</td>\n",
       "      <td>1243</td>\n",
       "      <td>4828</td>\n",
       "      <td>6071</td>\n",
       "      <td>0.20</td>\n",
       "    </tr>\n",
       "    <tr>\n",
       "      <td>ресторан</td>\n",
       "      <td>455</td>\n",
       "      <td>1827</td>\n",
       "      <td>2282</td>\n",
       "      <td>0.20</td>\n",
       "    </tr>\n",
       "    <tr>\n",
       "      <td>магазин (отдел кулинарии)</td>\n",
       "      <td>70</td>\n",
       "      <td>203</td>\n",
       "      <td>273</td>\n",
       "      <td>0.26</td>\n",
       "    </tr>\n",
       "    <tr>\n",
       "      <td>предприятие быстрого обслуживания</td>\n",
       "      <td>741</td>\n",
       "      <td>1156</td>\n",
       "      <td>1897</td>\n",
       "      <td>0.39</td>\n",
       "    </tr>\n",
       "  </tbody>\n",
       "</table>\n",
       "</div>"
      ],
      "text/plain": [
       "                                   сетевые  несетевые  total  \\\n",
       "object_type                                                    \n",
       "столовая                                 3       2581   2584   \n",
       "бар                                     19        836    855   \n",
       "буфет                                   11        565    576   \n",
       "кафетерий                               46        349    395   \n",
       "закусочная                              45        303    348   \n",
       "кафе                                  1243       4828   6071   \n",
       "ресторан                               455       1827   2282   \n",
       "магазин (отдел кулинарии)               70        203    273   \n",
       "предприятие быстрого обслуживания      741       1156   1897   \n",
       "\n",
       "                                   доля сетевых заведений  \n",
       "object_type                                                \n",
       "столовая                                             0.00  \n",
       "бар                                                  0.02  \n",
       "буфет                                                0.02  \n",
       "кафетерий                                            0.12  \n",
       "закусочная                                           0.13  \n",
       "кафе                                                 0.20  \n",
       "ресторан                                             0.20  \n",
       "магазин (отдел кулинарии)                            0.26  \n",
       "предприятие быстрого обслуживания                    0.39  "
      ]
     },
     "execution_count": 15,
     "metadata": {},
     "output_type": "execute_result"
    }
   ],
   "source": [
    "chain_type['доля сетевых заведений'] = round(chain_type['сетевые'] / chain_type['total'], 2)\n",
    "chain_type.sort_values(by='доля сетевых заведений')"
   ]
  },
  {
   "cell_type": "markdown",
   "metadata": {},
   "source": [
    "### Распределение числа мест и количества заведений в сетевых ресторанах"
   ]
  },
  {
   "cell_type": "markdown",
   "metadata": {},
   "source": [
    "Для изучения распределения числа посадочных мест и заведений в сетях отбираем сетевые заведения, а затем подсчитываем медианы числа мест и заведений. Затем задаем функции, в которых сравниваем каждое заведение с медианами, и, если значение выше медианы, то категоризируем заведение как \"Много заведений / мест\", а если меньше, то \"Мало заведений / мест\". Затем объединяем полученные категории в одну. Итого у нас получается 4 категории заведений:\n",
    "* Много заведений - много мест (число мест и заведений в сети больше медианного)\n",
    "* Много заведений - мало мест (число заведений в сети больше медианного, число мест - меньше или равно)\n",
    "* Мало заведений - много мест (число мест в сети больше медианного, число заведений - меньше или равно)\n",
    "* Мало заведений - мало мест (число мест и заведений в сети меньше или равно медианному)"
   ]
  },
  {
   "cell_type": "code",
   "execution_count": 16,
   "metadata": {},
   "outputs": [
    {
     "data": {
      "text/html": [
       "<div>\n",
       "<style scoped>\n",
       "    .dataframe tbody tr th:only-of-type {\n",
       "        vertical-align: middle;\n",
       "    }\n",
       "\n",
       "    .dataframe tbody tr th {\n",
       "        vertical-align: top;\n",
       "    }\n",
       "\n",
       "    .dataframe thead th {\n",
       "        text-align: right;\n",
       "    }\n",
       "</style>\n",
       "<table border=\"1\" class=\"dataframe\">\n",
       "  <thead>\n",
       "    <tr style=\"text-align: right;\">\n",
       "      <th></th>\n",
       "      <th>id</th>\n",
       "      <th>number</th>\n",
       "      <th>places</th>\n",
       "      <th>seats</th>\n",
       "      <th>group</th>\n",
       "    </tr>\n",
       "    <tr>\n",
       "      <th>object_name</th>\n",
       "      <th></th>\n",
       "      <th></th>\n",
       "      <th></th>\n",
       "      <th></th>\n",
       "      <th></th>\n",
       "    </tr>\n",
       "  </thead>\n",
       "  <tbody>\n",
       "    <tr>\n",
       "      <td>bocconcino</td>\n",
       "      <td>3</td>\n",
       "      <td>66.666667</td>\n",
       "      <td>Мало заведений</td>\n",
       "      <td>Много мест</td>\n",
       "      <td>Мало заведений - Много мест</td>\n",
       "    </tr>\n",
       "    <tr>\n",
       "      <td>burger club</td>\n",
       "      <td>3</td>\n",
       "      <td>20.333333</td>\n",
       "      <td>Мало заведений</td>\n",
       "      <td>Мало мест</td>\n",
       "      <td>Мало заведений - Мало мест</td>\n",
       "    </tr>\n",
       "    <tr>\n",
       "      <td>coffeeshop company</td>\n",
       "      <td>4</td>\n",
       "      <td>47.250000</td>\n",
       "      <td>Мало заведений</td>\n",
       "      <td>Много мест</td>\n",
       "      <td>Мало заведений - Много мест</td>\n",
       "    </tr>\n",
       "    <tr>\n",
       "      <td>cofix</td>\n",
       "      <td>25</td>\n",
       "      <td>9.600000</td>\n",
       "      <td>Много заведений</td>\n",
       "      <td>Мало мест</td>\n",
       "      <td>Много заведений - Мало мест</td>\n",
       "    </tr>\n",
       "    <tr>\n",
       "      <td>correas</td>\n",
       "      <td>3</td>\n",
       "      <td>44.000000</td>\n",
       "      <td>Мало заведений</td>\n",
       "      <td>Мало мест</td>\n",
       "      <td>Мало заведений - Мало мест</td>\n",
       "    </tr>\n",
       "    <tr>\n",
       "      <td>costa coffee</td>\n",
       "      <td>5</td>\n",
       "      <td>18.800000</td>\n",
       "      <td>Много заведений</td>\n",
       "      <td>Мало мест</td>\n",
       "      <td>Много заведений - Мало мест</td>\n",
       "    </tr>\n",
       "    <tr>\n",
       "      <td>dunkin donuts</td>\n",
       "      <td>6</td>\n",
       "      <td>11.500000</td>\n",
       "      <td>Много заведений</td>\n",
       "      <td>Мало мест</td>\n",
       "      <td>Много заведений - Мало мест</td>\n",
       "    </tr>\n",
       "    <tr>\n",
       "      <td>glowsubs sandwiches</td>\n",
       "      <td>3</td>\n",
       "      <td>17.333333</td>\n",
       "      <td>Мало заведений</td>\n",
       "      <td>Мало мест</td>\n",
       "      <td>Мало заведений - Мало мест</td>\n",
       "    </tr>\n",
       "    <tr>\n",
       "      <td>healthy food</td>\n",
       "      <td>4</td>\n",
       "      <td>11.500000</td>\n",
       "      <td>Мало заведений</td>\n",
       "      <td>Мало мест</td>\n",
       "      <td>Мало заведений - Мало мест</td>\n",
       "    </tr>\n",
       "    <tr>\n",
       "      <td>jeffreys coffee</td>\n",
       "      <td>5</td>\n",
       "      <td>25.000000</td>\n",
       "      <td>Много заведений</td>\n",
       "      <td>Мало мест</td>\n",
       "      <td>Много заведений - Мало мест</td>\n",
       "    </tr>\n",
       "  </tbody>\n",
       "</table>\n",
       "</div>"
      ],
      "text/plain": [
       "                     id     number           places       seats  \\\n",
       "object_name                                                       \n",
       "bocconcino            3  66.666667   Мало заведений  Много мест   \n",
       "burger club           3  20.333333   Мало заведений   Мало мест   \n",
       "coffeeshop company    4  47.250000   Мало заведений  Много мест   \n",
       "cofix                25   9.600000  Много заведений   Мало мест   \n",
       "correas               3  44.000000   Мало заведений   Мало мест   \n",
       "costa coffee          5  18.800000  Много заведений   Мало мест   \n",
       "dunkin donuts         6  11.500000  Много заведений   Мало мест   \n",
       "glowsubs sandwiches   3  17.333333   Мало заведений   Мало мест   \n",
       "healthy food          4  11.500000   Мало заведений   Мало мест   \n",
       "jeffreys coffee       5  25.000000  Много заведений   Мало мест   \n",
       "\n",
       "                                           group  \n",
       "object_name                                       \n",
       "bocconcino           Мало заведений - Много мест  \n",
       "burger club           Мало заведений - Мало мест  \n",
       "coffeeshop company   Мало заведений - Много мест  \n",
       "cofix                Много заведений - Мало мест  \n",
       "correas               Мало заведений - Мало мест  \n",
       "costa coffee         Много заведений - Мало мест  \n",
       "dunkin donuts        Много заведений - Мало мест  \n",
       "glowsubs sandwiches   Мало заведений - Мало мест  \n",
       "healthy food          Мало заведений - Мало мест  \n",
       "jeffreys coffee      Много заведений - Мало мест  "
      ]
     },
     "execution_count": 16,
     "metadata": {},
     "output_type": "execute_result"
    }
   ],
   "source": [
    "# отбор сетевых заведений\n",
    "chain_rest = df.query('chain == \"да\"').groupby('object_name').agg({'id': 'count', 'number': 'mean'})\n",
    "\n",
    "# медианы числа заведений и посадочных мест\n",
    "places_median = chain_rest['id'].median()\n",
    "seats_median = chain_rest['number'].median()\n",
    "\n",
    "# функции для сравнения каждого значения с медианами\n",
    "def group_places(places):\n",
    "    if places > places_median:\n",
    "        return 'Много заведений'\n",
    "    else:\n",
    "        return 'Мало заведений'\n",
    "    \n",
    "def group_seats(seats):\n",
    "    if seats > seats_median:\n",
    "        return 'Много мест'\n",
    "    else:\n",
    "        return 'Мало мест'\n",
    "\n",
    "# применение функций для столбцов в датафрейме\n",
    "chain_rest['places'] = chain_rest['id'].apply(group_places)\n",
    "chain_rest['seats'] = chain_rest['number'].apply(group_seats)\n",
    "\n",
    "# объединение в группу и просмотр датафрейма\n",
    "chain_rest['group'] = chain_rest['places'].astype(str) + ' - ' + chain_rest['seats'].astype(str)\n",
    "chain_rest.head(10)"
   ]
  },
  {
   "cell_type": "markdown",
   "metadata": {},
   "source": [
    "Построим диаграмму рассеяния между числом заведений и посадочных мест в сетевых заведениях. Введем третье измерение - категория заведения. В целом, по диаграмме нельзя сказать, что есть умеренная или сильная линейная связь между этими категориями. Если связь и есть, то слабой выраженности.\n",
    "\n",
    "Также можно заметить, что большинство сетевых заведений сконцентрированы в районе до 20 заведений, то есть большие сети мало распространены. В числе посадочных мест мы можем наблюдать больший разброс - достаточно много заведений имеют порядка 100-150 мест. Таким образом, можно предварительно сделать вывод, что сетевые заведения скорее предпочитают иметь большое количество посадочных мест и мало заведений в сети."
   ]
  },
  {
   "cell_type": "code",
   "execution_count": 17,
   "metadata": {},
   "outputs": [
    {
     "data": {
      "image/png": "[encoded data removed]",
      "text/plain": [
       "<Figure size 1080x720 with 1 Axes>"
      ]
     },
     "metadata": {
      "needs_background": "light"
     },
     "output_type": "display_data"
    }
   ],
   "source": [
    "plt.figure(figsize = (15,10))\n",
    "sns.scatterplot(data=chain_rest, x='id', y='number', hue='group')\n",
    "plt.title('Распределение числа заведений и посадочных мест в сетевых ресторанах')\n",
    "plt.xlabel('Число заведений')\n",
    "plt.ylabel('Число посадочных мест')\n",
    "plt.show()"
   ]
  },
  {
   "cell_type": "markdown",
   "metadata": {},
   "source": [
    "Рассмотрим коэффициенты корреляции между числом заведений и числом посадочных мест. Как мы видим, для маленьких сетей коэффициенты практически нулевые, так что связей между этими показателями на наших данных не обнаруживается. Вероятно, для маленьких сетей выбор между числом заведений и числом посадочных мест не так актуален. С выбором между заведениями и местами сталкиваются большие сети: на наших данных мы можем видеть слабую отрицательную связь между показателями в обеих группах. То есть чем больше заведений в сети, тем меньше в них посадочных мест, и наоборот. Как мы увидели на диаграмме рассеяния, все-таки сети чаще предпочитают увеличивать число посадочных мест, чем открывать новые филиалы."
   ]
  },
  {
   "cell_type": "code",
   "execution_count": 18,
   "metadata": {},
   "outputs": [
    {
     "name": "stdout",
     "output_type": "stream",
     "text": [
      "Коэффициент корреляции в группе Много заведений - Много мест : -0.22\n",
      "Коэффициент корреляции в группе Много заведений - Мало мест : -0.14\n",
      "Коэффициент корреляции в группе Мало заведений - Много мест : 0.07\n",
      "Коэффициент корреляции в группе Мало заведений - Мало мест : 0.08\n"
     ]
    }
   ],
   "source": [
    "groups = ['Много заведений - Много мест', 'Много заведений - Мало мест', 'Мало заведений - Много мест', 'Мало заведений - Мало мест']\n",
    "for group in groups:\n",
    "    print('Коэффициент корреляции в группе', group, ':',\n",
    "          round(chain_rest.loc[chain_rest['group']==group, 'id'].corr(chain_rest.loc[chain_rest['group']==group,\n",
    "                                                                                     'number']), 2))"
   ]
  },
  {
   "cell_type": "markdown",
   "metadata": {},
   "source": [
    "### Среднее число посадочных мест для каждого типа объекта общественного питания"
   ]
  },
  {
   "cell_type": "markdown",
   "metadata": {},
   "source": [
    "Построим столбчатую диаграмму со средним числом посадочных мест в разных типах объектов общественного питания. Лидерами по среднему числу мест являются столовая, ресторан и буфет. Меньше всего посадочных мест в отделах кулинарии продуктовых магазинов."
   ]
  },
  {
   "cell_type": "code",
   "execution_count": 19,
   "metadata": {},
   "outputs": [
    {
     "data": {
      "image/png": "[encoded data removed]",
      "text/plain": [
       "<Figure size 1080x720 with 1 Axes>"
      ]
     },
     "metadata": {
      "needs_background": "light"
     },
     "output_type": "display_data"
    }
   ],
   "source": [
    "df.pivot_table(index='object_type', values='number').sort_values(by='number').plot(kind='bar', figsize=(15, 10))\n",
    "plt.title('Среднее число посадочных мест для каждого типа объекта общественного питания')\n",
    "plt.xlabel('Тип объекта общественного питания')\n",
    "plt.ylabel('Среднее число посадочных мест')\n",
    "plt.show()"
   ]
  },
  {
   "cell_type": "markdown",
   "metadata": {},
   "source": [
    "### Топ-10 улиц по количеству объектов общественного питания"
   ]
  },
  {
   "cell_type": "markdown",
   "metadata": {},
   "source": [
    "Перед тем, как выделить топ-10 улиц по количеству заведений общественного питания, выделим улицы в отдельную переменную и выведем получившийся датафрейм на экран"
   ]
  },
  {
   "cell_type": "code",
   "execution_count": 20,
   "metadata": {},
   "outputs": [
    {
     "data": {
      "text/html": [
       "<div>\n",
       "<style scoped>\n",
       "    .dataframe tbody tr th:only-of-type {\n",
       "        vertical-align: middle;\n",
       "    }\n",
       "\n",
       "    .dataframe tbody tr th {\n",
       "        vertical-align: top;\n",
       "    }\n",
       "\n",
       "    .dataframe thead th {\n",
       "        text-align: right;\n",
       "    }\n",
       "</style>\n",
       "<table border=\"1\" class=\"dataframe\">\n",
       "  <thead>\n",
       "    <tr style=\"text-align: right;\">\n",
       "      <th></th>\n",
       "      <th>id</th>\n",
       "      <th>object_name</th>\n",
       "      <th>chain</th>\n",
       "      <th>object_type</th>\n",
       "      <th>address</th>\n",
       "      <th>number</th>\n",
       "      <th>street</th>\n",
       "    </tr>\n",
       "  </thead>\n",
       "  <tbody>\n",
       "    <tr>\n",
       "      <td>0</td>\n",
       "      <td>151635</td>\n",
       "      <td>сметана</td>\n",
       "      <td>нет</td>\n",
       "      <td>кафе</td>\n",
       "      <td>улица егора абакумова, дом 9</td>\n",
       "      <td>48</td>\n",
       "      <td>улица егора абакумова</td>\n",
       "    </tr>\n",
       "    <tr>\n",
       "      <td>1</td>\n",
       "      <td>77874</td>\n",
       "      <td>родник</td>\n",
       "      <td>нет</td>\n",
       "      <td>кафе</td>\n",
       "      <td>улица талалихина, дом 2/1, корпус 1</td>\n",
       "      <td>35</td>\n",
       "      <td>улица талалихина</td>\n",
       "    </tr>\n",
       "    <tr>\n",
       "      <td>2</td>\n",
       "      <td>24309</td>\n",
       "      <td>кафе «академия»</td>\n",
       "      <td>нет</td>\n",
       "      <td>кафе</td>\n",
       "      <td>абельмановская улица, дом 6</td>\n",
       "      <td>95</td>\n",
       "      <td>абельмановская улица</td>\n",
       "    </tr>\n",
       "    <tr>\n",
       "      <td>3</td>\n",
       "      <td>21894</td>\n",
       "      <td>пиццетория</td>\n",
       "      <td>да</td>\n",
       "      <td>кафе</td>\n",
       "      <td>абрамцевская улица, дом 1</td>\n",
       "      <td>40</td>\n",
       "      <td>абрамцевская улица</td>\n",
       "    </tr>\n",
       "    <tr>\n",
       "      <td>4</td>\n",
       "      <td>119365</td>\n",
       "      <td>кафе «вишневая метель»</td>\n",
       "      <td>нет</td>\n",
       "      <td>кафе</td>\n",
       "      <td>абрамцевская улица, дом 9, корпус 1</td>\n",
       "      <td>50</td>\n",
       "      <td>абрамцевская улица</td>\n",
       "    </tr>\n",
       "    <tr>\n",
       "      <td>5</td>\n",
       "      <td>27429</td>\n",
       "      <td>стол. при гоу сош № 1051</td>\n",
       "      <td>нет</td>\n",
       "      <td>столовая</td>\n",
       "      <td>абрамцевская улица, дом 15, корпус 1</td>\n",
       "      <td>240</td>\n",
       "      <td>абрамцевская улица</td>\n",
       "    </tr>\n",
       "    <tr>\n",
       "      <td>6</td>\n",
       "      <td>148815</td>\n",
       "      <td>брусника</td>\n",
       "      <td>да</td>\n",
       "      <td>кафе</td>\n",
       "      <td>переулок сивцев вражек, дом 6/2</td>\n",
       "      <td>10</td>\n",
       "      <td>переулок сивцев вражек</td>\n",
       "    </tr>\n",
       "    <tr>\n",
       "      <td>7</td>\n",
       "      <td>20957</td>\n",
       "      <td>буфет мтуси</td>\n",
       "      <td>нет</td>\n",
       "      <td>столовая</td>\n",
       "      <td>авиамоторная улица, дом 8, строение 1</td>\n",
       "      <td>90</td>\n",
       "      <td>авиамоторная улица</td>\n",
       "    </tr>\n",
       "    <tr>\n",
       "      <td>8</td>\n",
       "      <td>20958</td>\n",
       "      <td>кпф семья-1</td>\n",
       "      <td>нет</td>\n",
       "      <td>столовая</td>\n",
       "      <td>авиамоторная улица, дом 8, строение 1</td>\n",
       "      <td>150</td>\n",
       "      <td>авиамоторная улица</td>\n",
       "    </tr>\n",
       "    <tr>\n",
       "      <td>9</td>\n",
       "      <td>28858</td>\n",
       "      <td>столовая мтуси</td>\n",
       "      <td>нет</td>\n",
       "      <td>столовая</td>\n",
       "      <td>авиамоторная улица, дом 8, строение 1</td>\n",
       "      <td>120</td>\n",
       "      <td>авиамоторная улица</td>\n",
       "    </tr>\n",
       "  </tbody>\n",
       "</table>\n",
       "</div>"
      ],
      "text/plain": [
       "       id               object_name chain object_type  \\\n",
       "0  151635                   сметана   нет        кафе   \n",
       "1   77874                    родник   нет        кафе   \n",
       "2   24309           кафе «академия»   нет        кафе   \n",
       "3   21894                пиццетория    да        кафе   \n",
       "4  119365    кафе «вишневая метель»   нет        кафе   \n",
       "5   27429  стол. при гоу сош № 1051   нет    столовая   \n",
       "6  148815                  брусника    да        кафе   \n",
       "7   20957               буфет мтуси   нет    столовая   \n",
       "8   20958               кпф семья-1   нет    столовая   \n",
       "9   28858            столовая мтуси   нет    столовая   \n",
       "\n",
       "                                 address  number                  street  \n",
       "0           улица егора абакумова, дом 9      48   улица егора абакумова  \n",
       "1    улица талалихина, дом 2/1, корпус 1      35        улица талалихина  \n",
       "2            абельмановская улица, дом 6      95    абельмановская улица  \n",
       "3              абрамцевская улица, дом 1      40      абрамцевская улица  \n",
       "4    абрамцевская улица, дом 9, корпус 1      50      абрамцевская улица  \n",
       "5   абрамцевская улица, дом 15, корпус 1     240      абрамцевская улица  \n",
       "6        переулок сивцев вражек, дом 6/2      10  переулок сивцев вражек  \n",
       "7  авиамоторная улица, дом 8, строение 1      90      авиамоторная улица  \n",
       "8  авиамоторная улица, дом 8, строение 1     150      авиамоторная улица  \n",
       "9  авиамоторная улица, дом 8, строение 1     120      авиамоторная улица  "
      ]
     },
     "execution_count": 20,
     "metadata": {},
     "output_type": "execute_result"
    }
   ],
   "source": [
    "df['street'] = df['address'].apply(lambda x: x.split(',')[0])\n",
    "df['street'] = df['street'].str.strip()\n",
    "df.head(10)"
   ]
  },
  {
   "cell_type": "markdown",
   "metadata": {},
   "source": [
    "Также загрузим данные об улицах Москвы и их административной принадлежности из справочника Мосгаза. Всего в этом справочнике есть данные о 4398 улицах. По получившемуся справочнику будем определять административный округ, в котором находятся топ-10 улиц."
   ]
  },
  {
   "cell_type": "code",
   "execution_count": 21,
   "metadata": {},
   "outputs": [
    {
     "data": {
      "text/html": [
       "<div>\n",
       "<style scoped>\n",
       "    .dataframe tbody tr th:only-of-type {\n",
       "        vertical-align: middle;\n",
       "    }\n",
       "\n",
       "    .dataframe tbody tr th {\n",
       "        vertical-align: top;\n",
       "    }\n",
       "\n",
       "    .dataframe thead th {\n",
       "        text-align: right;\n",
       "    }\n",
       "</style>\n",
       "<table border=\"1\" class=\"dataframe\">\n",
       "  <thead>\n",
       "    <tr style=\"text-align: right;\">\n",
       "      <th></th>\n",
       "      <th>streetname</th>\n",
       "      <th>areaid</th>\n",
       "      <th>okrug</th>\n",
       "      <th>area</th>\n",
       "    </tr>\n",
       "  </thead>\n",
       "  <tbody>\n",
       "    <tr>\n",
       "      <td>0</td>\n",
       "      <td>выставочный переулок</td>\n",
       "      <td>17</td>\n",
       "      <td>ЦАО</td>\n",
       "      <td>Пресненский район</td>\n",
       "    </tr>\n",
       "    <tr>\n",
       "      <td>1</td>\n",
       "      <td>улица гашека</td>\n",
       "      <td>17</td>\n",
       "      <td>ЦАО</td>\n",
       "      <td>Пресненский район</td>\n",
       "    </tr>\n",
       "    <tr>\n",
       "      <td>2</td>\n",
       "      <td>большая никитская улица</td>\n",
       "      <td>17</td>\n",
       "      <td>ЦАО</td>\n",
       "      <td>Пресненский район</td>\n",
       "    </tr>\n",
       "    <tr>\n",
       "      <td>3</td>\n",
       "      <td>глубокий переулок</td>\n",
       "      <td>17</td>\n",
       "      <td>ЦАО</td>\n",
       "      <td>Пресненский район</td>\n",
       "    </tr>\n",
       "    <tr>\n",
       "      <td>4</td>\n",
       "      <td>большой гнездниковский переулок</td>\n",
       "      <td>17</td>\n",
       "      <td>ЦАО</td>\n",
       "      <td>Пресненский район</td>\n",
       "    </tr>\n",
       "    <tr>\n",
       "      <td>...</td>\n",
       "      <td>...</td>\n",
       "      <td>...</td>\n",
       "      <td>...</td>\n",
       "      <td>...</td>\n",
       "    </tr>\n",
       "    <tr>\n",
       "      <td>4393</td>\n",
       "      <td>вознесенский проезд</td>\n",
       "      <td>17</td>\n",
       "      <td>ЦАО</td>\n",
       "      <td>Пресненский район</td>\n",
       "    </tr>\n",
       "    <tr>\n",
       "      <td>4394</td>\n",
       "      <td>волков переулок</td>\n",
       "      <td>17</td>\n",
       "      <td>ЦАО</td>\n",
       "      <td>Пресненский район</td>\n",
       "    </tr>\n",
       "    <tr>\n",
       "      <td>4395</td>\n",
       "      <td>поварская улица</td>\n",
       "      <td>17</td>\n",
       "      <td>ЦАО</td>\n",
       "      <td>Пресненский район</td>\n",
       "    </tr>\n",
       "    <tr>\n",
       "      <td>4396</td>\n",
       "      <td>кудринская площадь</td>\n",
       "      <td>17</td>\n",
       "      <td>ЦАО</td>\n",
       "      <td>Пресненский район</td>\n",
       "    </tr>\n",
       "    <tr>\n",
       "      <td>4397</td>\n",
       "      <td>вспольный переулок</td>\n",
       "      <td>17</td>\n",
       "      <td>ЦАО</td>\n",
       "      <td>Пресненский район</td>\n",
       "    </tr>\n",
       "  </tbody>\n",
       "</table>\n",
       "<p>4398 rows × 4 columns</p>\n",
       "</div>"
      ],
      "text/plain": [
       "                           streetname  areaid okrug               area\n",
       "0                выставочный переулок      17   ЦАО  Пресненский район\n",
       "1                        улица гашека      17   ЦАО  Пресненский район\n",
       "2             большая никитская улица      17   ЦАО  Пресненский район\n",
       "3                   глубокий переулок      17   ЦАО  Пресненский район\n",
       "4     большой гнездниковский переулок      17   ЦАО  Пресненский район\n",
       "...                               ...     ...   ...                ...\n",
       "4393              вознесенский проезд      17   ЦАО  Пресненский район\n",
       "4394                  волков переулок      17   ЦАО  Пресненский район\n",
       "4395                  поварская улица      17   ЦАО  Пресненский район\n",
       "4396               кудринская площадь      17   ЦАО  Пресненский район\n",
       "4397               вспольный переулок      17   ЦАО  Пресненский район\n",
       "\n",
       "[4398 rows x 4 columns]"
      ]
     },
     "execution_count": 21,
     "metadata": {},
     "output_type": "execute_result"
    }
   ],
   "source": [
    "spreadsheet_id = '11qr3silj85PWciNCb3jFlT3YKBfSh0GJ5PO3t9Kgr-Y'\n",
    "file_name = 'https://docs.google.com/spreadsheets/d/{}/export?format=csv'.format(spreadsheet_id)\n",
    "r = requests.get(file_name)\n",
    "data_streets = pd.read_csv(BytesIO(r.content))\n",
    "data_streets['streetname'] = data_streets['streetname'].str.lower()\n",
    "data_streets"
   ]
  },
  {
   "cell_type": "markdown",
   "metadata": {},
   "source": [
    "Создадим сводную таблицу с топ-10 улиц, на которых находится больше всего заведений общественного питания. Соединим получившийся топ с данными Мосгаза и определим административные округа:\n",
    "* Проспект Мира - ЦАО, СВАО\n",
    "* Профсоюзная улица - ЮЗАО\n",
    "* Ленинградский проспект - САО\n",
    "* Пресненская набережная - ЦАО\n",
    "* Варшавское шоссе - ЮЗАО, ЮАО\n",
    "* Ленинский проспект - ЦАО, ЮАО, ЮЗАО, ЗАО\n",
    "* Проспект Вернадского - ЮЗАО, ЗАО\n",
    "* Кутузовский проспект - ЗАО\n",
    "* Каширское шоссе - ЮАО\n",
    "* Кировоградская улица - ЮАО"
   ]
  },
  {
   "cell_type": "code",
   "execution_count": 22,
   "metadata": {},
   "outputs": [
    {
     "data": {
      "text/html": [
       "<div>\n",
       "<style scoped>\n",
       "    .dataframe tbody tr th:only-of-type {\n",
       "        vertical-align: middle;\n",
       "    }\n",
       "\n",
       "    .dataframe tbody tr th {\n",
       "        vertical-align: top;\n",
       "    }\n",
       "\n",
       "    .dataframe thead th {\n",
       "        text-align: right;\n",
       "    }\n",
       "</style>\n",
       "<table border=\"1\" class=\"dataframe\">\n",
       "  <thead>\n",
       "    <tr style=\"text-align: right;\">\n",
       "      <th></th>\n",
       "      <th>streetname</th>\n",
       "      <th>number_of_places</th>\n",
       "      <th>areaid</th>\n",
       "      <th>okrug</th>\n",
       "      <th>area</th>\n",
       "    </tr>\n",
       "  </thead>\n",
       "  <tbody>\n",
       "    <tr>\n",
       "      <td>0</td>\n",
       "      <td>проспект мира</td>\n",
       "      <td>203</td>\n",
       "      <td>70</td>\n",
       "      <td>СВАО</td>\n",
       "      <td>Алексеевский район</td>\n",
       "    </tr>\n",
       "    <tr>\n",
       "      <td>1</td>\n",
       "      <td>проспект мира</td>\n",
       "      <td>203</td>\n",
       "      <td>86</td>\n",
       "      <td>СВАО</td>\n",
       "      <td>Ярославский Район</td>\n",
       "    </tr>\n",
       "    <tr>\n",
       "      <td>2</td>\n",
       "      <td>проспект мира</td>\n",
       "      <td>203</td>\n",
       "      <td>78</td>\n",
       "      <td>СВАО</td>\n",
       "      <td>Район Марьина роща</td>\n",
       "    </tr>\n",
       "    <tr>\n",
       "      <td>3</td>\n",
       "      <td>проспект мира</td>\n",
       "      <td>203</td>\n",
       "      <td>79</td>\n",
       "      <td>СВАО</td>\n",
       "      <td>Останкинский район</td>\n",
       "    </tr>\n",
       "    <tr>\n",
       "      <td>4</td>\n",
       "      <td>проспект мира</td>\n",
       "      <td>203</td>\n",
       "      <td>81</td>\n",
       "      <td>СВАО</td>\n",
       "      <td>Район Ростокино</td>\n",
       "    </tr>\n",
       "    <tr>\n",
       "      <td>5</td>\n",
       "      <td>проспект мира</td>\n",
       "      <td>203</td>\n",
       "      <td>82</td>\n",
       "      <td>СВАО</td>\n",
       "      <td>Район Свиблово</td>\n",
       "    </tr>\n",
       "    <tr>\n",
       "      <td>6</td>\n",
       "      <td>проспект мира</td>\n",
       "      <td>203</td>\n",
       "      <td>16</td>\n",
       "      <td>ЦАО</td>\n",
       "      <td>Мещанский район</td>\n",
       "    </tr>\n",
       "    <tr>\n",
       "      <td>7</td>\n",
       "      <td>профсоюзная улица</td>\n",
       "      <td>182</td>\n",
       "      <td>123</td>\n",
       "      <td>ЮЗАО</td>\n",
       "      <td>Академический район</td>\n",
       "    </tr>\n",
       "    <tr>\n",
       "      <td>8</td>\n",
       "      <td>профсоюзная улица</td>\n",
       "      <td>182</td>\n",
       "      <td>132</td>\n",
       "      <td>ЮЗАО</td>\n",
       "      <td>Район Черемушки</td>\n",
       "    </tr>\n",
       "    <tr>\n",
       "      <td>9</td>\n",
       "      <td>профсоюзная улица</td>\n",
       "      <td>182</td>\n",
       "      <td>134</td>\n",
       "      <td>ЮЗАО</td>\n",
       "      <td>Район Ясенево</td>\n",
       "    </tr>\n",
       "    <tr>\n",
       "      <td>10</td>\n",
       "      <td>профсоюзная улица</td>\n",
       "      <td>182</td>\n",
       "      <td>126</td>\n",
       "      <td>ЮЗАО</td>\n",
       "      <td>Район Коньково</td>\n",
       "    </tr>\n",
       "    <tr>\n",
       "      <td>11</td>\n",
       "      <td>профсоюзная улица</td>\n",
       "      <td>182</td>\n",
       "      <td>129</td>\n",
       "      <td>ЮЗАО</td>\n",
       "      <td>Обручевский район</td>\n",
       "    </tr>\n",
       "    <tr>\n",
       "      <td>12</td>\n",
       "      <td>профсоюзная улица</td>\n",
       "      <td>182</td>\n",
       "      <td>131</td>\n",
       "      <td>ЮЗАО</td>\n",
       "      <td>Район Теплый Стан</td>\n",
       "    </tr>\n",
       "    <tr>\n",
       "      <td>13</td>\n",
       "      <td>ленинградский проспект</td>\n",
       "      <td>172</td>\n",
       "      <td>54</td>\n",
       "      <td>САО</td>\n",
       "      <td>Район Аэропорт</td>\n",
       "    </tr>\n",
       "    <tr>\n",
       "      <td>14</td>\n",
       "      <td>ленинградский проспект</td>\n",
       "      <td>172</td>\n",
       "      <td>55</td>\n",
       "      <td>САО</td>\n",
       "      <td>Район Беговой</td>\n",
       "    </tr>\n",
       "    <tr>\n",
       "      <td>15</td>\n",
       "      <td>ленинградский проспект</td>\n",
       "      <td>172</td>\n",
       "      <td>69</td>\n",
       "      <td>САО</td>\n",
       "      <td>Хорошевский район</td>\n",
       "    </tr>\n",
       "    <tr>\n",
       "      <td>16</td>\n",
       "      <td>ленинградский проспект</td>\n",
       "      <td>172</td>\n",
       "      <td>66</td>\n",
       "      <td>САО</td>\n",
       "      <td>Район Сокол</td>\n",
       "    </tr>\n",
       "    <tr>\n",
       "      <td>17</td>\n",
       "      <td>пресненская набережная</td>\n",
       "      <td>167</td>\n",
       "      <td>17</td>\n",
       "      <td>ЦАО</td>\n",
       "      <td>Пресненский район</td>\n",
       "    </tr>\n",
       "    <tr>\n",
       "      <td>18</td>\n",
       "      <td>варшавское шоссе</td>\n",
       "      <td>162</td>\n",
       "      <td>109</td>\n",
       "      <td>ЮАО</td>\n",
       "      <td>Район Чертаново Центральное</td>\n",
       "    </tr>\n",
       "    <tr>\n",
       "      <td>19</td>\n",
       "      <td>варшавское шоссе</td>\n",
       "      <td>162</td>\n",
       "      <td>108</td>\n",
       "      <td>ЮАО</td>\n",
       "      <td>Район Чертаново Северное</td>\n",
       "    </tr>\n",
       "    <tr>\n",
       "      <td>20</td>\n",
       "      <td>варшавское шоссе</td>\n",
       "      <td>162</td>\n",
       "      <td>110</td>\n",
       "      <td>ЮАО</td>\n",
       "      <td>Район Чертаново Южное</td>\n",
       "    </tr>\n",
       "    <tr>\n",
       "      <td>21</td>\n",
       "      <td>варшавское шоссе</td>\n",
       "      <td>162</td>\n",
       "      <td>99</td>\n",
       "      <td>ЮАО</td>\n",
       "      <td>Донской район</td>\n",
       "    </tr>\n",
       "    <tr>\n",
       "      <td>22</td>\n",
       "      <td>варшавское шоссе</td>\n",
       "      <td>162</td>\n",
       "      <td>102</td>\n",
       "      <td>ЮАО</td>\n",
       "      <td>Район Нагатино-Садовники</td>\n",
       "    </tr>\n",
       "    <tr>\n",
       "      <td>23</td>\n",
       "      <td>варшавское шоссе</td>\n",
       "      <td>162</td>\n",
       "      <td>104</td>\n",
       "      <td>ЮАО</td>\n",
       "      <td>Нагорный район</td>\n",
       "    </tr>\n",
       "    <tr>\n",
       "      <td>24</td>\n",
       "      <td>варшавское шоссе</td>\n",
       "      <td>162</td>\n",
       "      <td>130</td>\n",
       "      <td>ЮЗАО</td>\n",
       "      <td>Район Северное Бутово</td>\n",
       "    </tr>\n",
       "    <tr>\n",
       "      <td>25</td>\n",
       "      <td>варшавское шоссе</td>\n",
       "      <td>162</td>\n",
       "      <td>133</td>\n",
       "      <td>ЮЗАО</td>\n",
       "      <td>Район Южное Бутово</td>\n",
       "    </tr>\n",
       "    <tr>\n",
       "      <td>26</td>\n",
       "      <td>ленинский проспект</td>\n",
       "      <td>148</td>\n",
       "      <td>44</td>\n",
       "      <td>ЗАО</td>\n",
       "      <td>Район Проспект Вернадского</td>\n",
       "    </tr>\n",
       "    <tr>\n",
       "      <td>27</td>\n",
       "      <td>ленинский проспект</td>\n",
       "      <td>148</td>\n",
       "      <td>47</td>\n",
       "      <td>ЗАО</td>\n",
       "      <td>Район Тропарево-Никулино</td>\n",
       "    </tr>\n",
       "    <tr>\n",
       "      <td>28</td>\n",
       "      <td>ленинский проспект</td>\n",
       "      <td>148</td>\n",
       "      <td>99</td>\n",
       "      <td>ЮАО</td>\n",
       "      <td>Донской район</td>\n",
       "    </tr>\n",
       "    <tr>\n",
       "      <td>29</td>\n",
       "      <td>ленинский проспект</td>\n",
       "      <td>148</td>\n",
       "      <td>124</td>\n",
       "      <td>ЮЗАО</td>\n",
       "      <td>Район Гагаринский</td>\n",
       "    </tr>\n",
       "    <tr>\n",
       "      <td>30</td>\n",
       "      <td>ленинский проспект</td>\n",
       "      <td>148</td>\n",
       "      <td>128</td>\n",
       "      <td>ЮЗАО</td>\n",
       "      <td>Ломоносовский район</td>\n",
       "    </tr>\n",
       "    <tr>\n",
       "      <td>31</td>\n",
       "      <td>ленинский проспект</td>\n",
       "      <td>148</td>\n",
       "      <td>129</td>\n",
       "      <td>ЮЗАО</td>\n",
       "      <td>Обручевский район</td>\n",
       "    </tr>\n",
       "    <tr>\n",
       "      <td>32</td>\n",
       "      <td>ленинский проспект</td>\n",
       "      <td>148</td>\n",
       "      <td>131</td>\n",
       "      <td>ЮЗАО</td>\n",
       "      <td>Район Теплый Стан</td>\n",
       "    </tr>\n",
       "    <tr>\n",
       "      <td>33</td>\n",
       "      <td>ленинский проспект</td>\n",
       "      <td>148</td>\n",
       "      <td>21</td>\n",
       "      <td>ЦАО</td>\n",
       "      <td>Район Якиманка</td>\n",
       "    </tr>\n",
       "    <tr>\n",
       "      <td>34</td>\n",
       "      <td>проспект вернадского</td>\n",
       "      <td>128</td>\n",
       "      <td>44</td>\n",
       "      <td>ЗАО</td>\n",
       "      <td>Район Проспект Вернадского</td>\n",
       "    </tr>\n",
       "    <tr>\n",
       "      <td>35</td>\n",
       "      <td>проспект вернадского</td>\n",
       "      <td>128</td>\n",
       "      <td>45</td>\n",
       "      <td>ЗАО</td>\n",
       "      <td>Район Раменки</td>\n",
       "    </tr>\n",
       "    <tr>\n",
       "      <td>36</td>\n",
       "      <td>проспект вернадского</td>\n",
       "      <td>128</td>\n",
       "      <td>47</td>\n",
       "      <td>ЗАО</td>\n",
       "      <td>Район Тропарево-Никулино</td>\n",
       "    </tr>\n",
       "    <tr>\n",
       "      <td>37</td>\n",
       "      <td>проспект вернадского</td>\n",
       "      <td>128</td>\n",
       "      <td>124</td>\n",
       "      <td>ЮЗАО</td>\n",
       "      <td>Район Гагаринский</td>\n",
       "    </tr>\n",
       "    <tr>\n",
       "      <td>38</td>\n",
       "      <td>проспект вернадского</td>\n",
       "      <td>128</td>\n",
       "      <td>128</td>\n",
       "      <td>ЮЗАО</td>\n",
       "      <td>Ломоносовский район</td>\n",
       "    </tr>\n",
       "    <tr>\n",
       "      <td>39</td>\n",
       "      <td>кутузовский проспект</td>\n",
       "      <td>114</td>\n",
       "      <td>38</td>\n",
       "      <td>ЗАО</td>\n",
       "      <td>Район Дорогомилово</td>\n",
       "    </tr>\n",
       "    <tr>\n",
       "      <td>40</td>\n",
       "      <td>кутузовский проспект</td>\n",
       "      <td>114</td>\n",
       "      <td>49</td>\n",
       "      <td>ЗАО</td>\n",
       "      <td>Район Фили-Давыдково</td>\n",
       "    </tr>\n",
       "    <tr>\n",
       "      <td>41</td>\n",
       "      <td>каширское шоссе</td>\n",
       "      <td>111</td>\n",
       "      <td>101</td>\n",
       "      <td>ЮАО</td>\n",
       "      <td>Район Москворечье-Сабурово</td>\n",
       "    </tr>\n",
       "    <tr>\n",
       "      <td>42</td>\n",
       "      <td>каширское шоссе</td>\n",
       "      <td>111</td>\n",
       "      <td>102</td>\n",
       "      <td>ЮАО</td>\n",
       "      <td>Район Нагатино-Садовники</td>\n",
       "    </tr>\n",
       "    <tr>\n",
       "      <td>43</td>\n",
       "      <td>каширское шоссе</td>\n",
       "      <td>111</td>\n",
       "      <td>106</td>\n",
       "      <td>ЮАО</td>\n",
       "      <td>Район Орехово-Борисово Южное</td>\n",
       "    </tr>\n",
       "    <tr>\n",
       "      <td>44</td>\n",
       "      <td>каширское шоссе</td>\n",
       "      <td>111</td>\n",
       "      <td>105</td>\n",
       "      <td>ЮАО</td>\n",
       "      <td>Район Орехово-Борисово Северное</td>\n",
       "    </tr>\n",
       "    <tr>\n",
       "      <td>45</td>\n",
       "      <td>кировоградская улица</td>\n",
       "      <td>108</td>\n",
       "      <td>109</td>\n",
       "      <td>ЮАО</td>\n",
       "      <td>Район Чертаново Центральное</td>\n",
       "    </tr>\n",
       "    <tr>\n",
       "      <td>46</td>\n",
       "      <td>кировоградская улица</td>\n",
       "      <td>108</td>\n",
       "      <td>108</td>\n",
       "      <td>ЮАО</td>\n",
       "      <td>Район Чертаново Северное</td>\n",
       "    </tr>\n",
       "    <tr>\n",
       "      <td>47</td>\n",
       "      <td>кировоградская улица</td>\n",
       "      <td>108</td>\n",
       "      <td>110</td>\n",
       "      <td>ЮАО</td>\n",
       "      <td>Район Чертаново Южное</td>\n",
       "    </tr>\n",
       "  </tbody>\n",
       "</table>\n",
       "</div>"
      ],
      "text/plain": [
       "                streetname  number_of_places  areaid okrug  \\\n",
       "0            проспект мира               203      70  СВАО   \n",
       "1            проспект мира               203      86  СВАО   \n",
       "2            проспект мира               203      78  СВАО   \n",
       "3            проспект мира               203      79  СВАО   \n",
       "4            проспект мира               203      81  СВАО   \n",
       "5            проспект мира               203      82  СВАО   \n",
       "6            проспект мира               203      16   ЦАО   \n",
       "7        профсоюзная улица               182     123  ЮЗАО   \n",
       "8        профсоюзная улица               182     132  ЮЗАО   \n",
       "9        профсоюзная улица               182     134  ЮЗАО   \n",
       "10       профсоюзная улица               182     126  ЮЗАО   \n",
       "11       профсоюзная улица               182     129  ЮЗАО   \n",
       "12       профсоюзная улица               182     131  ЮЗАО   \n",
       "13  ленинградский проспект               172      54   САО   \n",
       "14  ленинградский проспект               172      55   САО   \n",
       "15  ленинградский проспект               172      69   САО   \n",
       "16  ленинградский проспект               172      66   САО   \n",
       "17  пресненская набережная               167      17   ЦАО   \n",
       "18        варшавское шоссе               162     109   ЮАО   \n",
       "19        варшавское шоссе               162     108   ЮАО   \n",
       "20        варшавское шоссе               162     110   ЮАО   \n",
       "21        варшавское шоссе               162      99   ЮАО   \n",
       "22        варшавское шоссе               162     102   ЮАО   \n",
       "23        варшавское шоссе               162     104   ЮАО   \n",
       "24        варшавское шоссе               162     130  ЮЗАО   \n",
       "25        варшавское шоссе               162     133  ЮЗАО   \n",
       "26      ленинский проспект               148      44   ЗАО   \n",
       "27      ленинский проспект               148      47   ЗАО   \n",
       "28      ленинский проспект               148      99   ЮАО   \n",
       "29      ленинский проспект               148     124  ЮЗАО   \n",
       "30      ленинский проспект               148     128  ЮЗАО   \n",
       "31      ленинский проспект               148     129  ЮЗАО   \n",
       "32      ленинский проспект               148     131  ЮЗАО   \n",
       "33      ленинский проспект               148      21   ЦАО   \n",
       "34    проспект вернадского               128      44   ЗАО   \n",
       "35    проспект вернадского               128      45   ЗАО   \n",
       "36    проспект вернадского               128      47   ЗАО   \n",
       "37    проспект вернадского               128     124  ЮЗАО   \n",
       "38    проспект вернадского               128     128  ЮЗАО   \n",
       "39    кутузовский проспект               114      38   ЗАО   \n",
       "40    кутузовский проспект               114      49   ЗАО   \n",
       "41         каширское шоссе               111     101   ЮАО   \n",
       "42         каширское шоссе               111     102   ЮАО   \n",
       "43         каширское шоссе               111     106   ЮАО   \n",
       "44         каширское шоссе               111     105   ЮАО   \n",
       "45    кировоградская улица               108     109   ЮАО   \n",
       "46    кировоградская улица               108     108   ЮАО   \n",
       "47    кировоградская улица               108     110   ЮАО   \n",
       "\n",
       "                               area  \n",
       "0                Алексеевский район  \n",
       "1                 Ярославский Район  \n",
       "2                Район Марьина роща  \n",
       "3                Останкинский район  \n",
       "4                   Район Ростокино  \n",
       "5                    Район Свиблово  \n",
       "6                   Мещанский район  \n",
       "7               Академический район  \n",
       "8                   Район Черемушки  \n",
       "9                     Район Ясенево  \n",
       "10                   Район Коньково  \n",
       "11                Обручевский район  \n",
       "12                Район Теплый Стан  \n",
       "13                   Район Аэропорт  \n",
       "14                    Район Беговой  \n",
       "15                Хорошевский район  \n",
       "16                      Район Сокол  \n",
       "17                Пресненский район  \n",
       "18      Район Чертаново Центральное  \n",
       "19         Район Чертаново Северное  \n",
       "20            Район Чертаново Южное  \n",
       "21                    Донской район  \n",
       "22         Район Нагатино-Садовники  \n",
       "23                   Нагорный район  \n",
       "24            Район Северное Бутово  \n",
       "25               Район Южное Бутово  \n",
       "26       Район Проспект Вернадского  \n",
       "27         Район Тропарево-Никулино  \n",
       "28                    Донской район  \n",
       "29                Район Гагаринский  \n",
       "30              Ломоносовский район  \n",
       "31                Обручевский район  \n",
       "32                Район Теплый Стан  \n",
       "33                   Район Якиманка  \n",
       "34       Район Проспект Вернадского  \n",
       "35                    Район Раменки  \n",
       "36         Район Тропарево-Никулино  \n",
       "37                Район Гагаринский  \n",
       "38              Ломоносовский район  \n",
       "39               Район Дорогомилово  \n",
       "40             Район Фили-Давыдково  \n",
       "41       Район Москворечье-Сабурово  \n",
       "42         Район Нагатино-Садовники  \n",
       "43     Район Орехово-Борисово Южное  \n",
       "44  Район Орехово-Борисово Северное  \n",
       "45      Район Чертаново Центральное  \n",
       "46         Район Чертаново Северное  \n",
       "47            Район Чертаново Южное  "
      ]
     },
     "execution_count": 22,
     "metadata": {},
     "output_type": "execute_result"
    }
   ],
   "source": [
    "top_10_streets = df.pivot_table(index='street', values='id', aggfunc='count').sort_values(by='id', ascending=False).head(10).reset_index()\n",
    "top_10_streets.columns = ['streetname', 'number_of_places']\n",
    "final_data = top_10_streets.merge(data_streets, on='streetname', how='left')\n",
    "final_data"
   ]
  },
  {
   "cell_type": "markdown",
   "metadata": {},
   "source": [
    "Также сгруппируем получившийся топ-10 по административным округам и подсчитаем количество улиц в каждом. Выведем получившиеся административные округа на экран.\n",
    "\n",
    "Таким образом, можно сделать вывод, что наиболее популярные округа для расположения заведений общественного питания - юг, юго-запад, запад и центр Москвы. На севере и северо-западе Москвы находится по одной популярной улице для мест общественного питания, ни одна улица с востока города не попала в топ-10. При этом стоит обратить внимание на то, что большинство улиц длинные (проспект, шоссе, которые, к тому же, входят в несколько административных округов), и, следовательно, можно предположить, что чем длиннее улица, тем больше мест общественного питания на ней расположено."
   ]
  },
  {
   "cell_type": "code",
   "execution_count": 23,
   "metadata": {},
   "outputs": [
    {
     "data": {
      "image/png": "[encoded data removed]",
      "text/plain": [
       "<Figure size 1080x720 with 1 Axes>"
      ]
     },
     "metadata": {
      "needs_background": "light"
     },
     "output_type": "display_data"
    }
   ],
   "source": [
    "final_data.groupby('okrug').agg({'streetname': 'nunique'}).sort_values(by='streetname').plot(kind='barh', figsize=(15, 10))\n",
    "plt.title('Распределение округов c наибольшим числом заведений на улицах')\n",
    "plt.xlabel('Частота')\n",
    "plt.ylabel('Округ')\n",
    "plt.show()"
   ]
  },
  {
   "cell_type": "markdown",
   "metadata": {},
   "source": [
    "### Улицы с одним объектом общественного питания"
   ]
  },
  {
   "cell_type": "markdown",
   "metadata": {},
   "source": [
    "По аналогии с топ-10 улиц по количеству заведений создадим датафрейм с улицами, на которых расположено только одно кафе. Таких улиц оказывается 638. Объединим получившийся датафрейм с данными Мосгаза об административных округах, в которые входят улицы, и выведем на экран"
   ]
  },
  {
   "cell_type": "code",
   "execution_count": 24,
   "metadata": {},
   "outputs": [
    {
     "name": "stdout",
     "output_type": "stream",
     "text": [
      "Число улиц с одним кафе: 638\n"
     ]
    },
    {
     "data": {
      "text/html": [
       "<div>\n",
       "<style scoped>\n",
       "    .dataframe tbody tr th:only-of-type {\n",
       "        vertical-align: middle;\n",
       "    }\n",
       "\n",
       "    .dataframe tbody tr th {\n",
       "        vertical-align: top;\n",
       "    }\n",
       "\n",
       "    .dataframe thead th {\n",
       "        text-align: right;\n",
       "    }\n",
       "</style>\n",
       "<table border=\"1\" class=\"dataframe\">\n",
       "  <thead>\n",
       "    <tr style=\"text-align: right;\">\n",
       "      <th></th>\n",
       "      <th>streetname</th>\n",
       "      <th>number</th>\n",
       "      <th>areaid</th>\n",
       "      <th>okrug</th>\n",
       "      <th>area</th>\n",
       "    </tr>\n",
       "  </thead>\n",
       "  <tbody>\n",
       "    <tr>\n",
       "      <td>0</td>\n",
       "      <td>1-й балтийский переулок</td>\n",
       "      <td>1</td>\n",
       "      <td>54.0</td>\n",
       "      <td>САО</td>\n",
       "      <td>Район Аэропорт</td>\n",
       "    </tr>\n",
       "    <tr>\n",
       "      <td>1</td>\n",
       "      <td>1-й басманный переулок</td>\n",
       "      <td>1</td>\n",
       "      <td>13.0</td>\n",
       "      <td>ЦАО</td>\n",
       "      <td>Басманный район</td>\n",
       "    </tr>\n",
       "    <tr>\n",
       "      <td>2</td>\n",
       "      <td>1-й басманный переулок</td>\n",
       "      <td>1</td>\n",
       "      <td>15.0</td>\n",
       "      <td>ЦАО</td>\n",
       "      <td>Красносельский район</td>\n",
       "    </tr>\n",
       "    <tr>\n",
       "      <td>3</td>\n",
       "      <td>1-й ботанический проезд</td>\n",
       "      <td>1</td>\n",
       "      <td>82.0</td>\n",
       "      <td>СВАО</td>\n",
       "      <td>Район Свиблово</td>\n",
       "    </tr>\n",
       "    <tr>\n",
       "      <td>4</td>\n",
       "      <td>1-й вешняковский проезд</td>\n",
       "      <td>1</td>\n",
       "      <td>120.0</td>\n",
       "      <td>ЮВАО</td>\n",
       "      <td>Рязанский район</td>\n",
       "    </tr>\n",
       "    <tr>\n",
       "      <td>5</td>\n",
       "      <td>1-й голутвинский переулок</td>\n",
       "      <td>1</td>\n",
       "      <td>21.0</td>\n",
       "      <td>ЦАО</td>\n",
       "      <td>Район Якиманка</td>\n",
       "    </tr>\n",
       "    <tr>\n",
       "      <td>6</td>\n",
       "      <td>1-й зачатьевский переулок</td>\n",
       "      <td>1</td>\n",
       "      <td>20.0</td>\n",
       "      <td>ЦАО</td>\n",
       "      <td>Район Хамовники</td>\n",
       "    </tr>\n",
       "    <tr>\n",
       "      <td>7</td>\n",
       "      <td>1-й кирпичный переулок</td>\n",
       "      <td>1</td>\n",
       "      <td>36.0</td>\n",
       "      <td>ВАО</td>\n",
       "      <td>Район Соколиная Гора</td>\n",
       "    </tr>\n",
       "    <tr>\n",
       "      <td>8</td>\n",
       "      <td>1-й кожевнический переулок</td>\n",
       "      <td>1</td>\n",
       "      <td>98.0</td>\n",
       "      <td>ЮАО</td>\n",
       "      <td>Даниловский район</td>\n",
       "    </tr>\n",
       "    <tr>\n",
       "      <td>9</td>\n",
       "      <td>1-й кожуховский проезд</td>\n",
       "      <td>1</td>\n",
       "      <td>98.0</td>\n",
       "      <td>ЮАО</td>\n",
       "      <td>Даниловский район</td>\n",
       "    </tr>\n",
       "  </tbody>\n",
       "</table>\n",
       "</div>"
      ],
      "text/plain": [
       "                   streetname  number  areaid okrug                  area\n",
       "0     1-й балтийский переулок       1    54.0   САО        Район Аэропорт\n",
       "1      1-й басманный переулок       1    13.0   ЦАО       Басманный район\n",
       "2      1-й басманный переулок       1    15.0   ЦАО  Красносельский район\n",
       "3     1-й ботанический проезд       1    82.0  СВАО        Район Свиблово\n",
       "4     1-й вешняковский проезд       1   120.0  ЮВАО       Рязанский район\n",
       "5   1-й голутвинский переулок       1    21.0   ЦАО        Район Якиманка\n",
       "6   1-й зачатьевский переулок       1    20.0   ЦАО       Район Хамовники\n",
       "7      1-й кирпичный переулок       1    36.0   ВАО  Район Соколиная Гора\n",
       "8  1-й кожевнический переулок       1    98.0   ЮАО     Даниловский район\n",
       "9      1-й кожуховский проезд       1    98.0   ЮАО     Даниловский район"
      ]
     },
     "execution_count": 24,
     "metadata": {},
     "output_type": "execute_result"
    }
   ],
   "source": [
    "streets_with_one_place = df.pivot_table(index='street', values='id', aggfunc='count').query('id == 1').reset_index()\n",
    "streets_with_one_place.columns = ['streetname', 'number']\n",
    "print('Число улиц с одним кафе:', len(streets_with_one_place))\n",
    "streets_with_one_place_final = streets_with_one_place.merge(data_streets, on='streetname', how='left')\n",
    "streets_with_one_place_final.head(10)"
   ]
  },
  {
   "cell_type": "markdown",
   "metadata": {},
   "source": [
    "Сгруппируем получившийся датафрейм по округам, подсчитаем количество уникальных улиц. На основе таблицы можно сделать вывод, что больше всего улиц с одним кафе находится в ЦАО, следом идут СВАО и ВАО. Можно предположить, что ЦАО лидирует из-за того, что улицы в центре могут быть короче (это косвенно подтверждают типы улиц в предыдущем выведенном датафрейме: \"переулок\", \"проезд\"), и поэтому на них в принципе может расположиться меньше заведений, чем на проспектах и шоссе.\n",
    "\n",
    "Что касается северо-востока, востока и юго-востока Москвы, в предыдущем разделе мы уже увидели, что они не являются лидерами по количеству расположенных заведений. Вероятно, мы натолкнулись на определенное неравенство в потреблении между округами Москвы (запад и юго-запад, кажется, имеют более активную ресторанную инфраструктуру), и было бы интересно более подробно изучить причины этого неравенства."
   ]
  },
  {
   "cell_type": "code",
   "execution_count": 25,
   "metadata": {},
   "outputs": [
    {
     "data": {
      "image/png": "[encoded data removed]",
      "text/plain": [
       "<Figure size 1080x720 with 1 Axes>"
      ]
     },
     "metadata": {
      "needs_background": "light"
     },
     "output_type": "display_data"
    }
   ],
   "source": [
    "streets_with_one_place_final.groupby('okrug').agg({'streetname': 'nunique'}).sort_values(by='streetname').plot(kind='barh', figsize=(15, 10))\n",
    "plt.title('Распределение округов с единственными заведениями на улицах')\n",
    "plt.xlabel('Частота')\n",
    "plt.ylabel('Округ')\n",
    "plt.show()"
   ]
  },
  {
   "cell_type": "markdown",
   "metadata": {},
   "source": [
    "### Распределение количества посадочных мест для улиц с большим числом заведений"
   ]
  },
  {
   "cell_type": "markdown",
   "metadata": {},
   "source": [
    "Рассмотрим распределение посадочных мест на самых популярных улицах, на которых располагается больше всего заведений общественного питания. Отберем наиболее популярные улицы, затем построим диаграммы размаха числа посадочных мест для каждой из них. В целом, как мы можем видеть, боксплоты находятся примерно на одном уровне, а значит, скорее всего статистически значимых различий между числом мест на разных улицах не будет. Однако мы можем увидеть, что медианы немного выше в группе Ленинского, Кутузовского, Ленинградского проспектов, проспекта Мира."
   ]
  },
  {
   "cell_type": "code",
   "execution_count": 26,
   "metadata": {},
   "outputs": [
    {
     "data": {
      "image/png": "[encoded data removed]",
      "text/plain": [
       "<Figure size 1080x720 with 1 Axes>"
      ]
     },
     "metadata": {
      "needs_background": "light"
     },
     "output_type": "display_data"
    }
   ],
   "source": [
    "top_streets = final_data['streetname'].unique()\n",
    "final_data_2 = df.query('street in @top_streets')\n",
    "\n",
    "plt.figure(figsize = (15,10))\n",
    "ax = sns.boxplot(x='street', y='number', data=final_data_2)\n",
    "ax.set_xticklabels(ax.get_xticklabels(), rotation=90)\n",
    "plt.xlabel('Улица')\n",
    "plt.ylabel('Число посадочных мест')\n",
    "plt.title('Распределение количества посадочных мест для улиц с большим числом заведений')\n",
    "plt.ylim(0, 750)\n",
    "plt.show()"
   ]
  },
  {
   "cell_type": "markdown",
   "metadata": {},
   "source": [
    "Также выведем описательную статистику в таблице по ситуации с числом посадочных мест на разных улицах. По медианному числу мест лидируют Ленинский, Кутузовский, Ленинградский проспектов, проспект Мира."
   ]
  },
  {
   "cell_type": "code",
   "execution_count": 27,
   "metadata": {},
   "outputs": [
    {
     "data": {
      "text/html": [
       "<div>\n",
       "<style scoped>\n",
       "    .dataframe tbody tr th:only-of-type {\n",
       "        vertical-align: middle;\n",
       "    }\n",
       "\n",
       "    .dataframe tbody tr th {\n",
       "        vertical-align: top;\n",
       "    }\n",
       "\n",
       "    .dataframe thead tr th {\n",
       "        text-align: left;\n",
       "    }\n",
       "\n",
       "    .dataframe thead tr:last-of-type th {\n",
       "        text-align: right;\n",
       "    }\n",
       "</style>\n",
       "<table border=\"1\" class=\"dataframe\">\n",
       "  <thead>\n",
       "    <tr>\n",
       "      <th></th>\n",
       "      <th colspan=\"8\" halign=\"left\">number</th>\n",
       "    </tr>\n",
       "    <tr>\n",
       "      <th></th>\n",
       "      <th>count</th>\n",
       "      <th>mean</th>\n",
       "      <th>std</th>\n",
       "      <th>min</th>\n",
       "      <th>25%</th>\n",
       "      <th>50%</th>\n",
       "      <th>75%</th>\n",
       "      <th>max</th>\n",
       "    </tr>\n",
       "    <tr>\n",
       "      <th>street</th>\n",
       "      <th></th>\n",
       "      <th></th>\n",
       "      <th></th>\n",
       "      <th></th>\n",
       "      <th></th>\n",
       "      <th></th>\n",
       "      <th></th>\n",
       "      <th></th>\n",
       "    </tr>\n",
       "  </thead>\n",
       "  <tbody>\n",
       "    <tr>\n",
       "      <td>варшавское шоссе</td>\n",
       "      <td>162.0</td>\n",
       "      <td>52.672840</td>\n",
       "      <td>74.905807</td>\n",
       "      <td>0.0</td>\n",
       "      <td>8.0</td>\n",
       "      <td>30.0</td>\n",
       "      <td>64.00</td>\n",
       "      <td>500.0</td>\n",
       "    </tr>\n",
       "    <tr>\n",
       "      <td>каширское шоссе</td>\n",
       "      <td>111.0</td>\n",
       "      <td>55.504505</td>\n",
       "      <td>87.962376</td>\n",
       "      <td>0.0</td>\n",
       "      <td>7.0</td>\n",
       "      <td>25.0</td>\n",
       "      <td>77.50</td>\n",
       "      <td>680.0</td>\n",
       "    </tr>\n",
       "    <tr>\n",
       "      <td>кировоградская улица</td>\n",
       "      <td>108.0</td>\n",
       "      <td>59.787037</td>\n",
       "      <td>79.480327</td>\n",
       "      <td>0.0</td>\n",
       "      <td>6.0</td>\n",
       "      <td>30.0</td>\n",
       "      <td>65.50</td>\n",
       "      <td>300.0</td>\n",
       "    </tr>\n",
       "    <tr>\n",
       "      <td>кутузовский проспект</td>\n",
       "      <td>114.0</td>\n",
       "      <td>85.061404</td>\n",
       "      <td>194.464196</td>\n",
       "      <td>0.0</td>\n",
       "      <td>20.0</td>\n",
       "      <td>40.0</td>\n",
       "      <td>96.00</td>\n",
       "      <td>1700.0</td>\n",
       "    </tr>\n",
       "    <tr>\n",
       "      <td>ленинградский проспект</td>\n",
       "      <td>172.0</td>\n",
       "      <td>52.337209</td>\n",
       "      <td>63.116640</td>\n",
       "      <td>0.0</td>\n",
       "      <td>15.0</td>\n",
       "      <td>40.0</td>\n",
       "      <td>70.00</td>\n",
       "      <td>625.0</td>\n",
       "    </tr>\n",
       "    <tr>\n",
       "      <td>ленинский проспект</td>\n",
       "      <td>148.0</td>\n",
       "      <td>63.148649</td>\n",
       "      <td>67.850412</td>\n",
       "      <td>0.0</td>\n",
       "      <td>20.0</td>\n",
       "      <td>45.0</td>\n",
       "      <td>80.00</td>\n",
       "      <td>495.0</td>\n",
       "    </tr>\n",
       "    <tr>\n",
       "      <td>пресненская набережная</td>\n",
       "      <td>167.0</td>\n",
       "      <td>45.844311</td>\n",
       "      <td>65.316834</td>\n",
       "      <td>0.0</td>\n",
       "      <td>8.5</td>\n",
       "      <td>30.0</td>\n",
       "      <td>50.00</td>\n",
       "      <td>478.0</td>\n",
       "    </tr>\n",
       "    <tr>\n",
       "      <td>проспект вернадского</td>\n",
       "      <td>128.0</td>\n",
       "      <td>68.804688</td>\n",
       "      <td>123.295181</td>\n",
       "      <td>0.0</td>\n",
       "      <td>20.0</td>\n",
       "      <td>40.0</td>\n",
       "      <td>80.00</td>\n",
       "      <td>1288.0</td>\n",
       "    </tr>\n",
       "    <tr>\n",
       "      <td>проспект мира</td>\n",
       "      <td>203.0</td>\n",
       "      <td>63.004926</td>\n",
       "      <td>58.952615</td>\n",
       "      <td>0.0</td>\n",
       "      <td>20.0</td>\n",
       "      <td>48.0</td>\n",
       "      <td>90.00</td>\n",
       "      <td>326.0</td>\n",
       "    </tr>\n",
       "    <tr>\n",
       "      <td>профсоюзная улица</td>\n",
       "      <td>182.0</td>\n",
       "      <td>47.620879</td>\n",
       "      <td>57.493734</td>\n",
       "      <td>0.0</td>\n",
       "      <td>5.0</td>\n",
       "      <td>24.5</td>\n",
       "      <td>68.75</td>\n",
       "      <td>240.0</td>\n",
       "    </tr>\n",
       "  </tbody>\n",
       "</table>\n",
       "</div>"
      ],
      "text/plain": [
       "                       number                                                 \\\n",
       "                        count       mean         std  min   25%   50%    75%   \n",
       "street                                                                         \n",
       "варшавское шоссе        162.0  52.672840   74.905807  0.0   8.0  30.0  64.00   \n",
       "каширское шоссе         111.0  55.504505   87.962376  0.0   7.0  25.0  77.50   \n",
       "кировоградская улица    108.0  59.787037   79.480327  0.0   6.0  30.0  65.50   \n",
       "кутузовский проспект    114.0  85.061404  194.464196  0.0  20.0  40.0  96.00   \n",
       "ленинградский проспект  172.0  52.337209   63.116640  0.0  15.0  40.0  70.00   \n",
       "ленинский проспект      148.0  63.148649   67.850412  0.0  20.0  45.0  80.00   \n",
       "пресненская набережная  167.0  45.844311   65.316834  0.0   8.5  30.0  50.00   \n",
       "проспект вернадского    128.0  68.804688  123.295181  0.0  20.0  40.0  80.00   \n",
       "проспект мира           203.0  63.004926   58.952615  0.0  20.0  48.0  90.00   \n",
       "профсоюзная улица       182.0  47.620879   57.493734  0.0   5.0  24.5  68.75   \n",
       "\n",
       "                                \n",
       "                           max  \n",
       "street                          \n",
       "варшавское шоссе         500.0  \n",
       "каширское шоссе          680.0  \n",
       "кировоградская улица     300.0  \n",
       "кутузовский проспект    1700.0  \n",
       "ленинградский проспект   625.0  \n",
       "ленинский проспект       495.0  \n",
       "пресненская набережная   478.0  \n",
       "проспект вернадского    1288.0  \n",
       "проспект мира            326.0  \n",
       "профсоюзная улица        240.0  "
      ]
     },
     "execution_count": 27,
     "metadata": {},
     "output_type": "execute_result"
    }
   ],
   "source": [
    "final_data_2.groupby('street').describe()"
   ]
  },
  {
   "cell_type": "markdown",
   "metadata": {},
   "source": [
    "### Вывод по разделу\n",
    "\n",
    "В этом разделе мы провели анализ по рынку общественного питания в Москве. Основные выводы:\n",
    "* Что касается типов заведений общественного питания, то в Москве больше всего кафе, эта категория лидирует с большим отрывом. Далее идут столовая и ресторан. Меньше всего в Москве кулинарий в продуктовых магазинах\n",
    "* Большинство заведений, 82.7 %, являются несетевыми. Примерно каждое 6-ое заведение (17.3 %) является сетевым\n",
    "* По доле сетевых заведений лидируют предприятия быстрого обслуживания (39 % - сетевые заведения). Далее около четверти заведений в категории магазинов - сетевые, около 1/5 в категории ресторанов и кафе - сетевые. Практически нулевая доля сетевых заведений в категориях столовых, баров и буфетов. Таким образом, мы можем сделать вывод, что сетевое распространение характерно для ресторанов фаст-фуда\n",
    "* Большинство сетевых заведений сконцентрированы в районе до 20 заведений, то есть большие сети мало распространены. В числе посадочных мест мы можем наблюдать больший разброс - достаточно много заведений имеют порядка 100-150 мест. Таким образом, можно сделать вывод, что сетевые заведения скорее предпочитают иметь большое количество посадочных мест и мало заведений в сети\n",
    "* Лидерами по среднему числу посадочных мест являются столовая, ресторан и буфет. Меньше всего посадочных мест в отделах кулинарии продуктовых магазинов\n",
    "* Наиболее популярные округа для расположения заведений общественного питания - юг, юго-запад, запад и центр Москвы. На севере и северо-западе Москвы находится по одной популярной улице для мест общественного питания, ни одна улица с востока города не попала в топ-10. При этом стоит обратить внимание на то, что большинство улиц длинные (проспект, шоссе, которые, к тому же, входят в несколько административных округов), и, следовательно, можно предположить, что чем длиннее улица, тем больше мест общественного питания на ней расположено\n",
    "* Больше всего улиц с единственным кафе находится в ЦАО, следом идут СВАО, ВАО, ЮВАО. Можно предположить, что ЦАО лидирует из-за того, что улицы в центре могут быть короче. Малое число заведений на северо-востоке, востоке, юго-востоке может быть следствием социального неравенства (то есть малое число кофе может значить, что местные жители не могут позволить себе их посещать) и требует дополнительного рассмотрения причин такого распределения\n",
    "\n",
    "Что касается рекомендаций о виде заведения, количестве посадочных мест, районе расположения, то они могут быть следующими:\n",
    "* Если мы говорим об открытии первого кафе, то оно и так будет несетевым с самого начала. Если задумываться о создании сети, то стоит, как и другие сети, ориентироваться на увеличение количества посадочных мест в каждой сети, а не на увеличении числа филиалов. Вероятно, арендовать помещение побольше более выгодно, чем открывать полностью новый филиал.\n",
    "* Выбор типа заведения общественного питания зависит от целей создателей: если цель - занять новую нишу, которую никто не заполнил, то стоит выбрать размещение в отделе кулинарии или открытие закусочной, кафетерия, буфета. Если цель - следовать проверенным вариантам, которых придерживаются все остальные участники рынка, то можно открыть ресторан, столовую или кафе\n",
    "* Что касается места выбора размещения, тут, вероятно, стоит провести дополнительное исследование с использованием инструментов геомаркетинга. С одной стороны, много заведений общественного питания размещается на юге, юго-западе, западе Москвы. Следовательно, там мы можем ожидать большой конкуренции с другими участниками рынка, и поэтому имеет смысл размещать кафе на северо-востоке, востоке или юго-востоке Москвы. Однако тот факт, что другие участники рынка меньше размещают там свои объекты, может говорить о непривлекательности этих районов, о более низком уровне благосостояния жителей районов, которые, допустим, не могут позволить себе посещать эти заведения. Поэтому стоит провести дополнительное исследование районов Москвы."
   ]
  }
 ],
 "metadata": {
  "ExecuteTimeLog": [
   {
    "duration": 1124,
    "start_time": "2022-03-09T17:01:55.105Z"
   },
   {
    "duration": 58,
    "start_time": "2022-03-09T17:02:13.893Z"
   },
   {
    "duration": 1283,
    "start_time": "2022-03-09T19:10:11.045Z"
   },
   {
    "duration": 54,
    "start_time": "2022-03-09T19:10:12.330Z"
   },
   {
    "duration": 12,
    "start_time": "2022-03-09T19:10:19.286Z"
   },
   {
    "duration": 314,
    "start_time": "2022-03-09T19:22:01.259Z"
   },
   {
    "duration": 5,
    "start_time": "2022-03-09T19:22:17.234Z"
   },
   {
    "duration": 13,
    "start_time": "2022-03-09T19:22:24.199Z"
   },
   {
    "duration": 5,
    "start_time": "2022-03-09T19:23:09.123Z"
   },
   {
    "duration": 23,
    "start_time": "2022-03-09T19:25:02.221Z"
   },
   {
    "duration": 194,
    "start_time": "2022-03-09T19:33:30.206Z"
   },
   {
    "duration": 32,
    "start_time": "2022-03-09T19:33:38.219Z"
   },
   {
    "duration": 31,
    "start_time": "2022-03-09T19:34:01.433Z"
   },
   {
    "duration": 33,
    "start_time": "2022-03-09T19:34:05.863Z"
   },
   {
    "duration": 25,
    "start_time": "2022-03-09T19:34:22.051Z"
   },
   {
    "duration": 178,
    "start_time": "2022-03-09T19:36:10.652Z"
   },
   {
    "duration": 16,
    "start_time": "2022-03-09T19:36:15.212Z"
   },
   {
    "duration": 17,
    "start_time": "2022-03-09T19:37:26.869Z"
   },
   {
    "duration": 18,
    "start_time": "2022-03-09T19:37:34.404Z"
   },
   {
    "duration": 18,
    "start_time": "2022-03-09T19:39:17.470Z"
   },
   {
    "duration": 15,
    "start_time": "2022-03-09T19:43:16.031Z"
   },
   {
    "duration": 3,
    "start_time": "2022-03-09T19:43:20.754Z"
   },
   {
    "duration": 60,
    "start_time": "2022-03-09T19:43:20.759Z"
   },
   {
    "duration": 10,
    "start_time": "2022-03-09T19:43:20.821Z"
   },
   {
    "duration": 17,
    "start_time": "2022-03-09T19:43:20.833Z"
   },
   {
    "duration": 51,
    "start_time": "2022-03-09T19:43:20.852Z"
   },
   {
    "duration": 26,
    "start_time": "2022-03-09T19:43:20.905Z"
   },
   {
    "duration": 16,
    "start_time": "2022-03-09T19:43:23.356Z"
   },
   {
    "duration": 32,
    "start_time": "2022-03-09T19:44:09.685Z"
   },
   {
    "duration": 7,
    "start_time": "2022-03-09T19:47:33.885Z"
   },
   {
    "duration": 5,
    "start_time": "2022-03-09T19:48:27.117Z"
   },
   {
    "duration": 8,
    "start_time": "2022-03-09T19:48:41.589Z"
   },
   {
    "duration": 19,
    "start_time": "2022-03-09T19:50:05.541Z"
   },
   {
    "duration": 183,
    "start_time": "2022-03-09T19:51:12.313Z"
   },
   {
    "duration": 34,
    "start_time": "2022-03-09T19:51:18.923Z"
   },
   {
    "duration": 20,
    "start_time": "2022-03-09T19:51:34.414Z"
   },
   {
    "duration": 25,
    "start_time": "2022-03-09T19:51:48.299Z"
   },
   {
    "duration": 261,
    "start_time": "2022-03-09T19:54:16.196Z"
   },
   {
    "duration": 18,
    "start_time": "2022-03-09T19:55:38.455Z"
   },
   {
    "duration": 16,
    "start_time": "2022-03-09T19:58:38.945Z"
   },
   {
    "duration": 14,
    "start_time": "2022-03-09T19:59:14.025Z"
   },
   {
    "duration": 20,
    "start_time": "2022-03-09T19:59:43.675Z"
   },
   {
    "duration": 17,
    "start_time": "2022-03-09T20:00:54.253Z"
   },
   {
    "duration": 19,
    "start_time": "2022-03-09T20:02:29.360Z"
   },
   {
    "duration": 130,
    "start_time": "2022-03-09T20:05:17.562Z"
   },
   {
    "duration": 7,
    "start_time": "2022-03-09T20:05:53.968Z"
   },
   {
    "duration": 18,
    "start_time": "2022-03-09T20:06:22.936Z"
   },
   {
    "duration": 8,
    "start_time": "2022-03-09T20:11:00.020Z"
   },
   {
    "duration": 18,
    "start_time": "2022-03-09T20:11:30.178Z"
   },
   {
    "duration": 4476,
    "start_time": "2022-03-09T20:12:24.422Z"
   },
   {
    "duration": 9,
    "start_time": "2022-03-09T20:12:36.380Z"
   },
   {
    "duration": 203,
    "start_time": "2022-03-09T20:12:58.501Z"
   },
   {
    "duration": 9,
    "start_time": "2022-03-09T20:13:17.460Z"
   },
   {
    "duration": 21,
    "start_time": "2022-03-09T20:13:54.322Z"
   },
   {
    "duration": 7,
    "start_time": "2022-03-09T20:13:58.638Z"
   },
   {
    "duration": 20,
    "start_time": "2022-03-09T20:14:10.364Z"
   },
   {
    "duration": 12,
    "start_time": "2022-03-09T20:14:56.361Z"
   },
   {
    "duration": 1651,
    "start_time": "2022-03-10T12:46:37.284Z"
   },
   {
    "duration": 66,
    "start_time": "2022-03-10T12:46:38.937Z"
   },
   {
    "duration": 9,
    "start_time": "2022-03-10T12:46:39.005Z"
   },
   {
    "duration": 14,
    "start_time": "2022-03-10T12:46:39.017Z"
   },
   {
    "duration": 48,
    "start_time": "2022-03-10T12:46:39.033Z"
   },
   {
    "duration": 24,
    "start_time": "2022-03-10T12:46:39.083Z"
   },
   {
    "duration": 15,
    "start_time": "2022-03-10T12:46:39.109Z"
   },
   {
    "duration": 58,
    "start_time": "2022-03-10T12:46:39.126Z"
   },
   {
    "duration": 21,
    "start_time": "2022-03-10T12:46:41.663Z"
   },
   {
    "duration": 9,
    "start_time": "2022-03-10T12:48:47.341Z"
   },
   {
    "duration": 30,
    "start_time": "2022-03-10T12:49:05.439Z"
   },
   {
    "duration": 6,
    "start_time": "2022-03-10T12:49:27.795Z"
   },
   {
    "duration": 18,
    "start_time": "2022-03-10T12:49:43.417Z"
   },
   {
    "duration": 7,
    "start_time": "2022-03-10T12:49:47.675Z"
   },
   {
    "duration": 16,
    "start_time": "2022-03-10T12:49:50.117Z"
   },
   {
    "duration": 8,
    "start_time": "2022-03-10T12:50:50.697Z"
   },
   {
    "duration": 8,
    "start_time": "2022-03-10T12:51:06.745Z"
   },
   {
    "duration": 26,
    "start_time": "2022-03-10T12:51:37.079Z"
   },
   {
    "duration": 17,
    "start_time": "2022-03-10T12:51:48.791Z"
   },
   {
    "duration": 7,
    "start_time": "2022-03-10T12:52:33.758Z"
   },
   {
    "duration": 13,
    "start_time": "2022-03-10T12:52:37.332Z"
   },
   {
    "duration": 25,
    "start_time": "2022-03-10T12:52:49.150Z"
   },
   {
    "duration": 12,
    "start_time": "2022-03-10T12:53:42.514Z"
   },
   {
    "duration": 3,
    "start_time": "2022-03-10T12:53:49.767Z"
   },
   {
    "duration": 57,
    "start_time": "2022-03-10T12:53:49.772Z"
   },
   {
    "duration": 9,
    "start_time": "2022-03-10T12:53:49.830Z"
   },
   {
    "duration": 25,
    "start_time": "2022-03-10T12:53:49.840Z"
   },
   {
    "duration": 30,
    "start_time": "2022-03-10T12:53:49.867Z"
   },
   {
    "duration": 39,
    "start_time": "2022-03-10T12:53:49.900Z"
   },
   {
    "duration": 15,
    "start_time": "2022-03-10T12:53:49.941Z"
   },
   {
    "duration": 46,
    "start_time": "2022-03-10T12:53:49.958Z"
   },
   {
    "duration": 18,
    "start_time": "2022-03-10T12:53:50.006Z"
   },
   {
    "duration": 8,
    "start_time": "2022-03-10T12:53:53.099Z"
   },
   {
    "duration": 18,
    "start_time": "2022-03-10T12:53:55.461Z"
   },
   {
    "duration": 5,
    "start_time": "2022-03-10T13:00:45.162Z"
   },
   {
    "duration": 10,
    "start_time": "2022-03-10T13:00:50.370Z"
   },
   {
    "duration": 4,
    "start_time": "2022-03-10T13:02:36.676Z"
   },
   {
    "duration": 6,
    "start_time": "2022-03-10T13:02:52.134Z"
   },
   {
    "duration": 11,
    "start_time": "2022-03-10T13:02:55.421Z"
   },
   {
    "duration": 8,
    "start_time": "2022-03-10T13:03:56.492Z"
   },
   {
    "duration": 7,
    "start_time": "2022-03-10T13:04:06.500Z"
   },
   {
    "duration": 7,
    "start_time": "2022-03-10T13:04:14.738Z"
   },
   {
    "duration": 19,
    "start_time": "2022-03-10T13:04:45.014Z"
   },
   {
    "duration": 3,
    "start_time": "2022-03-10T13:04:51.809Z"
   },
   {
    "duration": 72,
    "start_time": "2022-03-10T13:04:51.814Z"
   },
   {
    "duration": 9,
    "start_time": "2022-03-10T13:04:51.888Z"
   },
   {
    "duration": 29,
    "start_time": "2022-03-10T13:04:51.898Z"
   },
   {
    "duration": 44,
    "start_time": "2022-03-10T13:04:51.928Z"
   },
   {
    "duration": 33,
    "start_time": "2022-03-10T13:04:51.973Z"
   },
   {
    "duration": 20,
    "start_time": "2022-03-10T13:04:52.008Z"
   },
   {
    "duration": 43,
    "start_time": "2022-03-10T13:04:52.031Z"
   },
   {
    "duration": 17,
    "start_time": "2022-03-10T13:04:52.076Z"
   },
   {
    "duration": 21,
    "start_time": "2022-03-10T13:04:52.095Z"
   },
   {
    "duration": 33,
    "start_time": "2022-03-10T13:04:52.117Z"
   },
   {
    "duration": 13,
    "start_time": "2022-03-10T13:05:02.367Z"
   },
   {
    "duration": 16,
    "start_time": "2022-03-10T13:05:11.806Z"
   },
   {
    "duration": 21,
    "start_time": "2022-03-10T13:05:46.893Z"
   },
   {
    "duration": 16,
    "start_time": "2022-03-10T13:14:05.897Z"
   },
   {
    "duration": 3,
    "start_time": "2022-03-10T13:22:27.722Z"
   },
   {
    "duration": 58,
    "start_time": "2022-03-10T13:22:27.727Z"
   },
   {
    "duration": 9,
    "start_time": "2022-03-10T13:22:27.787Z"
   },
   {
    "duration": 12,
    "start_time": "2022-03-10T13:22:27.798Z"
   },
   {
    "duration": 29,
    "start_time": "2022-03-10T13:22:27.812Z"
   },
   {
    "duration": 53,
    "start_time": "2022-03-10T13:22:27.843Z"
   },
   {
    "duration": 14,
    "start_time": "2022-03-10T13:22:27.898Z"
   },
   {
    "duration": 3,
    "start_time": "2022-03-10T13:22:45.639Z"
   },
   {
    "duration": 58,
    "start_time": "2022-03-10T13:22:45.644Z"
   },
   {
    "duration": 8,
    "start_time": "2022-03-10T13:22:45.705Z"
   },
   {
    "duration": 14,
    "start_time": "2022-03-10T13:22:45.715Z"
   },
   {
    "duration": 53,
    "start_time": "2022-03-10T13:22:45.731Z"
   },
   {
    "duration": 29,
    "start_time": "2022-03-10T13:22:45.786Z"
   },
   {
    "duration": 14,
    "start_time": "2022-03-10T13:22:51.238Z"
   },
   {
    "duration": 30,
    "start_time": "2022-03-10T13:23:21.354Z"
   },
   {
    "duration": 28,
    "start_time": "2022-03-10T13:23:34.377Z"
   },
   {
    "duration": 2,
    "start_time": "2022-03-10T13:23:41.981Z"
   },
   {
    "duration": 61,
    "start_time": "2022-03-10T13:23:41.985Z"
   },
   {
    "duration": 8,
    "start_time": "2022-03-10T13:23:42.048Z"
   },
   {
    "duration": 15,
    "start_time": "2022-03-10T13:23:42.058Z"
   },
   {
    "duration": 30,
    "start_time": "2022-03-10T13:23:42.075Z"
   },
   {
    "duration": 22,
    "start_time": "2022-03-10T13:23:42.107Z"
   },
   {
    "duration": 13,
    "start_time": "2022-03-10T13:23:42.131Z"
   },
   {
    "duration": 28,
    "start_time": "2022-03-10T13:23:46.216Z"
   },
   {
    "duration": 2,
    "start_time": "2022-03-10T13:34:43.244Z"
   },
   {
    "duration": 417,
    "start_time": "2022-03-10T13:35:46.978Z"
   },
   {
    "duration": 1523,
    "start_time": "2022-03-11T09:25:40.225Z"
   },
   {
    "duration": 1433,
    "start_time": "2022-03-11T10:39:21.086Z"
   },
   {
    "duration": 61,
    "start_time": "2022-03-11T10:39:22.521Z"
   },
   {
    "duration": 8,
    "start_time": "2022-03-11T10:39:22.584Z"
   },
   {
    "duration": 12,
    "start_time": "2022-03-11T10:39:22.594Z"
   },
   {
    "duration": 27,
    "start_time": "2022-03-11T10:39:22.607Z"
   },
   {
    "duration": 41,
    "start_time": "2022-03-11T10:39:22.636Z"
   },
   {
    "duration": 14,
    "start_time": "2022-03-11T10:39:22.678Z"
   },
   {
    "duration": 26,
    "start_time": "2022-03-11T10:39:22.694Z"
   },
   {
    "duration": 44,
    "start_time": "2022-03-11T10:39:22.722Z"
   },
   {
    "duration": 14,
    "start_time": "2022-03-11T10:39:22.768Z"
   },
   {
    "duration": 21,
    "start_time": "2022-03-11T10:39:22.783Z"
   },
   {
    "duration": 1483,
    "start_time": "2022-03-11T10:39:45.252Z"
   },
   {
    "duration": 51,
    "start_time": "2022-03-11T10:39:46.737Z"
   },
   {
    "duration": 8,
    "start_time": "2022-03-11T10:39:46.790Z"
   },
   {
    "duration": 12,
    "start_time": "2022-03-11T10:39:46.800Z"
   },
   {
    "duration": 31,
    "start_time": "2022-03-11T10:39:46.814Z"
   },
   {
    "duration": 32,
    "start_time": "2022-03-11T10:39:46.847Z"
   },
   {
    "duration": 13,
    "start_time": "2022-03-11T10:39:46.881Z"
   },
   {
    "duration": 26,
    "start_time": "2022-03-11T10:39:46.896Z"
   },
   {
    "duration": 45,
    "start_time": "2022-03-11T10:39:46.925Z"
   },
   {
    "duration": 15,
    "start_time": "2022-03-11T10:39:46.972Z"
   },
   {
    "duration": 27,
    "start_time": "2022-03-11T10:39:46.988Z"
   },
   {
    "duration": 15,
    "start_time": "2022-03-11T10:40:26.357Z"
   },
   {
    "duration": 3,
    "start_time": "2022-03-11T10:40:29.690Z"
   },
   {
    "duration": 54,
    "start_time": "2022-03-11T10:40:29.695Z"
   },
   {
    "duration": 8,
    "start_time": "2022-03-11T10:40:29.752Z"
   },
   {
    "duration": 11,
    "start_time": "2022-03-11T10:40:29.762Z"
   },
   {
    "duration": 26,
    "start_time": "2022-03-11T10:40:29.775Z"
   },
   {
    "duration": 25,
    "start_time": "2022-03-11T10:40:29.803Z"
   },
   {
    "duration": 15,
    "start_time": "2022-03-11T10:40:29.829Z"
   },
   {
    "duration": 26,
    "start_time": "2022-03-11T10:40:29.863Z"
   },
   {
    "duration": 18,
    "start_time": "2022-03-11T10:40:34.369Z"
   },
   {
    "duration": 16,
    "start_time": "2022-03-11T10:40:40.640Z"
   },
   {
    "duration": 339,
    "start_time": "2022-03-11T10:40:58.635Z"
   },
   {
    "duration": 529,
    "start_time": "2022-03-11T10:41:35.057Z"
   },
   {
    "duration": 723,
    "start_time": "2022-03-11T10:42:47.776Z"
   },
   {
    "duration": 408,
    "start_time": "2022-03-11T10:42:57.792Z"
   },
   {
    "duration": 365,
    "start_time": "2022-03-11T10:43:40.523Z"
   },
   {
    "duration": 23,
    "start_time": "2022-03-11T10:44:51.755Z"
   },
   {
    "duration": 494,
    "start_time": "2022-03-11T10:44:54.343Z"
   },
   {
    "duration": 434,
    "start_time": "2022-03-11T10:45:43.257Z"
   },
   {
    "duration": 420,
    "start_time": "2022-03-11T10:51:23.840Z"
   },
   {
    "duration": 7,
    "start_time": "2022-03-11T10:51:33.571Z"
   },
   {
    "duration": 4,
    "start_time": "2022-03-11T10:52:21.033Z"
   },
   {
    "duration": 9,
    "start_time": "2022-03-11T10:52:28.609Z"
   },
   {
    "duration": 9,
    "start_time": "2022-03-11T10:53:11.963Z"
   },
   {
    "duration": 11,
    "start_time": "2022-03-11T14:22:32.959Z"
   },
   {
    "duration": 484,
    "start_time": "2022-03-11T14:47:23.061Z"
   },
   {
    "duration": 6,
    "start_time": "2022-03-11T14:50:34.804Z"
   },
   {
    "duration": 6,
    "start_time": "2022-03-11T14:50:43.250Z"
   },
   {
    "duration": 6,
    "start_time": "2022-03-11T14:51:13.938Z"
   },
   {
    "duration": 7,
    "start_time": "2022-03-11T14:51:24.998Z"
   },
   {
    "duration": 7,
    "start_time": "2022-03-11T14:51:45.811Z"
   },
   {
    "duration": 9,
    "start_time": "2022-03-11T14:53:10.185Z"
   },
   {
    "duration": 10,
    "start_time": "2022-03-11T14:53:18.193Z"
   },
   {
    "duration": 11,
    "start_time": "2022-03-11T14:54:00.914Z"
   },
   {
    "duration": 13,
    "start_time": "2022-03-11T14:54:37.669Z"
   },
   {
    "duration": 11,
    "start_time": "2022-03-11T14:54:46.940Z"
   },
   {
    "duration": 63,
    "start_time": "2022-03-11T14:55:47.878Z"
   },
   {
    "duration": 187,
    "start_time": "2022-03-11T14:56:03.052Z"
   },
   {
    "duration": 194,
    "start_time": "2022-03-11T14:56:55.838Z"
   },
   {
    "duration": 12,
    "start_time": "2022-03-11T14:57:25.650Z"
   },
   {
    "duration": 24,
    "start_time": "2022-03-11T15:09:58.232Z"
   },
   {
    "duration": 28,
    "start_time": "2022-03-11T15:10:12.136Z"
   },
   {
    "duration": 29,
    "start_time": "2022-03-11T15:10:27.412Z"
   },
   {
    "duration": 63,
    "start_time": "2022-03-11T15:10:37.617Z"
   },
   {
    "duration": 63,
    "start_time": "2022-03-11T15:10:41.367Z"
   },
   {
    "duration": 16,
    "start_time": "2022-03-11T15:10:50.987Z"
   },
   {
    "duration": 17,
    "start_time": "2022-03-11T15:10:54.292Z"
   },
   {
    "duration": 929,
    "start_time": "2022-03-11T15:11:00.751Z"
   },
   {
    "duration": 933,
    "start_time": "2022-03-11T15:11:07.917Z"
   },
   {
    "duration": 15,
    "start_time": "2022-03-11T15:11:16.727Z"
   },
   {
    "duration": 26,
    "start_time": "2022-03-11T15:12:07.806Z"
   },
   {
    "duration": 242,
    "start_time": "2022-03-11T15:13:31.908Z"
   },
   {
    "duration": 22,
    "start_time": "2022-03-11T15:13:48.873Z"
   },
   {
    "duration": 30,
    "start_time": "2022-03-11T15:14:41.707Z"
   },
   {
    "duration": 22,
    "start_time": "2022-03-11T15:14:50.019Z"
   },
   {
    "duration": 3,
    "start_time": "2022-03-11T15:15:29.060Z"
   },
   {
    "duration": 52,
    "start_time": "2022-03-11T15:15:29.065Z"
   },
   {
    "duration": 9,
    "start_time": "2022-03-11T15:15:29.119Z"
   },
   {
    "duration": 33,
    "start_time": "2022-03-11T15:15:29.130Z"
   },
   {
    "duration": 30,
    "start_time": "2022-03-11T15:15:29.165Z"
   },
   {
    "duration": 22,
    "start_time": "2022-03-11T15:15:29.196Z"
   },
   {
    "duration": 14,
    "start_time": "2022-03-11T15:15:29.220Z"
   },
   {
    "duration": 27,
    "start_time": "2022-03-11T15:15:29.263Z"
   },
   {
    "duration": 17,
    "start_time": "2022-03-11T15:15:29.292Z"
   },
   {
    "duration": 14,
    "start_time": "2022-03-11T15:15:29.311Z"
   },
   {
    "duration": 50,
    "start_time": "2022-03-11T15:15:29.327Z"
   },
   {
    "duration": 344,
    "start_time": "2022-03-11T15:15:29.379Z"
   },
   {
    "duration": 241,
    "start_time": "2022-03-11T15:15:29.725Z"
   },
   {
    "duration": 416,
    "start_time": "2022-03-11T15:15:29.968Z"
   },
   {
    "duration": 10,
    "start_time": "2022-03-11T15:15:30.386Z"
   },
   {
    "duration": 37,
    "start_time": "2022-03-11T15:15:30.398Z"
   },
   {
    "duration": 509,
    "start_time": "2022-03-11T15:15:30.437Z"
   },
   {
    "duration": 18,
    "start_time": "2022-03-11T15:15:30.948Z"
   },
   {
    "duration": 368,
    "start_time": "2022-03-11T15:15:30.968Z"
   },
   {
    "duration": 12,
    "start_time": "2022-03-11T15:15:45.957Z"
   },
   {
    "duration": 888,
    "start_time": "2022-03-11T15:15:57.088Z"
   },
   {
    "duration": 26,
    "start_time": "2022-03-11T15:16:03.247Z"
   },
   {
    "duration": 23,
    "start_time": "2022-03-11T15:16:12.073Z"
   },
   {
    "duration": 20,
    "start_time": "2022-03-11T15:16:23.618Z"
   },
   {
    "duration": 30,
    "start_time": "2022-03-11T15:22:09.675Z"
   },
   {
    "duration": 19,
    "start_time": "2022-03-11T15:22:15.800Z"
   },
   {
    "duration": 27,
    "start_time": "2022-03-11T15:22:28.122Z"
   },
   {
    "duration": 23,
    "start_time": "2022-03-11T15:22:30.502Z"
   },
   {
    "duration": 21,
    "start_time": "2022-03-11T18:30:42.987Z"
   },
   {
    "duration": 210,
    "start_time": "2022-03-11T18:40:49.619Z"
   },
   {
    "duration": 2691,
    "start_time": "2022-03-11T18:41:08.833Z"
   },
   {
    "duration": 807,
    "start_time": "2022-03-11T18:41:37.092Z"
   },
   {
    "duration": 911,
    "start_time": "2022-03-11T18:42:00.228Z"
   },
   {
    "duration": 821,
    "start_time": "2022-03-11T18:43:10.610Z"
   },
   {
    "duration": 21,
    "start_time": "2022-03-11T18:43:50.660Z"
   },
   {
    "duration": 23,
    "start_time": "2022-03-11T18:46:00.775Z"
   },
   {
    "duration": 22,
    "start_time": "2022-03-11T18:47:18.637Z"
   },
   {
    "duration": 18,
    "start_time": "2022-03-11T18:47:43.813Z"
   },
   {
    "duration": 6,
    "start_time": "2022-03-11T18:48:17.123Z"
   },
   {
    "duration": 15,
    "start_time": "2022-03-11T18:49:06.875Z"
   },
   {
    "duration": 19,
    "start_time": "2022-03-11T18:49:15.158Z"
   },
   {
    "duration": 22,
    "start_time": "2022-03-11T18:49:39.674Z"
   },
   {
    "duration": 26,
    "start_time": "2022-03-11T18:49:54.062Z"
   },
   {
    "duration": 984,
    "start_time": "2022-03-11T18:51:38.237Z"
   },
   {
    "duration": 25,
    "start_time": "2022-03-11T18:52:47.708Z"
   },
   {
    "duration": 23,
    "start_time": "2022-03-11T18:53:16.776Z"
   },
   {
    "duration": 27,
    "start_time": "2022-03-11T18:53:35.716Z"
   },
   {
    "duration": 21,
    "start_time": "2022-03-11T18:54:05.800Z"
   },
   {
    "duration": 24,
    "start_time": "2022-03-11T18:54:12.929Z"
   },
   {
    "duration": 24,
    "start_time": "2022-03-11T18:54:22.254Z"
   },
   {
    "duration": 27,
    "start_time": "2022-03-11T18:54:44.032Z"
   },
   {
    "duration": 29,
    "start_time": "2022-03-11T18:55:05.839Z"
   },
   {
    "duration": 21,
    "start_time": "2022-03-11T18:55:50.806Z"
   },
   {
    "duration": 25,
    "start_time": "2022-03-11T18:57:37.233Z"
   },
   {
    "duration": 28,
    "start_time": "2022-03-11T18:57:43.961Z"
   },
   {
    "duration": 22,
    "start_time": "2022-03-11T18:59:31.219Z"
   },
   {
    "duration": 25,
    "start_time": "2022-03-11T18:59:41.963Z"
   },
   {
    "duration": 26,
    "start_time": "2022-03-11T19:00:36.517Z"
   },
   {
    "duration": 28,
    "start_time": "2022-03-11T19:01:37.148Z"
   },
   {
    "duration": 10,
    "start_time": "2022-03-11T19:03:07.871Z"
   },
   {
    "duration": 28,
    "start_time": "2022-03-11T19:05:42.641Z"
   },
   {
    "duration": 4879,
    "start_time": "2022-03-11T19:07:47.050Z"
   },
   {
    "duration": 39,
    "start_time": "2022-03-11T19:08:03.243Z"
   },
   {
    "duration": 231,
    "start_time": "2022-03-11T19:16:41.133Z"
   },
   {
    "duration": 10,
    "start_time": "2022-03-11T19:16:49.966Z"
   },
   {
    "duration": 9,
    "start_time": "2022-03-11T19:17:45.270Z"
   },
   {
    "duration": 30,
    "start_time": "2022-03-11T19:19:42.212Z"
   },
   {
    "duration": 28,
    "start_time": "2022-03-11T19:19:56.328Z"
   },
   {
    "duration": 28,
    "start_time": "2022-03-11T19:20:55.359Z"
   },
   {
    "duration": 27,
    "start_time": "2022-03-11T19:21:40.692Z"
   },
   {
    "duration": 28,
    "start_time": "2022-03-11T19:22:04.587Z"
   },
   {
    "duration": 217,
    "start_time": "2022-03-11T19:22:34.352Z"
   },
   {
    "duration": 216,
    "start_time": "2022-03-11T19:23:08.472Z"
   },
   {
    "duration": 33,
    "start_time": "2022-03-11T19:23:18.733Z"
   },
   {
    "duration": 11,
    "start_time": "2022-03-11T19:23:50.867Z"
   },
   {
    "duration": 30,
    "start_time": "2022-03-11T19:24:33.306Z"
   },
   {
    "duration": 241,
    "start_time": "2022-03-11T19:28:05.376Z"
   },
   {
    "duration": 9,
    "start_time": "2022-03-11T19:28:13.489Z"
   },
   {
    "duration": 142,
    "start_time": "2022-03-11T19:38:23.980Z"
   },
   {
    "duration": 221,
    "start_time": "2022-03-11T19:39:09.858Z"
   },
   {
    "duration": 321,
    "start_time": "2022-03-11T19:39:26.180Z"
   },
   {
    "duration": 335,
    "start_time": "2022-03-11T19:40:31.884Z"
   },
   {
    "duration": 331,
    "start_time": "2022-03-11T19:41:04.541Z"
   },
   {
    "duration": 113,
    "start_time": "2022-03-11T19:42:12.188Z"
   },
   {
    "duration": 291,
    "start_time": "2022-03-11T19:42:54.524Z"
   },
   {
    "duration": 305,
    "start_time": "2022-03-11T19:43:03.051Z"
   },
   {
    "duration": 3,
    "start_time": "2022-03-11T19:48:30.261Z"
   },
   {
    "duration": 4,
    "start_time": "2022-03-11T19:48:41.912Z"
   },
   {
    "duration": 6,
    "start_time": "2022-03-11T19:48:51.176Z"
   },
   {
    "duration": 5,
    "start_time": "2022-03-11T19:48:59.459Z"
   },
   {
    "duration": 5,
    "start_time": "2022-03-11T19:49:07.455Z"
   },
   {
    "duration": 14,
    "start_time": "2022-03-11T19:50:42.116Z"
   },
   {
    "duration": 8,
    "start_time": "2022-03-11T19:50:57.347Z"
   },
   {
    "duration": 14,
    "start_time": "2022-03-11T19:51:02.821Z"
   },
   {
    "duration": 464,
    "start_time": "2022-03-11T19:52:50.676Z"
   },
   {
    "duration": 508,
    "start_time": "2022-03-11T19:54:40.778Z"
   },
   {
    "duration": 319,
    "start_time": "2022-03-11T19:55:03.518Z"
   },
   {
    "duration": 305,
    "start_time": "2022-03-11T19:55:12.989Z"
   },
   {
    "duration": 439,
    "start_time": "2022-03-11T19:55:43.329Z"
   },
   {
    "duration": 456,
    "start_time": "2022-03-11T19:56:28.760Z"
   },
   {
    "duration": 450,
    "start_time": "2022-03-11T19:56:42.482Z"
   },
   {
    "duration": 456,
    "start_time": "2022-03-11T19:56:50.730Z"
   },
   {
    "duration": 625,
    "start_time": "2022-03-11T19:57:37.374Z"
   },
   {
    "duration": 16,
    "start_time": "2022-03-11T20:10:01.763Z"
   },
   {
    "duration": 58,
    "start_time": "2022-03-11T20:10:15.431Z"
   },
   {
    "duration": 253,
    "start_time": "2022-03-11T20:10:38.952Z"
   },
   {
    "duration": 57,
    "start_time": "2022-03-11T20:10:48.214Z"
   },
   {
    "duration": 1467,
    "start_time": "2022-03-11T20:28:35.737Z"
   },
   {
    "duration": 48,
    "start_time": "2022-03-11T20:28:37.206Z"
   },
   {
    "duration": 11,
    "start_time": "2022-03-11T20:28:37.256Z"
   },
   {
    "duration": 12,
    "start_time": "2022-03-11T20:28:37.268Z"
   },
   {
    "duration": 27,
    "start_time": "2022-03-11T20:28:37.282Z"
   },
   {
    "duration": 21,
    "start_time": "2022-03-11T20:28:37.311Z"
   },
   {
    "duration": 38,
    "start_time": "2022-03-11T20:28:37.334Z"
   },
   {
    "duration": 26,
    "start_time": "2022-03-11T20:28:37.374Z"
   },
   {
    "duration": 17,
    "start_time": "2022-03-11T20:28:37.403Z"
   },
   {
    "duration": 15,
    "start_time": "2022-03-11T20:28:37.422Z"
   },
   {
    "duration": 33,
    "start_time": "2022-03-11T20:28:37.463Z"
   },
   {
    "duration": 346,
    "start_time": "2022-03-11T20:28:37.498Z"
   },
   {
    "duration": 746,
    "start_time": "2022-03-11T20:28:37.846Z"
   },
   {
    "duration": 520,
    "start_time": "2022-03-11T20:28:38.594Z"
   },
   {
    "duration": 10,
    "start_time": "2022-03-11T20:28:39.116Z"
   },
   {
    "duration": 39,
    "start_time": "2022-03-11T20:28:39.127Z"
   },
   {
    "duration": 462,
    "start_time": "2022-03-11T20:28:39.168Z"
   },
   {
    "duration": 10,
    "start_time": "2022-03-11T20:28:39.632Z"
   },
   {
    "duration": 455,
    "start_time": "2022-03-11T20:28:39.644Z"
   },
   {
    "duration": 24,
    "start_time": "2022-03-11T20:28:40.101Z"
   },
   {
    "duration": 1321,
    "start_time": "2022-03-11T20:28:40.127Z"
   },
   {
    "duration": 33,
    "start_time": "2022-03-11T20:28:41.449Z"
   },
   {
    "duration": 296,
    "start_time": "2022-03-11T20:28:41.483Z"
   },
   {
    "duration": 28,
    "start_time": "2022-03-11T20:28:41.780Z"
   },
   {
    "duration": 323,
    "start_time": "2022-03-11T20:28:41.810Z"
   },
   {
    "duration": 453,
    "start_time": "2022-03-11T20:28:42.135Z"
   },
   {
    "duration": 72,
    "start_time": "2022-03-11T20:28:42.592Z"
   },
   {
    "duration": 488,
    "start_time": "2022-03-11T20:55:34.643Z"
   },
   {
    "duration": 570,
    "start_time": "2022-03-11T20:55:41.972Z"
   },
   {
    "duration": 224,
    "start_time": "2022-03-11T20:57:25.106Z"
   },
   {
    "duration": 1526,
    "start_time": "2022-03-11T21:17:14.297Z"
   },
   {
    "duration": 50,
    "start_time": "2022-03-11T21:17:15.825Z"
   },
   {
    "duration": 9,
    "start_time": "2022-03-11T21:17:15.878Z"
   },
   {
    "duration": 26,
    "start_time": "2022-03-11T21:17:15.889Z"
   },
   {
    "duration": 33,
    "start_time": "2022-03-11T21:17:15.917Z"
   },
   {
    "duration": 30,
    "start_time": "2022-03-11T21:17:15.952Z"
   },
   {
    "duration": 14,
    "start_time": "2022-03-11T21:17:15.984Z"
   },
   {
    "duration": 37,
    "start_time": "2022-03-11T21:17:16.000Z"
   },
   {
    "duration": 30,
    "start_time": "2022-03-11T21:17:16.040Z"
   },
   {
    "duration": 14,
    "start_time": "2022-03-11T21:17:16.072Z"
   },
   {
    "duration": 52,
    "start_time": "2022-03-11T21:17:16.088Z"
   },
   {
    "duration": 337,
    "start_time": "2022-03-11T21:17:16.142Z"
   },
   {
    "duration": 815,
    "start_time": "2022-03-11T21:17:16.481Z"
   },
   {
    "duration": 585,
    "start_time": "2022-03-11T21:17:17.299Z"
   },
   {
    "duration": 11,
    "start_time": "2022-03-11T21:17:17.886Z"
   },
   {
    "duration": 24,
    "start_time": "2022-03-11T21:17:17.899Z"
   },
   {
    "duration": 516,
    "start_time": "2022-03-11T21:17:17.925Z"
   },
   {
    "duration": 21,
    "start_time": "2022-03-11T21:17:18.443Z"
   },
   {
    "duration": 353,
    "start_time": "2022-03-11T21:17:18.466Z"
   },
   {
    "duration": 25,
    "start_time": "2022-03-11T21:17:18.820Z"
   },
   {
    "duration": 971,
    "start_time": "2022-03-11T21:17:18.847Z"
   },
   {
    "duration": 32,
    "start_time": "2022-03-11T21:17:19.820Z"
   },
   {
    "duration": 309,
    "start_time": "2022-03-11T21:17:19.854Z"
   },
   {
    "duration": 28,
    "start_time": "2022-03-11T21:17:20.165Z"
   },
   {
    "duration": 334,
    "start_time": "2022-03-11T21:17:20.194Z"
   },
   {
    "duration": 463,
    "start_time": "2022-03-11T21:17:20.530Z"
   },
   {
    "duration": 70,
    "start_time": "2022-03-11T21:17:20.996Z"
   },
   {
    "duration": 27990,
    "start_time": "2022-03-12T12:33:48.758Z"
   },
   {
    "duration": 77,
    "start_time": "2022-03-12T12:34:16.750Z"
   },
   {
    "duration": 14,
    "start_time": "2022-03-12T12:34:16.831Z"
   },
   {
    "duration": 37,
    "start_time": "2022-03-12T12:34:16.847Z"
   },
   {
    "duration": 39,
    "start_time": "2022-03-12T12:34:16.886Z"
   },
   {
    "duration": 65,
    "start_time": "2022-03-12T12:34:16.927Z"
   },
   {
    "duration": 19,
    "start_time": "2022-03-12T12:34:16.994Z"
   },
   {
    "duration": 36,
    "start_time": "2022-03-12T12:34:17.017Z"
   },
   {
    "duration": 26,
    "start_time": "2022-03-12T12:34:17.091Z"
   },
   {
    "duration": 24,
    "start_time": "2022-03-12T12:34:17.119Z"
   },
   {
    "duration": 79,
    "start_time": "2022-03-12T12:34:17.146Z"
   },
   {
    "duration": 626,
    "start_time": "2022-03-12T12:34:17.227Z"
   },
   {
    "duration": 1227,
    "start_time": "2022-03-12T12:34:17.856Z"
   },
   {
    "duration": 721,
    "start_time": "2022-03-12T12:34:19.086Z"
   },
   {
    "duration": 20,
    "start_time": "2022-03-12T12:34:19.810Z"
   },
   {
    "duration": 66,
    "start_time": "2022-03-12T12:34:19.834Z"
   },
   {
    "duration": 766,
    "start_time": "2022-03-12T12:34:19.903Z"
   },
   {
    "duration": 25,
    "start_time": "2022-03-12T12:34:20.671Z"
   },
   {
    "duration": 658,
    "start_time": "2022-03-12T12:34:20.699Z"
   },
   {
    "duration": 49,
    "start_time": "2022-03-12T12:34:21.360Z"
   },
   {
    "duration": 997,
    "start_time": "2022-03-12T12:34:21.412Z"
   },
   {
    "duration": 47,
    "start_time": "2022-03-12T12:34:22.411Z"
   },
   {
    "duration": 550,
    "start_time": "2022-03-12T12:34:22.463Z"
   },
   {
    "duration": 41,
    "start_time": "2022-03-12T12:34:23.016Z"
   },
   {
    "duration": 630,
    "start_time": "2022-03-12T12:34:23.082Z"
   },
   {
    "duration": 875,
    "start_time": "2022-03-12T12:34:23.715Z"
   },
   {
    "duration": 103,
    "start_time": "2022-03-12T12:34:24.592Z"
   }
  ],
  "kernelspec": {
   "display_name": "Python 3",
   "language": "python",
   "name": "python3"
  },
  "language_info": {
   "codemirror_mode": {
    "name": "ipython",
    "version": 3
   },
   "file_extension": ".py",
   "mimetype": "text/x-python",
   "name": "python",
   "nbconvert_exporter": "python",
   "pygments_lexer": "ipython3",
   "version": "3.8.8"
  },
  "toc": {
   "base_numbering": 1,
   "nav_menu": {},
   "number_sections": true,
   "sideBar": true,
   "skip_h1_title": true,
   "title_cell": "Table of Contents",
   "title_sidebar": "Contents",
   "toc_cell": false,
   "toc_position": {
    "height": "calc(100% - 180px)",
    "left": "10px",
    "top": "150px",
    "width": "289.6px"
   },
   "toc_section_display": true,
   "toc_window_display": true
  }
 },
 "nbformat": 4,
 "nbformat_minor": 2
}
